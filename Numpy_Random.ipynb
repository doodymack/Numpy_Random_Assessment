{
 "cells": [
  {
   "cell_type": "markdown",
   "id": "8090831b-db6f-423e-84c1-1eb203379ea3",
   "metadata": {},
   "source": [
    "# The Numpy.random package\n",
    "\n",
    "***\n"
   ]
  },
  {
   "cell_type": "markdown",
   "id": "c303ad68-3cc4-4ca0-b87f-6e17d169b28d",
   "metadata": {},
   "source": [
    "1. Explain the overall purpose of the package.\n",
    "2. Explain the use of the “Simple random data” and “Permutations” functions.\n",
    "3. Explain the use and purpose of at least five “Distributions” functions.\n",
    "4. Explain the use of seeds in generating pseudorandom numbers"
   ]
  },
  {
   "cell_type": "markdown",
   "id": "ea2d0efb-73ea-4907-b886-2c0412b2a444",
   "metadata": {},
   "source": [
    "NumPy (Numerical Python) is an open source Python library that’s used in almost every field of science and engineering. It’s the universal standard for working with numerical data in Python, and it’s at the core of the scientific Python and PyData ecosystems. NumPy users include everyone from beginning coders to experienced researchers doing state-of-the-art scientific and industrial research and development. The NumPy API is used extensively in Pandas, SciPy, Matplotlib, scikit-learn, scikit-image and most other data science and scientific Python package.\n",
    "\n",
    "To access NumPy and its functions it can be imported into your Python code like this:\n",
    "\n",
    "import numpy as np\n",
    "\n",
    "The imported name is shortened to np for better readability of code using NumPy. This is a widely adopted convention that you should follow so that anyone working with your code can easily understand it.\n",
    "\n",
    "#### Arrays in numpy\n",
    "While a Python list can contain different data types within a single list, all of the elements in a NumPy array should be homogeneous.\n",
    "NumPy arrays are faster and more compact than Python lists. An array consumes less memory and is convenient to use. NumPy uses much less memory to store data and it provides a mechanism of specifying the data types. This allows the code to be optimized even further.\n",
    "\n",
    "#### what is an array in numpy\n",
    "An array is a central data structure of the NumPy library. An array is a grid of values and it contains information about the raw data, how to locate an element, and how to interpret an element. It has a grid of elements that can be indexed in various ways. The elements are all of the same type, referred to as the array dtype.\n",
    "\n",
    "An array can be indexed by a tuple of nonnegative integers, by booleans, by another array, or by integers. The rank of the array is the number of dimensions. The shape of the array is a tuple of integers giving the size of the array along each dimension."
   ]
  },
  {
   "cell_type": "markdown",
   "id": "fe6740cb-3687-4bae-974b-d63459fe8c96",
   "metadata": {},
   "source": [
    "[NumPy for absolute beginners](https://numpy.org/doc/stable/user/absolute_beginners.html)"
   ]
  },
  {
   "cell_type": "markdown",
   "id": "f6fdc481-6752-42f0-a074-a9eef52361e5",
   "metadata": {},
   "source": [
    "#### examples of arrays"
   ]
  },
  {
   "cell_type": "code",
   "execution_count": 1,
   "id": "5c6c00ca-1a73-49bb-bac9-0679c6eb5380",
   "metadata": {},
   "outputs": [],
   "source": [
    "import numpy as np"
   ]
  },
  {
   "cell_type": "code",
   "execution_count": null,
   "id": "3d6a2c26-c223-4b9b-9669-be398403e429",
   "metadata": {},
   "outputs": [],
   "source": [
    "a = np.array([1, 2, 3])"
   ]
  },
  {
   "cell_type": "code",
   "execution_count": 3,
   "id": "03ddf942-a682-4232-94e8-09b347381839",
   "metadata": {},
   "outputs": [],
   "source": [
    "a = np.array([[1, 2, 3, 4], [5, 6, 7, 8], [9, 10, 11, 12]])"
   ]
  },
  {
   "cell_type": "markdown",
   "id": "62c3a567-8e03-4acb-a81b-30c12895c6af",
   "metadata": {},
   "source": [
    "We can access the elements in the array using square brackets. When you’re accessing elements, remember that indexing in NumPy starts at 0. That means that if you want to access the first element in your array, you’ll be accessing element “0”."
   ]
  },
  {
   "cell_type": "code",
   "execution_count": 5,
   "id": "10d45dfc-4ca9-49a3-81f6-59e2ab726df3",
   "metadata": {},
   "outputs": [
    {
     "name": "stdout",
     "output_type": "stream",
     "text": [
      "[5 6 7 8]\n"
     ]
    }
   ],
   "source": [
    "print(a[1])"
   ]
  },
  {
   "cell_type": "markdown",
   "id": "f3fa9a8d-a5ab-4cf4-82e8-612319663373",
   "metadata": {},
   "source": []
  },
  {
   "cell_type": "markdown",
   "id": "6a4ea7e0-5c6e-4d6e-8a01-f181852c08f7",
   "metadata": {},
   "source": [
    "#### Dimensional arrays\n",
    "An N-dimensional array is simply an array with any number of dimensions.<br> A vector is an array with a single dimension (there’s no difference between row and column vectors), while a matrix refers to an array with two dimensions. "
   ]
  },
  {
   "cell_type": "code",
   "execution_count": null,
   "id": "7e4c3534-e493-41f5-a684-97a551601d8e",
   "metadata": {},
   "outputs": [],
   "source": []
  },
  {
   "cell_type": "markdown",
   "id": "0c6e9a1e-8ae0-40f6-8eb6-0c22111c6750",
   "metadata": {},
   "source": [
    "[NumPy Random Number Generator](https://numpy.org/doc/stable/reference/random/generated/numpy.random.Generator.integers.html#numpy.random.Generator.integers)"
   ]
  },
  {
   "cell_type": "code",
   "execution_count": null,
   "id": "49ff9b19-e843-475c-9d47-e9f62c8a14b9",
   "metadata": {},
   "outputs": [],
   "source": []
  },
  {
   "cell_type": "code",
   "execution_count": null,
   "id": "6b49542a-b176-4711-8245-cd74aea7451e",
   "metadata": {},
   "outputs": [],
   "source": []
  },
  {
   "cell_type": "code",
   "execution_count": null,
   "id": "ca30ae37-5c41-4890-8d21-797bba0b1c36",
   "metadata": {},
   "outputs": [],
   "source": []
  },
  {
   "cell_type": "code",
   "execution_count": null,
   "id": "59d3d8e6-78cd-46a2-bceb-b9605275b851",
   "metadata": {},
   "outputs": [],
   "source": []
  },
  {
   "cell_type": "code",
   "execution_count": null,
   "id": "799a0100-8482-4447-ae38-17d6064c69fc",
   "metadata": {},
   "outputs": [],
   "source": []
  },
  {
   "cell_type": "code",
   "execution_count": null,
   "id": "8df8f0b4-4035-4694-a6ee-29dc5d2d9f0a",
   "metadata": {},
   "outputs": [],
   "source": []
  },
  {
   "cell_type": "code",
   "execution_count": 2,
   "id": "738de987-1f92-4906-be84-cf0b0dcf16c6",
   "metadata": {},
   "outputs": [
    {
     "name": "stdout",
     "output_type": "stream",
     "text": [
      "Generator(PCG64)\n"
     ]
    }
   ],
   "source": [
    "#rng is random number generator\n",
    "rng = np.random.default_rng(12345)\n",
    "print(rng)"
   ]
  },
  {
   "cell_type": "code",
   "execution_count": 3,
   "id": "fa3e3496-3b14-4cbb-a4d5-3c291b794de5",
   "metadata": {},
   "outputs": [
    {
     "data": {
      "text/plain": [
       "array([0, 0, 0, 0, 0, 0, 0, 0, 0, 0], dtype=int64)"
      ]
     },
     "execution_count": 3,
     "metadata": {},
     "output_type": "execute_result"
    }
   ],
   "source": [
    "rng = np.random.default_rng()\n",
    "rng.integers(1, size=10)"
   ]
  },
  {
   "cell_type": "code",
   "execution_count": 4,
   "id": "e96f54df-1152-4bcf-8769-fb017d5787e4",
   "metadata": {},
   "outputs": [
    {
     "data": {
      "text/plain": [
       "array([ 4,  4,  4, 11,  1, 11,  0,  3, 10, 11], dtype=int64)"
      ]
     },
     "execution_count": 4,
     "metadata": {},
     "output_type": "execute_result"
    }
   ],
   "source": [
    "rng = np.random.default_rng()\n",
    "rng.integers(12, size=10)"
   ]
  },
  {
   "cell_type": "code",
   "execution_count": 5,
   "id": "0972a305-c7e6-4121-a906-5e861d67fcbc",
   "metadata": {},
   "outputs": [
    {
     "data": {
      "text/plain": [
       "array([6, 2, 7], dtype=int64)"
      ]
     },
     "execution_count": 5,
     "metadata": {},
     "output_type": "execute_result"
    }
   ],
   "source": [
    "rng = np.random.default_rng(12345)\n",
    "rints = rng.integers(low=0, high=10, size=3)\n",
    "rints\n"
   ]
  },
  {
   "cell_type": "code",
   "execution_count": 6,
   "id": "bc9af33c-d64a-4761-b8e2-510d621ffb45",
   "metadata": {},
   "outputs": [
    {
     "data": {
      "text/plain": [
       "array([[1, 1, 3, 3],\n",
       "       [3, 4, 1, 4]], dtype=int64)"
      ]
     },
     "execution_count": 6,
     "metadata": {},
     "output_type": "execute_result"
    }
   ],
   "source": [
    "rng.integers(5, size=(2, 4))"
   ]
  },
  {
   "cell_type": "code",
   "execution_count": 7,
   "id": "36028bd8-a10b-4436-9352-9491b4876c8b",
   "metadata": {},
   "outputs": [
    {
     "data": {
      "text/plain": [
       "array([[0.77395605, 0.43887844, 0.85859792],\n",
       "       [0.69736803, 0.09417735, 0.97562235],\n",
       "       [0.7611397 , 0.78606431, 0.12811363]])"
      ]
     },
     "execution_count": 7,
     "metadata": {},
     "output_type": "execute_result"
    }
   ],
   "source": [
    "rng = np.random.default_rng(seed=42)\n",
    "arr2 = rng.random((3, 3))\n",
    "arr2\n",
    "# run it again and you get the seame 'random' values in the array\n"
   ]
  },
  {
   "cell_type": "code",
   "execution_count": 8,
   "id": "51b3f868-d79a-4291-8064-a66cedea481c",
   "metadata": {},
   "outputs": [
    {
     "data": {
      "text/plain": [
       "array([83, 45, 50, 37, 18, 92, 78, 64, 40, 82, 54, 44, 45, 22,  9, 55, 88,\n",
       "        6, 85, 82, 27, 63, 16, 75, 70, 35,  6, 97, 44, 89, 67, 77, 75, 19,\n",
       "       36, 46, 49,  4, 54, 15, 74, 68, 92, 74, 36, 96, 41, 32, 90, 37,  7,\n",
       "       46, 79, 18, 46, 12, 68, 47, 33, 22, 56, 66, 94, 43, 16, 83, 62, 70,\n",
       "        9, 31, 76, 83, 43, 80, 84, 38, 89, 28, 23, 68, 63, 13, 83, 19, 80,\n",
       "        0, 79, 78, 78, 66, 47, 70, 27, 78, 55, 45, 50, 56,  3, 13],\n",
       "      dtype=int64)"
      ]
     },
     "execution_count": 8,
     "metadata": {},
     "output_type": "execute_result"
    }
   ],
   "source": [
    "rng.integers(100, size=100)"
   ]
  },
  {
   "cell_type": "code",
   "execution_count": 9,
   "id": "448b79bf-be13-457e-8b62-aa77d3895e9d",
   "metadata": {},
   "outputs": [],
   "source": [
    "x = rng.integers(100, size=10000)"
   ]
  },
  {
   "cell_type": "code",
   "execution_count": 10,
   "id": "64b7578c-89fd-4043-884d-3da3187a72ba",
   "metadata": {},
   "outputs": [],
   "source": [
    "import matplotlib.pyplot as plt"
   ]
  },
  {
   "cell_type": "code",
   "execution_count": 11,
   "id": "65483ef2-d487-43d1-805f-79370dd24f56",
   "metadata": {},
   "outputs": [
    {
     "data": {
      "text/plain": [
       "(array([ 976., 1043., 1028.,  971., 1040., 1037.,  958., 1004.,  959.,\n",
       "         984.]),\n",
       " array([ 0. ,  9.9, 19.8, 29.7, 39.6, 49.5, 59.4, 69.3, 79.2, 89.1, 99. ]),\n",
       " <BarContainer object of 10 artists>)"
      ]
     },
     "execution_count": 11,
     "metadata": {},
     "output_type": "execute_result"
    },
    {
     "data": {
      "image/png": "[encoded data removed]",
      "text/plain": [
       "<Figure size 432x288 with 1 Axes>"
      ]
     },
     "metadata": {
      "needs_background": "light"
     },
     "output_type": "display_data"
    }
   ],
   "source": [
    "matplotlib inline # magic command if histogram dpesnt show\n",
    "plt.hist(x)\n",
    "plt.show() # may not be needed but again insert if not showing in notebook"
   ]
  },
  {
   "cell_type": "markdown",
   "id": "443e2f3d-9a8b-43ae-8207-706908e7b5ab",
   "metadata": {},
   "source": [
    "[essential tips for writing with Jupyter Notebooks](https://towardsdatascience.com/7-essential-tips-for-writing-with-jupyter-notebook-60972a1a8901)"
   ]
  },
  {
   "cell_type": "code",
   "execution_count": null,
   "id": "e18af704-9fd2-45fa-8885-564630f3a7ae",
   "metadata": {},
   "outputs": [],
   "source": []
  }
 ],
 "metadata": {
  "kernelspec": {
   "display_name": "Python 3",
   "language": "python",
   "name": "python3"
  },
  "language_info": {
   "codemirror_mode": {
    "name": "ipython",
    "version": 3
   },
   "file_extension": ".py",
   "mimetype": "text/x-python",
   "name": "python",
   "nbconvert_exporter": "python",
   "pygments_lexer": "ipython3",
   "version": "3.8.8"
  }
 },
 "nbformat": 4,
 "nbformat_minor": 5
}
