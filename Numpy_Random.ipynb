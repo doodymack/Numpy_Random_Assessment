{
 "cells": [
  {
   "cell_type": "markdown",
   "id": "8090831b-db6f-423e-84c1-1eb203379ea3",
   "metadata": {},
   "source": [
    "# The Numpy.random package\n",
    "\n",
    "***\n",
    "---\n"
   ]
  },
  {
   "cell_type": "markdown",
   "id": "995ffdc3-1571-4986-82f0-780914cbf3f4",
   "metadata": {},
   "source": [
    "## NumPy\n",
    "\n",
    "NumPy (Numerical Python) is an open source Python library that’s used in almost every field of science and engineering. It’s the universal standard for working with numerical data in Python, and it’s at the core of the scientific Python and PyData ecosystems. NumPy users include everyone from beginning coders to experienced researchers doing state-of-the-art scientific and industrial research and development. The NumPy API is used extensively in Pandas, SciPy, Matplotlib, scikit-learn, scikit-image and most other data science and scientific Python package.\n",
    "\n",
    "To access NumPy and its functions it can be imported into your Python code like this:\n",
    "\n",
    "**import numpy as np**\n",
    "\n",
    "The imported name is shortened to np for better readability of code using NumPy. <br> This is a widely adopted convention that you should follow so that anyone working with your code can easily understand it <br><br><br>\n",
    "*\n",
    "<span style=\"color:blue\">Note: The below section on numpy arrays can be skipped should the reader be already familiar</span>"
   ]
  },
  {
   "cell_type": "markdown",
   "id": "66354075-c7c8-432c-9fce-b6952705a136",
   "metadata": {},
   "source": [
    "---\n",
    "---\n",
    "<br>\n",
    "\n",
    "## Arrays in numpy\n",
    "While a Python list can contain different data types within a single list, all of the elements in a NumPy array should be homogeneous.\n",
    "NumPy arrays are faster and more compact than Python lists. An array consumes less memory and is convenient to use. NumPy uses much less memory to store data and it provides a mechanism of specifying the data types. This allows the code to be optimized even further.\n",
    "\n",
    "#### what is an array in numpy\n",
    "An array is a central data structure of the NumPy library. An array is a grid of values and it contains information about the raw data, how to locate an element, and how to interpret an element. It has a grid of elements that can be indexed in various ways. The elements are all of the same type, referred to as the array dtype.\n",
    "\n",
    "An array can be indexed by a tuple of nonnegative integers, by booleans, by another array, or by integers. The rank of the array is the number of dimensions. The shape of the array is a tuple of integers giving the size of the array along each dimension."
   ]
  },
  {
   "cell_type": "markdown",
   "id": "fe6740cb-3687-4bae-974b-d63459fe8c96",
   "metadata": {},
   "source": [
    "[NumPy for absolute beginners](https://numpy.org/doc/stable/user/absolute_beginners.html) <br>\n",
    "\n",
    "[Random Sampling/Permutations/Distributions](https://numpy.org/doc/1.16/reference/routines.random.html)\n",
    "\n",
    "[Numpy Random Sampling](https://numpy.org/doc/stable/reference/random/index.html?highlight=random#module-numpy.random)"
   ]
  },
  {
   "cell_type": "markdown",
   "id": "f6fdc481-6752-42f0-a074-a9eef52361e5",
   "metadata": {},
   "source": [
    "<br>\n",
    "\n",
    "#### Examples of arrays"
   ]
  },
  {
   "cell_type": "code",
   "execution_count": 1,
   "id": "5c6c00ca-1a73-49bb-bac9-0679c6eb5380",
   "metadata": {},
   "outputs": [],
   "source": [
    "import numpy as np"
   ]
  },
  {
   "cell_type": "code",
   "execution_count": 2,
   "id": "3d6a2c26-c223-4b9b-9669-be398403e429",
   "metadata": {},
   "outputs": [],
   "source": [
    "a = np.array([1, 2, 3])"
   ]
  },
  {
   "cell_type": "code",
   "execution_count": 3,
   "id": "03ddf942-a682-4232-94e8-09b347381839",
   "metadata": {},
   "outputs": [],
   "source": [
    "a = np.array([[1, 2, 3, 4], [5, 6, 7, 8], [9, 10, 11, 12]])"
   ]
  },
  {
   "cell_type": "markdown",
   "id": "62c3a567-8e03-4acb-a81b-30c12895c6af",
   "metadata": {},
   "source": [
    "\n",
    "<br>\n",
    "\n",
    "We can access the elements in the array using square brackets. <br>When you’re accessing elements, remember that indexing in NumPy starts at 0. <br>That means that if you want to access the first element in your array, you’ll be accessing element “0”."
   ]
  },
  {
   "cell_type": "code",
   "execution_count": 4,
   "id": "10d45dfc-4ca9-49a3-81f6-59e2ab726df3",
   "metadata": {},
   "outputs": [
    {
     "name": "stdout",
     "output_type": "stream",
     "text": [
      "[5 6 7 8]\n"
     ]
    }
   ],
   "source": [
    "print(a[1])"
   ]
  },
  {
   "cell_type": "markdown",
   "id": "4f41631f-c7bc-49fb-9982-48816a3b9f1e",
   "metadata": {},
   "source": [
    "<br>\n",
    "\n",
    "#### How to define an array without manually creating it"
   ]
  },
  {
   "cell_type": "code",
   "execution_count": 5,
   "id": "f946632c-ed18-44f3-9f53-28d6573d5503",
   "metadata": {},
   "outputs": [
    {
     "data": {
      "text/plain": [
       "array([0., 0., 0., 0., 0., 0., 0., 0., 0., 0., 0.])"
      ]
     },
     "execution_count": 5,
     "metadata": {},
     "output_type": "execute_result"
    }
   ],
   "source": [
    "# works with 'ones' also\n",
    "np.zeros(11)"
   ]
  },
  {
   "cell_type": "code",
   "execution_count": 6,
   "id": "60983402-7a19-4f6f-95d2-6cfc52c9f11d",
   "metadata": {},
   "outputs": [
    {
     "data": {
      "text/plain": [
       "array([1.26155766e-311, 2.16847386e-028, 4.40706556e-321, 6.95314361e-310,\n",
       "       2.42162669e-008])"
      ]
     },
     "execution_count": 6,
     "metadata": {},
     "output_type": "execute_result"
    }
   ],
   "source": [
    "#create an array with randon floats of a specified number \n",
    "# if want it randomised yrestart kernel to create new random numbers#\n",
    "np.empty(5)"
   ]
  },
  {
   "cell_type": "code",
   "execution_count": 7,
   "id": "c6b83b3b-b3f0-413e-b236-ccf2f4150b84",
   "metadata": {},
   "outputs": [
    {
     "data": {
      "text/plain": [
       "array([ 0,  1,  2,  3,  4,  5,  6,  7,  8,  9, 10, 11, 12, 13, 14, 15, 16,\n",
       "       17, 18, 19, 20, 21, 22, 23, 24, 25, 26, 27, 28, 29, 30, 31, 32, 33,\n",
       "       34, 35, 36, 37, 38, 39])"
      ]
     },
     "execution_count": 7,
     "metadata": {},
     "output_type": "execute_result"
    }
   ],
   "source": [
    "# create an array with 40 elements\n",
    "np.arange(40)"
   ]
  },
  {
   "cell_type": "code",
   "execution_count": 8,
   "id": "d88424ba-8d08-4f04-bdac-90c3c02df910",
   "metadata": {},
   "outputs": [
    {
     "data": {
      "text/plain": [
       "array([ 2,  4,  6,  8, 10, 12, 14, 16, 18, 20, 22, 24, 26, 28, 30, 32])"
      ]
     },
     "execution_count": 8,
     "metadata": {},
     "output_type": "execute_result"
    }
   ],
   "source": [
    "# specify the first number, last number, and the step size\n",
    "np.arange(2,33,2)"
   ]
  },
  {
   "cell_type": "code",
   "execution_count": 9,
   "id": "2ac7be92-6077-4a6a-9afa-3c96c56b9321",
   "metadata": {},
   "outputs": [
    {
     "data": {
      "text/plain": [
       "array([  2. ,  26.5,  51. ,  75.5, 100. ])"
      ]
     },
     "execution_count": 9,
     "metadata": {},
     "output_type": "execute_result"
    }
   ],
   "source": [
    "#use np.linspace() to create an array with values that are spaced linearly in a specified interval\n",
    "np.linspace(2,100, num=5)"
   ]
  },
  {
   "cell_type": "code",
   "execution_count": 10,
   "id": "d6402b63-892e-4f42-8500-dcead3691014",
   "metadata": {},
   "outputs": [
    {
     "data": {
      "text/plain": [
       "array([1, 1, 1, 1, 1, 1, 1, 1, 1, 1, 1, 1, 1, 1, 1, 1, 1, 1, 1, 1],\n",
       "      dtype=int64)"
      ]
     },
     "execution_count": 10,
     "metadata": {},
     "output_type": "execute_result"
    }
   ],
   "source": [
    "#default data type is floating point (np.float64) but if want e.g integer\n",
    "x = np.ones(20, dtype=np.int64)\n",
    "x\n",
    "#e.g. no decimal points"
   ]
  },
  {
   "cell_type": "markdown",
   "id": "5d671a18-8b2f-43d0-b66c-77fc40901bd6",
   "metadata": {},
   "source": [
    "<br>\n",
    "\n",
    "#### sorting an array"
   ]
  },
  {
   "cell_type": "code",
   "execution_count": 11,
   "id": "6bbc9c8a-71ce-4011-a11a-02af65110393",
   "metadata": {},
   "outputs": [
    {
     "data": {
      "text/plain": [
       "array([2, 1, 5, 3, 7, 4, 6, 8])"
      ]
     },
     "execution_count": 11,
     "metadata": {},
     "output_type": "execute_result"
    }
   ],
   "source": [
    "# array numbers are not sorted\n",
    "arr = np.array([2, 1, 5, 3, 7, 4, 6, 8])\n",
    "arr"
   ]
  },
  {
   "cell_type": "code",
   "execution_count": 12,
   "id": "0f86bd16-99bf-4094-acbf-8138031d47b8",
   "metadata": {},
   "outputs": [
    {
     "data": {
      "text/plain": [
       "array([1, 2, 3, 4, 5, 6, 7, 8])"
      ]
     },
     "execution_count": 12,
     "metadata": {},
     "output_type": "execute_result"
    }
   ],
   "source": [
    "#array numbers are sorted by size\n",
    "arr = np.array([2, 1, 5, 3, 7, 4, 6, 8])\n",
    "np.sort(arr)"
   ]
  },
  {
   "cell_type": "markdown",
   "id": "5645ef87-8c2b-46d6-835a-ace9dd37b56d",
   "metadata": {},
   "source": [
    "<br>\n",
    "\n",
    "#### concatenation of arrays"
   ]
  },
  {
   "cell_type": "code",
   "execution_count": 13,
   "id": "2e25f7e6-faa3-4baa-b3cf-1fabb1d022c0",
   "metadata": {},
   "outputs": [
    {
     "data": {
      "text/plain": [
       "array([1, 2, 3, 4, 5, 6, 7, 8, 9])"
      ]
     },
     "execution_count": 13,
     "metadata": {},
     "output_type": "execute_result"
    }
   ],
   "source": [
    "a = np.array([1, 2, 3, 4])\n",
    "b = np.array([5, 6, 7, 8, 9])\n",
    "np.concatenate ((a,b))"
   ]
  },
  {
   "cell_type": "code",
   "execution_count": 14,
   "id": "17a34778-b891-4d6e-a3b6-e1b4f29fee13",
   "metadata": {},
   "outputs": [
    {
     "data": {
      "text/plain": [
       "array([5, 6, 7, 8, 9, 1, 2, 3, 4])"
      ]
     },
     "execution_count": 14,
     "metadata": {},
     "output_type": "execute_result"
    }
   ],
   "source": [
    "#remember the double brackets\n",
    "#new array lists elements in order called\n",
    "np.concatenate ((b,a))"
   ]
  },
  {
   "cell_type": "code",
   "execution_count": 15,
   "id": "3a4f23c6-9d17-4cb1-b182-97fc4a761a17",
   "metadata": {},
   "outputs": [
    {
     "data": {
      "text/plain": [
       "array([5, 6, 7, 8, 9, 5, 6, 7, 8, 9])"
      ]
     },
     "execution_count": 15,
     "metadata": {},
     "output_type": "execute_result"
    }
   ],
   "source": [
    "# can concatenate one of the two arrays x times\n",
    "np.concatenate ((b,b))"
   ]
  },
  {
   "cell_type": "code",
   "execution_count": 16,
   "id": "cd1d8ba3-fddf-4392-8b40-eb13b4dc9a2e",
   "metadata": {},
   "outputs": [
    {
     "data": {
      "text/plain": [
       "array([[1, 2],\n",
       "       [3, 4],\n",
       "       [5, 6]])"
      ]
     },
     "execution_count": 16,
     "metadata": {},
     "output_type": "execute_result"
    }
   ],
   "source": [
    "# concatenate two arrays of different dimensions\n",
    "x = np.array([[1, 2], [3, 4]])\n",
    "y = np.array([[5, 6]])\n",
    "np.concatenate ((x,y)) #, axis =0)"
   ]
  },
  {
   "cell_type": "markdown",
   "id": "6a4ea7e0-5c6e-4d6e-8a01-f181852c08f7",
   "metadata": {},
   "source": [
    "<br>\n",
    "\n",
    "#### Dimensional arrays\n",
    "An N-dimensional array is simply an array with any number of dimensions.<br> A vector is an array with a single dimension (there’s no difference between row and column vectors), while a matrix refers to an array with two dimensions. "
   ]
  },
  {
   "cell_type": "code",
   "execution_count": 17,
   "id": "7e4c3534-e493-41f5-a684-97a551601d8e",
   "metadata": {},
   "outputs": [],
   "source": [
    "#dimensions within square brackets\n",
    "#see below each array in square brackets is bracketed again- three of these\n",
    "array_x = np.array([[[0, 1, 2, 3],\n",
    "                          [4, 5, 6, 7]], \n",
    "                    \n",
    "                    [[0 ,1 ,2, 3],\n",
    "                     [4, 5, 6, 7]],\n",
    "                    \n",
    "                          [[0, 1, 2, 3],\n",
    "                           [4, 5, 6, 7]]])"
   ]
  },
  {
   "cell_type": "code",
   "execution_count": 18,
   "id": "49ff9b19-e843-475c-9d47-e9f62c8a14b9",
   "metadata": {},
   "outputs": [
    {
     "data": {
      "text/plain": [
       "3"
      ]
     },
     "execution_count": 18,
     "metadata": {},
     "output_type": "execute_result"
    }
   ],
   "source": [
    "array_x.ndim"
   ]
  },
  {
   "cell_type": "code",
   "execution_count": 19,
   "id": "6b49542a-b176-4711-8245-cd74aea7451e",
   "metadata": {},
   "outputs": [
    {
     "data": {
      "text/plain": [
       "24"
      ]
     },
     "execution_count": 19,
     "metadata": {},
     "output_type": "execute_result"
    }
   ],
   "source": [
    "array_x.size"
   ]
  },
  {
   "cell_type": "code",
   "execution_count": 20,
   "id": "ca30ae37-5c41-4890-8d21-797bba0b1c36",
   "metadata": {},
   "outputs": [
    {
     "data": {
      "text/plain": [
       "(3, 2, 4)"
      ]
     },
     "execution_count": 20,
     "metadata": {},
     "output_type": "execute_result"
    }
   ],
   "source": [
    "# rows, columns\n",
    "#dimensions, rows, columns\n",
    "array_x.shape"
   ]
  },
  {
   "cell_type": "markdown",
   "id": "dcf8ddcd-2049-4d62-95fe-44f135e6b6fd",
   "metadata": {},
   "source": [
    "<br>\n",
    "\n",
    "#### Reshape an array"
   ]
  },
  {
   "cell_type": "code",
   "execution_count": 21,
   "id": "d0f25fb8-8e14-493a-8484-ee1237bb212e",
   "metadata": {},
   "outputs": [
    {
     "data": {
      "text/plain": [
       "array([[1, 2],\n",
       "       [3, 4],\n",
       "       [5, 6]])"
      ]
     },
     "execution_count": 21,
     "metadata": {},
     "output_type": "execute_result"
    }
   ],
   "source": [
    "c= np.array([1, 2, 3,4,5,6])\n",
    "b = c.reshape(3, 2)\n",
    "b"
   ]
  },
  {
   "cell_type": "markdown",
   "id": "6ca50fa4-d4a7-49aa-b964-69b34255b83f",
   "metadata": {},
   "source": [
    "<br>\n",
    "\n",
    "#### Indexing & slicing "
   ]
  },
  {
   "cell_type": "code",
   "execution_count": 22,
   "id": "7bd5799e-1728-4b3e-a967-1a36bb6dda63",
   "metadata": {},
   "outputs": [],
   "source": [
    "# NumPy & Python count elements as: 0,1,2,3,4,5\n",
    "data = np.array([1, 2, 3, 4, 5, 6])"
   ]
  },
  {
   "cell_type": "code",
   "execution_count": 23,
   "id": "33a69242-926a-427e-a8dd-a420eaa82bea",
   "metadata": {},
   "outputs": [
    {
     "data": {
      "text/plain": [
       "2"
      ]
     },
     "execution_count": 23,
     "metadata": {},
     "output_type": "execute_result"
    }
   ],
   "source": [
    "data[1]"
   ]
  },
  {
   "cell_type": "code",
   "execution_count": 24,
   "id": "3cf2f4d7-7c7a-47a7-be99-be8f403c8410",
   "metadata": {},
   "outputs": [
    {
     "data": {
      "text/plain": [
       "array([2, 3, 4])"
      ]
     },
     "execution_count": 24,
     "metadata": {},
     "output_type": "execute_result"
    }
   ],
   "source": [
    "data[1:4]"
   ]
  },
  {
   "cell_type": "code",
   "execution_count": 25,
   "id": "99f041ad-b1f0-4882-a9ec-16562411ac18",
   "metadata": {},
   "outputs": [
    {
     "data": {
      "text/plain": [
       "array([4, 5, 6])"
      ]
     },
     "execution_count": 25,
     "metadata": {},
     "output_type": "execute_result"
    }
   ],
   "source": [
    "data[3:]"
   ]
  },
  {
   "cell_type": "code",
   "execution_count": 26,
   "id": "bbac4b8c-a6d7-4a7f-bf43-8f529510676d",
   "metadata": {},
   "outputs": [
    {
     "data": {
      "text/plain": [
       "array([5, 6])"
      ]
     },
     "execution_count": 26,
     "metadata": {},
     "output_type": "execute_result"
    }
   ],
   "source": [
    "data[-2:]"
   ]
  },
  {
   "cell_type": "code",
   "execution_count": 27,
   "id": "9d210006-3ee1-4c94-82fb-6ff720273bd5",
   "metadata": {},
   "outputs": [
    {
     "name": "stdout",
     "output_type": "stream",
     "text": [
      "[1 2 3 4]\n"
     ]
    }
   ],
   "source": [
    "#print all the values in the array <5\n",
    "a = np.array([[1 , 2, 3, 4], [5, 6, 7, 8], [9, 10, 11, 12]])\n",
    "print(a[a < 5])"
   ]
  },
  {
   "cell_type": "code",
   "execution_count": 28,
   "id": "cb90b7f8-631e-489e-9656-2ecb6247266e",
   "metadata": {},
   "outputs": [
    {
     "name": "stdout",
     "output_type": "stream",
     "text": [
      "[ 5  6  7  8  9 10 11 12]\n"
     ]
    }
   ],
   "source": [
    "#write a function 'greater than four'\n",
    "greater_than_four = (a >=5)\n",
    "print(a[greater_than_four])"
   ]
  },
  {
   "cell_type": "code",
   "execution_count": 29,
   "id": "5b8e85c4-74f2-4e27-a5f8-39f9b8a7e63f",
   "metadata": {},
   "outputs": [
    {
     "name": "stdout",
     "output_type": "stream",
     "text": [
      "[array([[False, False, False, False],\n",
      "       [ True,  True,  True,  True],\n",
      "       [ True,  True,  True,  True]])]\n"
     ]
    }
   ],
   "source": [
    "#write a function 'greater than four' returns a boolean\n",
    "greater_than_four = (a >=5)\n",
    "print([greater_than_four])"
   ]
  },
  {
   "cell_type": "code",
   "execution_count": 30,
   "id": "58501952-a554-46a4-9b74-81a98784bf01",
   "metadata": {},
   "outputs": [
    {
     "name": "stdout",
     "output_type": "stream",
     "text": [
      "[array([ 2,  4,  6,  8, 10, 12])]\n"
     ]
    }
   ],
   "source": [
    "divisible_by_2 = a[a%2==0]\n",
    "print([divisible_by_2])"
   ]
  },
  {
   "cell_type": "code",
   "execution_count": 31,
   "id": "1721a8dd-a5e7-4004-a503-7e7e28ad3426",
   "metadata": {},
   "outputs": [
    {
     "name": "stdout",
     "output_type": "stream",
     "text": [
      "[4 5 6 7 8]\n"
     ]
    }
   ],
   "source": [
    "#apply two conditions\n",
    "c = a[(a > 3) & (a < 9)]\n",
    "print(c)"
   ]
  },
  {
   "cell_type": "code",
   "execution_count": 32,
   "id": "dc88c75b-49e9-4d03-8c14-c8e436b65548",
   "metadata": {},
   "outputs": [
    {
     "name": "stdout",
     "output_type": "stream",
     "text": [
      "(array([0, 0, 0, 0], dtype=int64), array([0, 1, 2, 3], dtype=int64))\n"
     ]
    }
   ],
   "source": [
    "# rows and columns then signify locations starting with row 0 and column 0 top left of dataframe\n",
    "b = np.nonzero(a < 5)\n",
    "print(b)"
   ]
  },
  {
   "cell_type": "markdown",
   "id": "ae408883-9558-4afd-bb2f-095f56585ab6",
   "metadata": {},
   "source": [
    "<br>\n",
    "\n",
    "#### Create an array from exisitng array"
   ]
  },
  {
   "cell_type": "code",
   "execution_count": 33,
   "id": "1fd73d1d-dd07-4e9f-94f2-ff8437e82f01",
   "metadata": {},
   "outputs": [
    {
     "data": {
      "text/plain": [
       "array([4, 5, 6, 7, 8])"
      ]
     },
     "execution_count": 33,
     "metadata": {},
     "output_type": "execute_result"
    }
   ],
   "source": [
    "# recreate a new array from position 3 to 8 \n",
    "# array numbering starts at zero\n",
    "# element in position 3 is included , element at position 8 is excluded\n",
    "a = np.array([1,  2,  3,  4,  5,  6,  7,  8,  9, 10])\n",
    "arr1 = a[3:8]\n",
    "arr1"
   ]
  },
  {
   "cell_type": "markdown",
   "id": "44754f6b-9fd4-4d48-88bb-3592d19e42cb",
   "metadata": {},
   "source": [
    "<br>\n",
    "\n",
    "#### Stacking arrays <br>"
   ]
  },
  {
   "cell_type": "code",
   "execution_count": 34,
   "id": "c883f359-d120-4a1d-9ba6-9198359b1ae0",
   "metadata": {},
   "outputs": [
    {
     "data": {
      "text/plain": [
       "array([[1, 1],\n",
       "       [2, 2],\n",
       "       [3, 3],\n",
       "       [4, 4]])"
      ]
     },
     "execution_count": 34,
     "metadata": {},
     "output_type": "execute_result"
    }
   ],
   "source": [
    "# v stack = vertical stack\n",
    "#Note: a1 = np.array  as below is the same i.e [2,2] on next line\n",
    "#              ([[1, 1],\n",
    "#                 [2, 2]])\n",
    "a1 = np.array([[1, 1],[2, 2]])\n",
    "\n",
    "a2 = np.array([[3, 3],[4, 4]])\n",
    "\n",
    "np.vstack((a1, a2))"
   ]
  },
  {
   "cell_type": "code",
   "execution_count": 35,
   "id": "93313763-ff76-45c0-bac5-57cdfa90ede5",
   "metadata": {},
   "outputs": [
    {
     "data": {
      "text/plain": [
       "array([[1, 1, 3, 3],\n",
       "       [2, 2, 4, 4]])"
      ]
     },
     "execution_count": 35,
     "metadata": {},
     "output_type": "execute_result"
    }
   ],
   "source": [
    "# or can stack them horizontally so that 1st row of 1st array then 1st row of 2nd array etc\n",
    "np.hstack((a1, a2))"
   ]
  },
  {
   "cell_type": "code",
   "execution_count": 36,
   "id": "0e93c593-7d72-4edc-a0d7-35a51c32daae",
   "metadata": {},
   "outputs": [
    {
     "data": {
      "text/plain": [
       "array([[ 1,  2,  3,  4,  5,  6,  7,  8,  9, 10, 11, 12],\n",
       "       [13, 14, 15, 16, 17, 18, 19, 20, 21, 22, 23, 24]])"
      ]
     },
     "execution_count": 36,
     "metadata": {},
     "output_type": "execute_result"
    }
   ],
   "source": [
    "# create two arrays using elements 1-24\n",
    "x = np.arange(1, 25).reshape(2, 12)\n",
    "x"
   ]
  },
  {
   "cell_type": "code",
   "execution_count": 37,
   "id": "13826c98-84e1-4866-9920-064f65ac7f7e",
   "metadata": {},
   "outputs": [
    {
     "data": {
      "text/plain": [
       "[array([[ 1,  2,  3,  4],\n",
       "        [13, 14, 15, 16]]),\n",
       " array([[ 5,  6,  7,  8],\n",
       "        [17, 18, 19, 20]]),\n",
       " array([[ 9, 10, 11, 12],\n",
       "        [21, 22, 23, 24]])]"
      ]
     },
     "execution_count": 37,
     "metadata": {},
     "output_type": "execute_result"
    }
   ],
   "source": [
    "#reshape: split into three dimensions\n",
    "np.hsplit(x, 3)"
   ]
  },
  {
   "cell_type": "code",
   "execution_count": 38,
   "id": "0cf51dfb-ce2a-498b-86a9-f5a8cce5d79d",
   "metadata": {},
   "outputs": [
    {
     "data": {
      "text/plain": [
       "(3, 2, 4)"
      ]
     },
     "execution_count": 38,
     "metadata": {},
     "output_type": "execute_result"
    }
   ],
   "source": [
    "# get additional information on array\n",
    "#array_x.ndim\n",
    "array_x.shape\n",
    "#array_x.size"
   ]
  },
  {
   "cell_type": "code",
   "execution_count": 39,
   "id": "7fb81d60-175a-45a7-a73d-df0c8cc3ef82",
   "metadata": {},
   "outputs": [
    {
     "data": {
      "text/plain": [
       "[array([[ 1,  2,  3],\n",
       "        [13, 14, 15]]),\n",
       " array([[ 4],\n",
       "        [16]]),\n",
       " array([[ 5,  6,  7,  8,  9, 10, 11, 12],\n",
       "        [17, 18, 19, 20, 21, 22, 23, 24]])]"
      ]
     },
     "execution_count": 39,
     "metadata": {},
     "output_type": "execute_result"
    }
   ],
   "source": [
    "# split the two arrays in x after 3rd and 4th column:\n",
    "np.hsplit(x, (3, 4))"
   ]
  },
  {
   "cell_type": "code",
   "execution_count": 40,
   "id": "10057a48-1177-4fe8-badf-32a4c2bec8e9",
   "metadata": {},
   "outputs": [
    {
     "data": {
      "text/plain": [
       "[array([[ 1,  2,  3],\n",
       "        [13, 14, 15]]),\n",
       " array([[ 4],\n",
       "        [16]]),\n",
       " array([[ 5],\n",
       "        [17]]),\n",
       " array([[ 6,  7,  8,  9, 10, 11, 12],\n",
       "        [18, 19, 20, 21, 22, 23, 24]])]"
      ]
     },
     "execution_count": 40,
     "metadata": {},
     "output_type": "execute_result"
    }
   ],
   "source": [
    "# split the two arrays in x after 3rd,4th and 5th column:\n",
    "np.hsplit(x, (3, 4, 5))"
   ]
  },
  {
   "cell_type": "code",
   "execution_count": 41,
   "id": "d2d5680c-19db-47e1-9715-9cd72294c2af",
   "metadata": {},
   "outputs": [
    {
     "data": {
      "text/plain": [
       "[array([[ 1,  2],\n",
       "        [13, 14]]),\n",
       " array([[ 3],\n",
       "        [15]]),\n",
       " array([[ 4],\n",
       "        [16]]),\n",
       " array([[ 5],\n",
       "        [17]]),\n",
       " array([[ 6],\n",
       "        [18]]),\n",
       " array([[ 7],\n",
       "        [19]]),\n",
       " array([[ 8],\n",
       "        [20]]),\n",
       " array([[ 9],\n",
       "        [21]]),\n",
       " array([[10],\n",
       "        [22]]),\n",
       " array([[11],\n",
       "        [23]]),\n",
       " array([[12],\n",
       "        [24]])]"
      ]
     },
     "execution_count": 41,
     "metadata": {},
     "output_type": "execute_result"
    }
   ],
   "source": [
    "# split the two arrays in x after 3rd to 11th column:\n",
    "np.hsplit(x, (2,3,4,5,6,7,8,9,10,11))"
   ]
  },
  {
   "cell_type": "code",
   "execution_count": 42,
   "id": "eaf2f091-ec88-4540-9e94-62cf7f435a70",
   "metadata": {},
   "outputs": [
    {
     "data": {
      "text/plain": [
       "array([5, 6, 7, 8])"
      ]
     },
     "execution_count": 42,
     "metadata": {},
     "output_type": "execute_result"
    }
   ],
   "source": [
    "ax = np.array([[1, 2, 3, 4], [5, 6, 7, 8], [9, 10, 11, 12]])\n",
    "b1 = ax[1, :]\n",
    "b1"
   ]
  },
  {
   "cell_type": "code",
   "execution_count": 43,
   "id": "abf4c885-b16c-426b-b69b-154406fd5e8d",
   "metadata": {},
   "outputs": [],
   "source": [
    "b1[1:3] = 99, 100"
   ]
  },
  {
   "cell_type": "code",
   "execution_count": 44,
   "id": "184f830a-971e-4c78-9632-9373e02bada6",
   "metadata": {},
   "outputs": [
    {
     "data": {
      "text/plain": [
       "array([  5,  99, 100,   8])"
      ]
     },
     "execution_count": 44,
     "metadata": {},
     "output_type": "execute_result"
    }
   ],
   "source": [
    "b1"
   ]
  },
  {
   "cell_type": "code",
   "execution_count": 45,
   "id": "a3b1bb02-12be-4ee9-8cea-a9ae5333818a",
   "metadata": {},
   "outputs": [
    {
     "data": {
      "text/plain": [
       "array([[  1,   2,   3,   4],\n",
       "       [  5,  99, 100,   8],\n",
       "       [  9,  10,  11,  12]])"
      ]
     },
     "execution_count": 45,
     "metadata": {},
     "output_type": "execute_result"
    }
   ],
   "source": [
    "#note original array has changed also\n",
    "#could use copy i.e. b2 = a.copy() and work from there\n",
    "ax"
   ]
  },
  {
   "cell_type": "markdown",
   "id": "8624ee5c-c37d-40c2-91c4-44e0dbc4174c",
   "metadata": {},
   "source": [
    "<br>\n",
    "\n",
    "#### Add and subtract array elements"
   ]
  },
  {
   "cell_type": "code",
   "execution_count": 46,
   "id": "a2ef2feb-9d61-4967-96cb-6088d559cf59",
   "metadata": {},
   "outputs": [
    {
     "data": {
      "text/plain": [
       "array([2, 3])"
      ]
     },
     "execution_count": 46,
     "metadata": {},
     "output_type": "execute_result"
    }
   ],
   "source": [
    "# 'data' = [1,2] , ones = [1,1]\n",
    "#dtype int = data type integer otherwise ones will create float numbers\n",
    "#arrays have to have same number of elements\n",
    "data = np.array([1, 2])\n",
    "ones = np.ones(2, dtype=int)\n",
    "data + ones"
   ]
  },
  {
   "cell_type": "code",
   "execution_count": 47,
   "id": "8b1239e5-c5c1-43a7-aa20-7554edec5886",
   "metadata": {},
   "outputs": [
    {
     "data": {
      "text/plain": [
       "array([0, 1])"
      ]
     },
     "execution_count": 47,
     "metadata": {},
     "output_type": "execute_result"
    }
   ],
   "source": [
    "data - ones"
   ]
  },
  {
   "cell_type": "code",
   "execution_count": 48,
   "id": "18d46bd0-b995-49ef-8f3c-f910f1fea76a",
   "metadata": {},
   "outputs": [
    {
     "data": {
      "text/plain": [
       "array([1, 4])"
      ]
     },
     "execution_count": 48,
     "metadata": {},
     "output_type": "execute_result"
    }
   ],
   "source": [
    "data * data"
   ]
  },
  {
   "cell_type": "code",
   "execution_count": 49,
   "id": "923bba09-834a-4c8e-ab08-d55684d4887b",
   "metadata": {},
   "outputs": [
    {
     "data": {
      "text/plain": [
       "array([1., 1.])"
      ]
     },
     "execution_count": 49,
     "metadata": {},
     "output_type": "execute_result"
    }
   ],
   "source": [
    "data / data"
   ]
  },
  {
   "cell_type": "code",
   "execution_count": 50,
   "id": "b7192cf5-0587-4fb1-9a5c-52a29ad5c13b",
   "metadata": {},
   "outputs": [
    {
     "data": {
      "text/plain": [
       "10"
      ]
     },
     "execution_count": 50,
     "metadata": {},
     "output_type": "execute_result"
    }
   ],
   "source": [
    "a = np.array([1, 2, 3, 4])\n",
    "a.sum()"
   ]
  },
  {
   "cell_type": "code",
   "execution_count": 51,
   "id": "8e62e263-86a3-4a71-9f22-80595470f55d",
   "metadata": {},
   "outputs": [
    {
     "data": {
      "text/plain": [
       "24"
      ]
     },
     "execution_count": 51,
     "metadata": {},
     "output_type": "execute_result"
    }
   ],
   "source": [
    "# prodct of array i.e.1*2*3*4=24 \n",
    "a.prod()"
   ]
  },
  {
   "cell_type": "code",
   "execution_count": 52,
   "id": "4c5e39b0-6170-4f84-af80-6b24869fd296",
   "metadata": {},
   "outputs": [
    {
     "data": {
      "text/plain": [
       "4"
      ]
     },
     "execution_count": 52,
     "metadata": {},
     "output_type": "execute_result"
    }
   ],
   "source": [
    "a.max()"
   ]
  },
  {
   "cell_type": "code",
   "execution_count": 53,
   "id": "f2888e12-f566-415d-9f8d-6fb07e476cff",
   "metadata": {},
   "outputs": [
    {
     "data": {
      "text/plain": [
       "2.5"
      ]
     },
     "execution_count": 53,
     "metadata": {},
     "output_type": "execute_result"
    }
   ],
   "source": [
    "a.mean()"
   ]
  },
  {
   "cell_type": "code",
   "execution_count": 54,
   "id": "156eca32-22cd-462b-9945-1b55ee1f5dd3",
   "metadata": {},
   "outputs": [
    {
     "data": {
      "text/plain": [
       "array([ 5,  8, 17, 26])"
      ]
     },
     "execution_count": 54,
     "metadata": {},
     "output_type": "execute_result"
    }
   ],
   "source": [
    "# three rows of data each containing 3 entriels i.e. 4 columns\n",
    "# Axis 0 = looking down vertically through the elements\n",
    "# axis 1 = looking horizontally across the elements\n",
    "#   C1 C2 C3 C4\n",
    "#R1 1  1  5  8\n",
    "#R2 2  2  6  10\n",
    "#R3 2  5  6  8\n",
    "b = np.array([[1, 1,5,8], [2, 2, 6, 10], [2, 5, 6, 8]])\n",
    "b.sum(axis=0)"
   ]
  },
  {
   "cell_type": "code",
   "execution_count": 55,
   "id": "0c45f6e8-91e9-4fb7-a995-4b18d7642f41",
   "metadata": {},
   "outputs": [
    {
     "data": {
      "text/plain": [
       "array([15, 20, 21])"
      ]
     },
     "execution_count": 55,
     "metadata": {},
     "output_type": "execute_result"
    }
   ],
   "source": [
    "b.sum(axis=1)"
   ]
  },
  {
   "cell_type": "markdown",
   "id": "981bae9a-31cc-4ea9-b9fc-52db970ccc3d",
   "metadata": {},
   "source": [
    "<br>\n",
    "\n",
    "#### Broadcasting\n",
    "\n",
    "NumPy understands that the multiplication should happen with each cell.<br> That concept is called broadcasting. Broadcasting is a mechanism that allows NumPy to perform operations on arrays of different shapes. <br> The dimensions of your array must be compatible, <br> for example, when the dimensions of both arrays are equal or when one of them is 1. <br> If the dimensions are not compatible, you will get a ValueError<br> "
   ]
  },
  {
   "cell_type": "code",
   "execution_count": 56,
   "id": "e53d316c-d069-4b5b-9396-f9065f0de227",
   "metadata": {},
   "outputs": [
    {
     "data": {
      "text/plain": [
       "array([[ 1.6,  3.2,  4.8,  6.4],\n",
       "       [ 8. ,  9.6, 11.2, 12.8],\n",
       "       [14.4, 16. , 17.6, 19.2]])"
      ]
     },
     "execution_count": 56,
     "metadata": {},
     "output_type": "execute_result"
    }
   ],
   "source": [
    "# e.g. convert all array elelemts from miles to km\n",
    "miles = np.array([[1, 2, 3, 4], [5, 6, 7, 8], [9, 10, 11, 12]])\n",
    "miles * 1.6"
   ]
  },
  {
   "cell_type": "code",
   "execution_count": 57,
   "id": "6a2f8376-9ad1-48e2-becf-dcbe1aea2acc",
   "metadata": {},
   "outputs": [
    {
     "data": {
      "text/plain": [
       "array([1, 2, 3, 4])"
      ]
     },
     "execution_count": 57,
     "metadata": {},
     "output_type": "execute_result"
    }
   ],
   "source": [
    "# whats the min looking down columns\n",
    "miles.min(axis =0)"
   ]
  },
  {
   "cell_type": "code",
   "execution_count": 58,
   "id": "b37413c6-ab01-4848-99f2-eb0a2b68b9d3",
   "metadata": {},
   "outputs": [
    {
     "data": {
      "text/plain": [
       "array([1, 5, 9])"
      ]
     },
     "execution_count": 58,
     "metadata": {},
     "output_type": "execute_result"
    }
   ],
   "source": [
    "# whats the min looking across rows\n",
    "miles.min(axis =1)"
   ]
  },
  {
   "cell_type": "markdown",
   "id": "e6a4e245-32e2-4123-8d76-6f36625253c6",
   "metadata": {},
   "source": [
    "<br>\n",
    "\n",
    "#### Creating matrices from arrays\n",
    "https://www.programiz.com/python-programming/matrix"
   ]
  },
  {
   "cell_type": "code",
   "execution_count": 59,
   "id": "7469256b-a914-4bfd-b063-dacda6540210",
   "metadata": {},
   "outputs": [
    {
     "data": {
      "text/plain": [
       "2"
      ]
     },
     "execution_count": 59,
     "metadata": {},
     "output_type": "execute_result"
    }
   ],
   "source": [
    " #array([[1, 2,1],\n",
    "      # [3, 10,1],\n",
    "      # [5, 6,1]])\n",
    "    \n",
    "data = np.array([[1, 2,1], [3, 10,1], [5, 6,1]])\n",
    "# 1st row, 2nd value from left\n",
    "data[0, 1]"
   ]
  },
  {
   "cell_type": "code",
   "execution_count": 60,
   "id": "6e5c34ba-081f-40f9-9749-fada98c82da8",
   "metadata": {},
   "outputs": [
    {
     "data": {
      "text/plain": [
       "array([1, 3, 5])"
      ]
     },
     "execution_count": 60,
     "metadata": {},
     "output_type": "execute_result"
    }
   ],
   "source": [
    "# 1st, 2nd and 3rd row (0,1,2) - 1st element in each\n",
    "data[0:3, 0]"
   ]
  },
  {
   "cell_type": "code",
   "execution_count": 61,
   "id": "3fd0d776-dde6-4aa9-933c-ab02f1d1fd3b",
   "metadata": {},
   "outputs": [
    {
     "data": {
      "text/plain": [
       "array([1, 1, 1])"
      ]
     },
     "execution_count": 61,
     "metadata": {},
     "output_type": "execute_result"
    }
   ],
   "source": [
    "data[0:3, 2]"
   ]
  },
  {
   "cell_type": "code",
   "execution_count": 62,
   "id": "391c6a15-acf8-41ad-b8ce-06f3dc63afda",
   "metadata": {},
   "outputs": [
    {
     "data": {
      "text/plain": [
       "10"
      ]
     },
     "execution_count": 62,
     "metadata": {},
     "output_type": "execute_result"
    }
   ],
   "source": [
    "data.max()"
   ]
  },
  {
   "cell_type": "code",
   "execution_count": 63,
   "id": "ac88f610-3dd2-4dcb-887a-e77e1021462c",
   "metadata": {},
   "outputs": [
    {
     "data": {
      "text/plain": [
       "array([ 5, 10,  1])"
      ]
     },
     "execution_count": 63,
     "metadata": {},
     "output_type": "execute_result"
    }
   ],
   "source": [
    "# axis =0 analyses the array vertically (look down each column)\n",
    "data.max(axis=0)"
   ]
  },
  {
   "cell_type": "code",
   "execution_count": 64,
   "id": "4b87288e-831a-4f56-b0a2-f8fe9a06ef80",
   "metadata": {},
   "outputs": [
    {
     "data": {
      "text/plain": [
       "array([ 2, 10,  6])"
      ]
     },
     "execution_count": 64,
     "metadata": {},
     "output_type": "execute_result"
    }
   ],
   "source": [
    "# axis =1 analyses the array horizontally (look across each row)\n",
    "data.max(axis=1)"
   ]
  },
  {
   "cell_type": "code",
   "execution_count": 65,
   "id": "686ffe42-5471-4c5d-91c4-0f94d58d23c6",
   "metadata": {},
   "outputs": [
    {
     "data": {
      "text/plain": [
       "array([1, 1, 1])"
      ]
     },
     "execution_count": 65,
     "metadata": {},
     "output_type": "execute_result"
    }
   ],
   "source": [
    "data.min(axis=1)"
   ]
  },
  {
   "cell_type": "code",
   "execution_count": 66,
   "id": "3614e8c4-7d58-4718-9a14-b921de6d773c",
   "metadata": {},
   "outputs": [
    {
     "data": {
      "text/plain": [
       "array([[ 2,  3, 21],\n",
       "       [ 4, 11, 21],\n",
       "       [ 6,  7, 21]])"
      ]
     },
     "execution_count": 66,
     "metadata": {},
     "output_type": "execute_result"
    }
   ],
   "source": [
    "data_add = np.array([[1, 1, 20],[1, 1, 20], [1, 1,20]])\n",
    "data+data_add"
   ]
  },
  {
   "cell_type": "code",
   "execution_count": 67,
   "id": "101aadf9-fdd2-45b4-bfeb-c45966bcff78",
   "metadata": {},
   "outputs": [
    {
     "data": {
      "text/plain": [
       "array([1., 1., 1.])"
      ]
     },
     "execution_count": 67,
     "metadata": {},
     "output_type": "execute_result"
    }
   ],
   "source": [
    "np.ones(3)"
   ]
  },
  {
   "cell_type": "code",
   "execution_count": 68,
   "id": "e712355a-f734-4b40-ad5f-cd0b36c11224",
   "metadata": {},
   "outputs": [
    {
     "data": {
      "text/plain": [
       "array([0., 0., 0.])"
      ]
     },
     "execution_count": 68,
     "metadata": {},
     "output_type": "execute_result"
    }
   ],
   "source": [
    "np.zeros(3)"
   ]
  },
  {
   "cell_type": "code",
   "execution_count": 69,
   "id": "b15cd709-5d9c-4dd6-b35e-9a1d9880d22c",
   "metadata": {},
   "outputs": [
    {
     "data": {
      "text/plain": [
       "array([[0., 0., 0., 0., 0., 0.],\n",
       "       [0., 0., 0., 0., 0., 0.],\n",
       "       [0., 0., 0., 0., 0., 0.],\n",
       "       [0., 0., 0., 0., 0., 0.]])"
      ]
     },
     "execution_count": 69,
     "metadata": {},
     "output_type": "execute_result"
    }
   ],
   "source": [
    "x = np.zeros(24).reshape(4, 6)\n",
    "x"
   ]
  },
  {
   "cell_type": "markdown",
   "id": "513e61e5-14bb-4852-8f67-74b746a7705b",
   "metadata": {},
   "source": [
    "***\n",
    "***\n",
    "\n",
    "<br>\n",
    "\n",
    "# Random Number Generation with NumPy\n",
    "[NumPy Random Number Generator](https://numpy.org/doc/stable/reference/random/generated/numpy.random.Generator.integers.html#numpy.random.Generator.integers) <br>\n",
    "[W3 Schools](https://www.w3schools.com/python/numpy/numpy_random.asp') <br>\n",
    "[PythonGuides](https://pythonguides.com/python-numpy-random/)\n",
    "\n",
    "<img src = 'https://www.w3resource.com/w3r_images/numpy-basic-image-exercise-17.png' width=400>\n",
    "\n",
    "<br>\n",
    "\n",
    "#### What is random number in python numpy?\n",
    "In Python, the numpy library provides a module called random that will help the user to generate a random number.<br> \n",
    "Random numbers are the numbers that return a random integer.<br>\n",
    "The random number does not mean a different number every time.<br>\n",
    "Random means something that cannot be predicted logically.<br>\n",
    "\n",
    "#### random number generation in numpy?\n",
    "In Python, the numpy library provides a **module** that will help the user to generate a random number.<br> \n",
    "This module is called **random** and is available in the NumPy library. <br>\n",
    "This module can be used to:\n",
    "1. return random integers and floats or \n",
    "2. return an array of specified shapes, and fills it with random floats and integers.<br>\n",
    "\n",
    "It is based on pseudo-random number generation that means it is a mathematical way that generates a sequence of nearly random numbers<br> \n",
    "\n",
    "In Python, the randint() function always returns a random integer number between the lower and the higher limits these both limits are the parameters of the randint() function.<br> \n",
    "\n",
    "\n",
    "\n",
    "In addition in Python, the generator provides entry to a wide range of **normal distribution** and is replaced with a random state.\n",
    "It is a mathematical way that generates a sequence of nearly random numbers.\n",
    "The generator relies on an additional bit generator to control random bit numbers.\n",
    "In Python the random values are produced by the generator and originate in a Bit generator. <BR>\n",
    "The default bit generator is **PCG-64**.\n",
    "    \n",
    "<img src = 'https://i1.wp.com/techvidvan.com/tutorials/wp-content/uploads/sites/2/2020/07/Built-in-functions-for-generating-random-numbers-in-python-Copy.jpg?w=644&ssl=1' width=400>\n",
    "    \n",
    "The following are some of the functions available in the module along with parameters. <br>\n",
    "These will be discussed below. <br>\n",
    "\n",
    "- rand(d0, d1, …, dn) *Random values in a given shape.<br>\n",
    "- randn(d0, d1, …, dn)Return a sample (or samples) from the “standard normal” distribution.<br>\n",
    "- randint('low[, high, size, dtype]')Return random integers from low (inclusive) to high (exclusive).<br>\n",
    "- random_integers(low[, high, size])Random integers of type np.int between low and high, inclusive.<br>\n",
    "- random_sample([size])Return random floats in the half-open interval [0.0, 1.0). <br>\n",
    "- random([size]) Return random floats in the half-open interval [0.0, 1.0).<br>\n",
    "- ranf([size]) Return random floats in the half-open interval [0.0, 1.0).<br>\n",
    "- sample([size]) Return random floats in the half-open interval [0.0, 1.0).<br>\n",
    "- choice(a[, size, replace, p]) Generates a random sample from a given 1-D array<br>\n",
    "- bytes(length) Return random bytes.<br><br><br>\n",
    "\n",
    "\n",
    "https://pythonguides.com/python-numpy-random/<br>\n",
    "https://numpy.org/doc/1.16/reference/routines.random.html<br>\n",
    "https://medium.com/analytics-vidhya/numpy-random-module-numpy-random-examples-cec1b531c1b8<br>"
   ]
  },
  {
   "cell_type": "markdown",
   "id": "b026f551-966e-47b4-85b5-1a98f56146d3",
   "metadata": {},
   "source": [
    "<br>\n",
    "\n",
    "### Simple Random Number Generation<br>\n",
    "\n",
    "\n",
    "#### Generate a random integer from 0 to 100:\n",
    "*we have already imported numpy package as np* <br>\n",
    "*now need to download the random package*"
   ]
  },
  {
   "cell_type": "code",
   "execution_count": 70,
   "id": "72053196-7dc7-4481-8bdf-eac2c3fde9f0",
   "metadata": {},
   "outputs": [
    {
     "name": "stdout",
     "output_type": "stream",
     "text": [
      "57\n"
     ]
    }
   ],
   "source": [
    "from numpy import random\n",
    "x = random.randint(100)\n",
    "print(x)"
   ]
  },
  {
   "cell_type": "markdown",
   "id": "433a5a29-2987-4cbc-bba7-20fe08ca9488",
   "metadata": {},
   "source": [
    "***\n",
    "<br>\n",
    "\n",
    "#### Generate a 2-D array with 3 rows, each row containing 5 random integers from 0 to 100:"
   ]
  },
  {
   "cell_type": "code",
   "execution_count": 71,
   "id": "280a8290-d3df-40ef-bdd3-188d31237df6",
   "metadata": {},
   "outputs": [
    {
     "name": "stdout",
     "output_type": "stream",
     "text": [
      "0.05563428635120582\n"
     ]
    }
   ],
   "source": [
    "x = random.rand()\n",
    "print(x)"
   ]
  },
  {
   "cell_type": "markdown",
   "id": "f43723ad-0cf2-49ca-8231-81c1918a5c50",
   "metadata": {},
   "source": [
    "***\n",
    "<br>\n",
    "\n",
    "#### Generate a 2-D array with 4 rows, each row containing 7 random integers from 0 to 50:"
   ]
  },
  {
   "cell_type": "code",
   "execution_count": 72,
   "id": "0b6ca063-dd72-4cfb-a5b0-72c9c21186b2",
   "metadata": {},
   "outputs": [
    {
     "name": "stdout",
     "output_type": "stream",
     "text": [
      "[[40 39 41 25 20 38  8]\n",
      " [25 31 23 49 33 22 44]\n",
      " [41 18 26 37  7 32 40]\n",
      " [11 35 39 31 46 48 18]]\n"
     ]
    }
   ],
   "source": [
    "x = random.randint(50, size=(4, 7))\n",
    "print(x)"
   ]
  },
  {
   "cell_type": "markdown",
   "id": "dd524cdf-f298-4ee6-8dc2-d0af126e0b17",
   "metadata": {},
   "source": [
    "***\n",
    "<br>\n",
    "\n",
    "#### random.default_rng\n",
    "*generate an array of random floats to specified size*\n"
   ]
  },
  {
   "cell_type": "code",
   "execution_count": 73,
   "id": "c2614e2a-e485-44ab-8f5e-52ac22c0caeb",
   "metadata": {},
   "outputs": [
    {
     "data": {
      "text/plain": [
       "array([0.63696169, 0.26978671, 0.04097352])"
      ]
     },
     "execution_count": 73,
     "metadata": {},
     "output_type": "execute_result"
    }
   ],
   "source": [
    "# the simplest way to generate random numbers\n",
    "#Note remains the same random numbers until kernel is reset\n",
    "rng = np.random.default_rng(0)\n",
    "rng.random(3)"
   ]
  },
  {
   "cell_type": "code",
   "execution_count": 74,
   "id": "738de987-1f92-4906-be84-cf0b0dcf16c6",
   "metadata": {},
   "outputs": [
    {
     "name": "stdout",
     "output_type": "stream",
     "text": [
      "Generator(PCG64)\n"
     ]
    }
   ],
   "source": [
    "#rng is random number generator\n",
    "rng = np.random.default_rng(12345)\n",
    "print(rng)"
   ]
  },
  {
   "cell_type": "markdown",
   "id": "176029ce-6f0a-483a-8455-b040873c970e",
   "metadata": {},
   "source": [
    "***\n",
    "<br>\n",
    "\n",
    "#### random.default_rng & 'integers'\n",
    "*returns an array of random integers*"
   ]
  },
  {
   "cell_type": "code",
   "execution_count": 75,
   "id": "fa3e3496-3b14-4cbb-a4d5-3c291b794de5",
   "metadata": {},
   "outputs": [
    {
     "data": {
      "text/plain": [
       "array([0, 0, 0, 0, 0, 0, 0, 0, 0, 0], dtype=int64)"
      ]
     },
     "execution_count": 75,
     "metadata": {},
     "output_type": "execute_result"
    }
   ],
   "source": [
    "rng = np.random.default_rng()\n",
    "rng.integers(1, size=10)"
   ]
  },
  {
   "cell_type": "code",
   "execution_count": 76,
   "id": "e96f54df-1152-4bcf-8769-fb017d5787e4",
   "metadata": {},
   "outputs": [
    {
     "data": {
      "text/plain": [
       "array([ 5,  7,  9,  4, 10,  8,  9,  1,  0,  5], dtype=int64)"
      ]
     },
     "execution_count": 76,
     "metadata": {},
     "output_type": "execute_result"
    }
   ],
   "source": [
    "# Syntax: Max value , array size\n",
    "rng = np.random.default_rng()\n",
    "rng.integers(12, size=10)"
   ]
  },
  {
   "cell_type": "code",
   "execution_count": 77,
   "id": "0972a305-c7e6-4121-a906-5e861d67fcbc",
   "metadata": {},
   "outputs": [
    {
     "data": {
      "text/plain": [
       "array([9, 9, 9], dtype=int64)"
      ]
     },
     "execution_count": 77,
     "metadata": {},
     "output_type": "execute_result"
    }
   ],
   "source": [
    "# 'seed' the rng with a value. The assay returned is the same unless the 'inputted' value is changed\n",
    "rng = np.random.default_rng(1234)\n",
    "rints = rng.integers(low=0, high=10, size=3)\n",
    "rints"
   ]
  },
  {
   "cell_type": "code",
   "execution_count": 78,
   "id": "bc9af33c-d64a-4761-b8e2-510d621ffb45",
   "metadata": {},
   "outputs": [
    {
     "data": {
      "text/plain": [
       "array([[1, 0, 4, 0],\n",
       "       [1, 0, 1, 2]], dtype=int64)"
      ]
     },
     "execution_count": 78,
     "metadata": {},
     "output_type": "execute_result"
    }
   ],
   "source": [
    "# define the size and shape\n",
    "rng.integers(5, size=(2, 4))"
   ]
  },
  {
   "cell_type": "code",
   "execution_count": 79,
   "id": "fe5d2a92-e94b-42d7-a234-014c3879d3fd",
   "metadata": {},
   "outputs": [
    {
     "data": {
      "text/plain": [
       "array([11, 79, 24, 78, 31, 79, 96, 95, 26, 55, 44, 25, 60, 89, 86, 64, 86,\n",
       "       51, 67, 95, 65,  4, 73, 73, 22, 86, 17, 78, 87, 48], dtype=int64)"
      ]
     },
     "execution_count": 79,
     "metadata": {},
     "output_type": "execute_result"
    }
   ],
   "source": [
    "rng.integers(100, size=30)"
   ]
  },
  {
   "cell_type": "code",
   "execution_count": 80,
   "id": "3725c250-40bd-4ed3-8cf0-05872180cf0e",
   "metadata": {},
   "outputs": [
    {
     "data": {
      "text/plain": [
       "array([ 6, 16, 68, ..., 50, 36, 17], dtype=int64)"
      ]
     },
     "execution_count": 80,
     "metadata": {},
     "output_type": "execute_result"
    }
   ],
   "source": [
    "x = rng.integers(100, size=10000)\n",
    "x"
   ]
  },
  {
   "cell_type": "code",
   "execution_count": 81,
   "id": "448b79bf-be13-457e-8b62-aa77d3895e9d",
   "metadata": {},
   "outputs": [
    {
     "data": {
      "text/plain": [
       "array([57, 95, 39, ..., 80,  7, 62], dtype=int64)"
      ]
     },
     "execution_count": 81,
     "metadata": {},
     "output_type": "execute_result"
    }
   ],
   "source": [
    "x = rng.integers(100, size=10000)\n",
    "x"
   ]
  },
  {
   "cell_type": "markdown",
   "id": "102a22df-21f4-4920-9934-f1f7f776b036",
   "metadata": {},
   "source": [
    "***\n",
    "<br>\n",
    "\n",
    "#### random.randint\n",
    "- returns an array of integers from low(inclusive) to high(exclusive) <br>\n",
    "\n",
    "Parameters:\n",
    "- (low, high=None, size=None, dtype=int)*<br>\n",
    "- Low can be an Integer of Array*<br>\n",
    "- if high = None returns result from [0,low) else [low,high)*<br>\n",
    "\n",
    "e.g. randint(3,[4,5,6])\n",
    "return an array with lower bound 3 and upper bound any of (4,5,6)<br>\n",
    "\n",
    "<img src = 'https://miro.medium.com/max/700/1*GqtWDhRK6bDlUe0akh4u9A.png' width=400>"
   ]
  },
  {
   "cell_type": "code",
   "execution_count": 82,
   "id": "6510001b-b9fb-4fe2-8951-80f1cab44d36",
   "metadata": {},
   "outputs": [],
   "source": [
    "from numpy.random import randint"
   ]
  },
  {
   "cell_type": "code",
   "execution_count": 83,
   "id": "6524f1b0-a6a6-4f08-b373-293f5eaa003e",
   "metadata": {},
   "outputs": [
    {
     "data": {
      "text/plain": [
       "array([3, 5, 7])"
      ]
     },
     "execution_count": 83,
     "metadata": {},
     "output_type": "execute_result"
    }
   ],
   "source": [
    "# output an array of random integers\n",
    "# create an array as square brackets; Lower value exclusive is 3 upper value is 4,8,10 \n",
    "# i.e. 1st value outputted in array will always be 3 as low is 3 upper is 4\n",
    "randint(3,[4,8,10])"
   ]
  },
  {
   "cell_type": "code",
   "execution_count": 84,
   "id": "6e1acf7c-c055-4e24-972c-a4776c310f1d",
   "metadata": {},
   "outputs": [
    {
     "data": {
      "text/plain": [
       "array([[ 1,  3,  3],\n",
       "       [11,  5, 13]])"
      ]
     },
     "execution_count": 84,
     "metadata": {},
     "output_type": "execute_result"
    }
   ],
   "source": [
    "# output an array of random integers\n",
    "# returns two rows (array); 1st row is L= 1,2,3 H = 4; 2nd row  L= 1,2,3, H= 20\n",
    "randint([1,2,3],[[4],[20]])"
   ]
  },
  {
   "cell_type": "code",
   "execution_count": 85,
   "id": "fb13f22c-23b5-406d-9dcc-f52e8b15b1ac",
   "metadata": {},
   "outputs": [
    {
     "data": {
      "text/plain": [
       "array([23, 22, 26, 27, 26])"
      ]
     },
     "execution_count": 85,
     "metadata": {},
     "output_type": "execute_result"
    }
   ],
   "source": [
    "# output an array of random integers\n",
    "# syntax: lowest number, highest number, array size to return\n",
    "import random\n",
    "result = np.random.randint(20,30,5)\n",
    "result"
   ]
  },
  {
   "cell_type": "code",
   "execution_count": 86,
   "id": "2b5325c8-57da-4f87-99ec-31aa423738d1",
   "metadata": {},
   "outputs": [
    {
     "name": "stdout",
     "output_type": "stream",
     "text": [
      "[25 22 23 23 29]\n"
     ]
    }
   ],
   "source": [
    "# numpy random function can create a random mumber without restart kernel\n",
    "from numpy import random\n",
    "x= random.randint(20,30,5)\n",
    "print(x)"
   ]
  },
  {
   "cell_type": "code",
   "execution_count": 87,
   "id": "ff053464-9081-4c64-9fc9-995b8b2be077",
   "metadata": {},
   "outputs": [
    {
     "name": "stdout",
     "output_type": "stream",
     "text": [
      "[24 29  1 14  3  9  1 13 21 12]\n"
     ]
    }
   ],
   "source": [
    "random_num = np.random.randint(30, size=10)\n",
    "print (random_num)"
   ]
  },
  {
   "cell_type": "markdown",
   "id": "20c96ee8-9749-41bc-bcb6-f7c97cd0ff55",
   "metadata": {},
   "source": [
    "***\n",
    "<br>\n",
    "\n",
    "#### rand\n",
    "\n",
    "- returns a random float"
   ]
  },
  {
   "cell_type": "code",
   "execution_count": 88,
   "id": "95f23cf9-0bfe-4203-b002-a16156bbc6d6",
   "metadata": {},
   "outputs": [
    {
     "name": "stdout",
     "output_type": "stream",
     "text": [
      "0.35092769739083207\n"
     ]
    }
   ],
   "source": [
    "# if don't require a whole number (integer) numpy can return a random float\n",
    "val = random.rand()\n",
    "print (val)"
   ]
  },
  {
   "cell_type": "markdown",
   "id": "32243128-1e77-4c59-b065-d75ecbc8dbd1",
   "metadata": {},
   "source": [
    "***\n",
    "<br>\n",
    "\n",
    "#### random.sample\n",
    "\n",
    "- returns a specified number of random floats"
   ]
  },
  {
   "cell_type": "code",
   "execution_count": 89,
   "id": "6985f6f4-a603-4d94-83be-c6a7d202b5d4",
   "metadata": {},
   "outputs": [
    {
     "data": {
      "text/plain": [
       "0.531441016329148"
      ]
     },
     "execution_count": 89,
     "metadata": {},
     "output_type": "execute_result"
    }
   ],
   "source": [
    "# output a single random float\n",
    "np.random.random_sample()"
   ]
  },
  {
   "cell_type": "code",
   "execution_count": 90,
   "id": "3a067595-7635-4594-827d-8dfbc3b5f36b",
   "metadata": {},
   "outputs": [
    {
     "data": {
      "text/plain": [
       "(array([[0.24927385, 0.81627163],\n",
       "        [0.16982162, 0.99770739],\n",
       "        [0.93416456, 0.82933988]]),\n",
       " 10)"
      ]
     },
     "execution_count": 90,
     "metadata": {},
     "output_type": "execute_result"
    }
   ],
   "source": [
    "# output an array of random floats\n",
    "np.random.random_sample((3, 2)),10"
   ]
  },
  {
   "cell_type": "markdown",
   "id": "db67fbc7-98f6-4a71-ba8f-5820577b9b3d",
   "metadata": {},
   "source": [
    "***\n",
    "<br>\n",
    "\n",
    "#### random.choice <br>\n",
    "\n",
    "- returns a randon number (int or float) from an array\n",
    "- returns random samples generated from the given array"
   ]
  },
  {
   "cell_type": "code",
   "execution_count": 91,
   "id": "1e652baf-412d-4c1b-9e19-de42f06118f6",
   "metadata": {},
   "outputs": [
    {
     "data": {
      "text/plain": [
       "array([7, 9, 1, 5, 2])"
      ]
     },
     "execution_count": 91,
     "metadata": {},
     "output_type": "execute_result"
    }
   ],
   "source": [
    "# returns array containing random # fronm 0 up to 1st value, '2nd value' times\n",
    "random.choice(18,5)"
   ]
  },
  {
   "cell_type": "code",
   "execution_count": 92,
   "id": "52568735-3245-4285-853c-b01275faf32d",
   "metadata": {},
   "outputs": [
    {
     "data": {
      "text/plain": [
       "40.0"
      ]
     },
     "execution_count": 92,
     "metadata": {},
     "output_type": "execute_result"
    }
   ],
   "source": [
    "# returns one of the array elements- once re-run\n",
    "random.choice([40,5,66,8.6])"
   ]
  },
  {
   "cell_type": "code",
   "execution_count": 93,
   "id": "1b30c160-4118-4e71-b1fe-3cf41c8588f0",
   "metadata": {},
   "outputs": [
    {
     "data": {
      "text/plain": [
       "array([[   1,    4,    3],\n",
       "       [ 100,    4,    2],\n",
       "       [   6, 1000,    5]])"
      ]
     },
     "execution_count": 93,
     "metadata": {},
     "output_type": "execute_result"
    }
   ],
   "source": [
    "# the array style can be requested\n",
    "#note array of 3,3= 9 hence 9 of the 10 given numbers selected\n",
    "random.choice([1,2,3,4,5,6,7,8,9,100,1000],size = (3,3))"
   ]
  },
  {
   "cell_type": "code",
   "execution_count": 94,
   "id": "5bc66488-3dd4-4f80-946c-e3caa95bde24",
   "metadata": {},
   "outputs": [
    {
     "data": {
      "text/plain": [
       "array([[    4,     5,     7],\n",
       "       [    1,     8, 10000],\n",
       "       [  100,     3,     2]])"
      ]
     },
     "execution_count": 94,
     "metadata": {},
     "output_type": "execute_result"
    }
   ],
   "source": [
    "#no repeats allowed (# in array must be >= requested output #)\n",
    "random.choice([1,2,3,4,5,6,7,8,100,10000],size = (3,3),replace = False)"
   ]
  },
  {
   "cell_type": "code",
   "execution_count": 95,
   "id": "cc12483d-1308-4978-baf6-8937d90d1aff",
   "metadata": {},
   "outputs": [
    {
     "data": {
      "text/plain": [
       "array([[4, 8, 2],\n",
       "       [3, 1, 8],\n",
       "       [3, 8, 1]])"
      ]
     },
     "execution_count": 95,
     "metadata": {},
     "output_type": "execute_result"
    }
   ],
   "source": [
    "# repeats allowed\n",
    "random.choice([1,2,3,4,5,6,7,8,9,100,1000],size = (3,3),replace = True)"
   ]
  },
  {
   "cell_type": "code",
   "execution_count": 96,
   "id": "e70c293b-bc4c-4db8-bde7-7522d1ef83ec",
   "metadata": {},
   "outputs": [
    {
     "name": "stdout",
     "output_type": "stream",
     "text": [
      " The random number is: \n",
      "12\n"
     ]
    }
   ],
   "source": [
    "random_num = np.random.choice(18)\n",
    "print (\" The random number is: \")\n",
    "print (random_num)"
   ]
  },
  {
   "cell_type": "markdown",
   "id": "7168c989-fff6-41ce-a9d4-95509fe542e0",
   "metadata": {},
   "source": [
    "***\n",
    "<br>\n",
    "\n",
    "#### Random.Randn <br>\n",
    "- returns an array of random floats"
   ]
  },
  {
   "cell_type": "code",
   "execution_count": 97,
   "id": "312b64ef-0d56-4551-aca4-27b70b3f5a50",
   "metadata": {},
   "outputs": [
    {
     "name": "stdout",
     "output_type": "stream",
     "text": [
      " The random numbers are: \n",
      "\n",
      "\n",
      "[ 0.35842287  1.17683322 -1.02516651  0.22982279 -0.66646678 -1.78843276\n",
      "  0.73124327  0.81150296  0.93261173  0.84602027 -1.30162728  0.21154945\n",
      " -0.02014937 -0.41939454 -0.10623304 -0.50234294 -2.7240845   1.09969977]\n"
     ]
    }
   ],
   "source": [
    "random_num = np.random.randn(18)\n",
    "print (\" The random numbers are: \\n\\n\")\n",
    "print (random_num)"
   ]
  },
  {
   "cell_type": "code",
   "execution_count": 98,
   "id": "655967ef-01fb-4612-b4f0-ff5aff111c0d",
   "metadata": {},
   "outputs": [
    {
     "name": "stdout",
     "output_type": "stream",
     "text": [
      "[[[-1.81497807  0.34904384]\n",
      "  [ 0.21694221 -0.68498976]\n",
      "  [ 1.52957302  0.15387936]]\n",
      "\n",
      " [[-1.37538875 -0.30017967]\n",
      "  [-0.25934939 -0.56301911]\n",
      "  [-0.88640883 -1.74001724]]\n",
      "\n",
      " [[ 0.03166395 -0.40779475]\n",
      "  [-2.98089756 -0.04354753]\n",
      "  [ 0.24040403  0.06814353]]]\n"
     ]
    }
   ],
   "source": [
    "# create multidimensional arrays of random floats\n",
    "# e.g for below 5 arrays x three rows containing 2 elements\n",
    "x_arr = np.random.randn(3, 3, 2)\n",
    "print(x_arr)"
   ]
  },
  {
   "cell_type": "code",
   "execution_count": 99,
   "id": "b5597254-60f7-4dfa-8f02-e3d71d05176c",
   "metadata": {},
   "outputs": [
    {
     "name": "stdout",
     "output_type": "stream",
     "text": [
      "[[[[ 0.01945845 -0.86963323 -1.09022815 -0.34060989]\n",
      "   [-0.16813682  0.80245953 -0.37214436  2.41609819]]\n",
      "\n",
      "  [[ 1.42365761 -0.04334037  0.5223678   0.28672967]\n",
      "   [-1.63552546 -0.62606981 -0.26370079  0.45424814]]]\n",
      "\n",
      "\n",
      " [[[-0.42109322  1.67089561  1.38479435 -1.68166583]\n",
      "   [ 0.5760459   0.01691169 -1.16607059  0.4748394 ]]\n",
      "\n",
      "  [[ 1.1022695  -0.2706948   0.76004571  1.09997652]\n",
      "   [ 0.15202716 -2.26040591  0.27169167  1.33997385]]]\n",
      "\n",
      "\n",
      " [[[-1.00153622  1.04071768 -0.63971973 -0.13241455]\n",
      "   [-1.96010443 -0.32683267  0.47290928  0.158995  ]]\n",
      "\n",
      "  [[-2.28581143  0.29535804  0.51894217  0.74479287]\n",
      "   [-0.28587206  0.44800491 -1.51423866  1.30331955]]]]\n"
     ]
    }
   ],
   "source": [
    "# e.g for below 5 sets of 3 arrays x two rows containing 4 elements each\n",
    "x_arr2 = np.random.randn(3, 2, 2, 4)\n",
    "print(x_arr2)"
   ]
  },
  {
   "cell_type": "markdown",
   "id": "3942dadc-9da6-4e9d-9d6f-ff262a63d994",
   "metadata": {},
   "source": [
    "***\n",
    "<br>\n",
    "\n",
    "#### Random.sample\n",
    "- returns an array of specified # of floats"
   ]
  },
  {
   "cell_type": "code",
   "execution_count": 100,
   "id": "0f832e1b-05c6-4267-a9b9-303a8111f83a",
   "metadata": {},
   "outputs": [
    {
     "name": "stdout",
     "output_type": "stream",
     "text": [
      " The following are a random sample of numbers: \n",
      "\n",
      "[0.48531525 0.43631006 0.5220394  0.68493687 0.55796616 0.02832845\n",
      " 0.26020303 0.76402084 0.44376781 0.70969301 0.79111953 0.26038194\n",
      " 0.83588688 0.17278318 0.84210985 0.51245981 0.80727494 0.11545791]\n"
     ]
    }
   ],
   "source": [
    "random_num = np.random.random_sample(18)\n",
    "print (\" The following are a random sample of numbers: \\n\")\n",
    "print (random_num)"
   ]
  },
  {
   "attachments": {
    "4a61c7e8-c8f4-46d6-ac2d-bbcb553fad5b.png": {
     "image/png": "[encoded data removed]"
    }
   },
   "cell_type": "markdown",
   "id": "0635e56d-3bce-4c5e-abc0-3bda7cf193df",
   "metadata": {},
   "source": [
    "***\n",
    "<br>\n",
    "\n",
    "#### random.uniform\n",
    "- returns an array of specified size/shape with random floats\n",
    "\n",
    "The expression is represented by the below equation:\n",
    "\n",
    "![image.png](attachment:4a61c7e8-c8f4-46d6-ac2d-bbcb553fad5b.png)\n",
    "\n",
    "*NumPy syntax*\n",
    "low=0.0, high=1.0, size=None"
   ]
  },
  {
   "cell_type": "code",
   "execution_count": 101,
   "id": "dc1c3cf7-42be-4fde-9dbd-1cd50bd0f0f9",
   "metadata": {},
   "outputs": [
    {
     "name": "stdout",
     "output_type": "stream",
     "text": [
      " The following is an array of specified size filled with random numbers: \n",
      "\n",
      "\n",
      "[0.95305997 0.72280606 0.21938191 0.70546483 0.69033248 0.03160453\n",
      " 0.42942431 0.44307896 0.63359494 0.44554881]\n"
     ]
    }
   ],
   "source": [
    "random_num = np.random.uniform(0,1,10)\n",
    "print (\" The following is an array of specified size filled with random numbers: \\n\\n\")\n",
    "print (random_num)"
   ]
  },
  {
   "cell_type": "markdown",
   "id": "48236212-ca28-4b14-94f4-b3ce76465124",
   "metadata": {},
   "source": [
    "***\n",
    "<br>\n",
    "\n",
    "#### random.normal()\n",
    "*use of normal library in NumPy*\n",
    "\n",
    "- This function enables you to declare a numpy array that stores normally distributed data\n",
    "- The normal distribution is also called a curve because of its shape and size\n",
    "- These distributions can be used in data analysis and it is also a part of Gaussian distribution <br>  https://pythonguides.com/python-numpy-random/"
   ]
  },
  {
   "cell_type": "code",
   "execution_count": 102,
   "id": "7297a454-0943-4232-bd0b-8cebec802b56",
   "metadata": {},
   "outputs": [],
   "source": [
    "import matplotlib.pyplot as plt"
   ]
  },
  {
   "cell_type": "code",
   "execution_count": 103,
   "id": "f49eca4d-e381-4b18-8ba4-ca0b634bf278",
   "metadata": {},
   "outputs": [
    {
     "data": {
      "image/png": "[encoded data removed]",
      "text/plain": [
       "<Figure size 432x288 with 1 Axes>"
      ]
     },
     "metadata": {
      "needs_background": "light"
     },
     "output_type": "display_data"
    }
   ],
   "source": [
    "# returns a normally distributed array of floats\n",
    "nor= np.random.normal(size = 400)\n",
    "num,x,y = plt.hist(nor, 20)\n",
    "plt.show()"
   ]
  },
  {
   "cell_type": "markdown",
   "id": "722f708f-780b-4c15-85dd-7595833d8822",
   "metadata": {},
   "source": [
    "<br>\n",
    "\n",
    "---\n",
    "---\n",
    "\n",
    "<br>\n",
    "\n",
    "## Permutations function in NumPy.random"
   ]
  },
  {
   "cell_type": "markdown",
   "id": "c2cee69c-70db-4abc-b506-c77c93fdfc73",
   "metadata": {},
   "source": [
    "Permutations means different orders by which elements can be arranged. <br> The elements might be of a string, or a list, or any other data type. <br> It is the rearrangement of items in different ways."
   ]
  },
  {
   "cell_type": "markdown",
   "id": "95450f9f-88de-4468-82b8-2b074822ddfd",
   "metadata": {},
   "source": [
    "***\n",
    "<br>\n",
    "\n",
    "#### random.permutation\n",
    "- This method randomly generates a sequence and gets a randomly permuted range in Python."
   ]
  },
  {
   "cell_type": "code",
   "execution_count": 104,
   "id": "5cd953c6-29ef-4797-872a-7470e1e68b84",
   "metadata": {},
   "outputs": [
    {
     "name": "stdout",
     "output_type": "stream",
     "text": [
      "[3 0 2 1 5 4]\n"
     ]
    }
   ],
   "source": [
    "perm1 = np.random.permutation(6)\n",
    "print(perm1)"
   ]
  },
  {
   "cell_type": "markdown",
   "id": "0ee8cfe3-4e86-4411-aae3-09dbd15fe4d7",
   "metadata": {},
   "source": [
    "***\n",
    "***\n",
    "<br>\n",
    "\n",
    "#### random.shuffle\n",
    "- The function assists the user to modify the position of elements in a Numpy array.\n",
    "- This function only shuffles the array along the **first axis** of a multi-dimensional array.\n",
    "- The order of sub-arrays is changed but their contents remains the same."
   ]
  },
  {
   "cell_type": "code",
   "execution_count": 105,
   "id": "b5567e39-ad5b-4ca8-b5d8-0d1561ee9620",
   "metadata": {},
   "outputs": [
    {
     "name": "stdout",
     "output_type": "stream",
     "text": [
      "[2 4 0 1 3 5]\n"
     ]
    }
   ],
   "source": [
    "# the np.arange() method creates a ndarray with spaced values within the interval or given limit.\n",
    "# We use the random shuffle function and pass the ‘new_array’ variable as an argument and print the result.\n",
    "shuf_arr = np.arange(6)\n",
    "np.random.shuffle(shuf_arr)\n",
    "print(shuf_arr)"
   ]
  },
  {
   "cell_type": "markdown",
   "id": "199cc8db-954e-4735-b993-df9dec40dfe9",
   "metadata": {},
   "source": [
    "<br>\n",
    "\n",
    "---\n",
    "---\n",
    "\n",
    "<br>\n",
    "\n",
    "## Seeding (Python Numpy Random Seed)\n",
    "\n",
    "Seed function is used to save the state of a random function, so that it can generate same random numbers on multiple executions of the code on the same machine or on different machines (for a specific seed value). <br>\n",
    "The seed value is the previous value number generated by the generator. For the first time when there is no previous value, it uses current system time.<br>\n",
    "\n",
    "- Numpy random seed is used to set the seed and to generate pseudo-random numbers.\n",
    "- A pseudo-random number is a number that sorts random, **but they are not really random.**\n",
    "- In Python, the seed value is the previous value number implement by the generator.\n",
    "- If there is no previous value for the first time then it uses **working system time**.\n",
    "- The main logic behind the random seed is to get the same set of random numbers for the given seed. <br>\n",
    "https://pythonguides.com/python-numpy-random/\n",
    "\n",
    "*run code/script again and you get the same 'random' values in the array* <br>\n",
    "*change the seed value below ands re-run code/script: outputs new random numbers in array*"
   ]
  },
  {
   "cell_type": "code",
   "execution_count": 106,
   "id": "4a55dc02-6e15-4a4c-961b-e51f11690616",
   "metadata": {},
   "outputs": [
    {
     "name": "stdout",
     "output_type": "stream",
     "text": [
      "5\n"
     ]
    }
   ],
   "source": [
    "np.random.seed(5)\n",
    "new_val = np.random.randint(2,6)\n",
    "print(new_val)"
   ]
  },
  {
   "cell_type": "code",
   "execution_count": 107,
   "id": "b6870cd4-151d-4431-9953-26e50579f196",
   "metadata": {},
   "outputs": [
    {
     "data": {
      "text/plain": [
       "array([[0.77395605, 0.43887844, 0.85859792, 0.69736803],\n",
       "       [0.09417735, 0.97562235, 0.7611397 , 0.78606431],\n",
       "       [0.12811363, 0.45038594, 0.37079802, 0.92676499],\n",
       "       [0.64386512, 0.82276161, 0.4434142 , 0.22723872]])"
      ]
     },
     "execution_count": 107,
     "metadata": {},
     "output_type": "execute_result"
    }
   ],
   "source": [
    "rng = np.random.default_rng(seed=42)\n",
    "arr2 = rng.random((4, 4))\n",
    "arr2"
   ]
  },
  {
   "cell_type": "markdown",
   "id": "b4685521-e9d6-42d8-b59b-6f490d155d03",
   "metadata": {},
   "source": [
    "<br>\n",
    "\n",
    "---\n",
    "---\n",
    "\n",
    "## Distributions in NumPy.random"
   ]
  },
  {
   "cell_type": "markdown",
   "id": "d2668736-40e4-46e6-a229-afeebe11c82c",
   "metadata": {},
   "source": [
    "### Normal (Gaussian)\n",
    "\n",
    "Normal Distribution (also known as Gaussian Distribution) was invented by Carl Friedrich Gauss (1777-1855)<br>\n",
    "<img src = 'https://upload.wikimedia.org/wikipedia/commons/thumb/e/ec/Carl_Friedrich_Gauss_1840_by_Jensen.jpg/220px-Carl_Friedrich_Gauss_1840_by_Jensen.jpg' width=200> <br>\n",
    "\n",
    "The importance of Normal(Gaussian) distributions is partly due to the **central limit theorem**. <br>\n",
    "The central limit theoremstates that, under some conditions, the average of many samples (observations) of a random variable with finite mean and variance <br>is itself a random variable—whose distribution converges to a normal distribution as the number of samples increases. <br>\n",
    "A normal distribution is sometimes informally called a **bell curve**.\n",
    "\n",
    "The parameter **mu** (μ) is the mean of the distribution (and also its median and mode), while the parameter **sigma** (σ) is its standard deviation. \n",
    "\n",
    "\n",
    "<img src = 'https://miro.medium.com/max/700/1*UAY3384oubieVRY7yHUATQ.png' width=800> <br>\n",
    "\n",
    "\n",
    "<img src = 'https://upload.wikimedia.org/wikipedia/commons/thumb/7/74/Normal_Distribution_PDF.svg/220px-Normal_Distribution_PDF.svg.png' width=400> <br>\n",
    "\n",
    "[Normal Distribution-1](https://en.wikipedia.org/wiki/Normal_distribution) <br>\n",
    "[Normal Distribution-2](https://towardsdatascience.com/understanding-normal-distribution-a40701efb134)\n",
    "\n",
    "\n",
    "#### NumPy.random.normal\n",
    "- generate a random sample of normal distribution by using the random normal() method\n",
    "\n",
    "\n",
    "\n",
    "**parameters:**\n",
    "- mu: mean  (default= 0)\n",
    "- sigma: standard deviation  (default = 1)"
   ]
  },
  {
   "cell_type": "code",
   "execution_count": 108,
   "id": "afebc2c2-7fba-4eb0-a6d5-e1b1ea4417cc",
   "metadata": {},
   "outputs": [
    {
     "data": {
      "image/png": "[encoded data removed]",
      "text/plain": [
       "<Figure size 432x288 with 1 Axes>"
      ]
     },
     "metadata": {
      "needs_background": "light"
     },
     "output_type": "display_data"
    }
   ],
   "source": [
    "# mean and standard deviation\n",
    "mu, sigma = 0, 0.1 # mean and standard deviation\n",
    "s = np.random.normal(mu, sigma, 1000)\n",
    "count, bins, ignored = plt.hist(s, 30, density=True)\n",
    "plt.plot(bins, 1/(sigma * np.sqrt(2 * np.pi)) *np.exp( - (bins - mu)**2 / (2 * sigma**2) ),linewidth=2, color='r')\n",
    "plt.show()"
   ]
  },
  {
   "cell_type": "markdown",
   "id": "68523c19-dc07-4c83-8f29-794e7d5499f9",
   "metadata": {},
   "source": [
    "<br>\n",
    "\n",
    "---\n",
    "\n",
    "<br>\n",
    "\n",
    "<br>\n",
    "\n",
    "#### Normal Distributions:\n",
    "##### Probability density function (PDF). \n",
    "\n",
    "A PDF is used to specify the probability of the random variable falling within a particular range of values, as opposed to taking on any one value. <br> \n",
    "Probability is given by the integral of this variable’s PDF over that range.\n",
    "\n",
    "<img src = 'https://miro.medium.com/max/438/1*-zgUm1iyp_bH4NWuyCBprA.png' width=400> <br>\n",
    " \n",
    "#### The 68, 95.5, 99.7 rule\n",
    "\n",
    "The normal distribution is commonly associated with the 68-95-99.7 rule which you can see in the image below. <br>\n",
    "In a normal distribution if you integrate the events under the probability curve <br> for specific variance the probability of evenrs is predictable\n",
    "- 68% of the data is within 1 standard deviation (σ) of the mean (μ)\n",
    "- 95% of the data is within 2 standard deviations (σ) of the mean (μ)\n",
    "- 99.7% of the data is within 3 standard deviations (σ) of the mean (μ) <br>\n",
    "<img src = 'https://miro.medium.com/max/1400/1*IZ2II2HYKeoMrdLU5jW6Dw.png' width=500> <br>\n"
   ]
  },
  {
   "cell_type": "code",
   "execution_count": 109,
   "id": "aab897b6-2a33-431a-9900-460426b22292",
   "metadata": {},
   "outputs": [
    {
     "name": "stdout",
     "output_type": "stream",
     "text": [
      "0.682689492137086\n"
     ]
    }
   ],
   "source": [
    "# Make a PDF for the normal distribution a function\n",
    "from scipy.integrate import quad\n",
    "def normalProbabilityDensity(x):\n",
    "    constant = 1.0 / np.sqrt(2*np.pi)\n",
    "    return(constant * np.exp((-x**2) / 2.0) )\n",
    "# Integrate PDF from -1 to 1  (can change values to -2, 2 and -3, 3 below and rerun the code)\n",
    "result, _ = quad(normalProbabilityDensity, -1, 1, limit = 1000)\n",
    "print(result)"
   ]
  },
  {
   "cell_type": "markdown",
   "id": "87b1bb9b-c37d-4f47-ad02-51d98aa29b43",
   "metadata": {},
   "source": [
    "<br>\n",
    "\n",
    "---\n",
    "\n",
    "<br>\n",
    "\n",
    "<br>\n",
    "\n",
    "### Binomial\n",
    "\n",
    "\n",
    "Also called the **bernoulli distribution**, named after Swiss mathematician Jacob Bernoulli (1655-1705), this is the kind of distribution that is present when flipping a coin.<br><br>\n",
    "<img src = 'https://upload.wikimedia.org/wikipedia/commons/thumb/1/19/Jakob_Bernoulli.jpg/220px-Jakob_Bernoulli.jpg' width=200> <br>\n",
    "\n",
    "There are only two possible outcomes — Heads or tails, success or failure, 0 or 1. <br>\n",
    "However this kind of distribution doesn’t have to be 50/50: <br>\n",
    "Assuming no external factors, and that one of the two options has a 75% success rate (i.e. based on place kickers known ability to date), <br>then the probability of 1 would be 75% and the probability of 0 would be 25% <br>\n",
    "Binomial Distribution is used to model the probability of the number of successes we can expect from n trials with a probability p.<br>\n",
    "\n",
    "A binomial distribution is a collection, n, of independent *Bernoulli events*. <br>\n",
    "Independent means that the results of the next event are not affected by the results of the previous event.<br>\n",
    "\n",
    "[Binomial Distribution- Wikipedia](https://en.wikipedia.org/wiki/Binomial_distribution) <br>\n",
    "[Binomial Distribution-Magthworld](https://mathworld.wolfram.com/BinomialDistribution.html)<br>\n",
    "[Binomial-Towards Datascience](https://towardsdatascience.com/bernoulli-and-binomial-distributions-explained-98d86ac7820)\n",
    "\n",
    "#### NumPy.random.binomial\n",
    "NumPy generate a random sample of binomial distribution by using the random binomial() method\n",
    "Samples are drawn from a binomial distribution with specified parameters, n trials and p probability of success where n an integer >= 0 and p is in the interval [0,1].\n",
    "(n may be input as a float, but it is truncated to an integer in use)\n",
    "**parameters:**\n",
    "- n: no of trails and distribution value is greater than equal to 0.\n",
    "- p: p value range between >=0 and <=1 &nbsp; &emsp;   *i.e. probability of success*\n",
    "- size: By default its value is none."
   ]
  },
  {
   "cell_type": "code",
   "execution_count": 110,
   "id": "a424aaa9-30fb-4aa1-8ab4-a53e79de9fc5",
   "metadata": {},
   "outputs": [
    {
     "name": "stdout",
     "output_type": "stream",
     "text": [
      "[4 1 2 5 5 3 3 6 4 5 4 3 3 3 6]\n"
     ]
    }
   ],
   "source": [
    "binom_arr = np.random.binomial(n=8, p=0.5, size=15)\n",
    "print(binom_arr)"
   ]
  },
  {
   "cell_type": "code",
   "execution_count": 111,
   "id": "1fd6931c-bd3b-4f9e-87be-bf89d4a399bc",
   "metadata": {},
   "outputs": [
    {
     "data": {
      "image/png": "[encoded data removed]",
      "text/plain": [
       "<Figure size 432x288 with 1 Axes>"
      ]
     },
     "metadata": {
      "needs_background": "light"
     },
     "output_type": "display_data"
    }
   ],
   "source": [
    "n, p = 10, .5  # number of trials, probability of each trial\n",
    "s = np.random.binomial(n, p, 1000)\n",
    "count, bins, ignored = plt.hist(s, 30, density=False)\n",
    "plt.show()"
   ]
  },
  {
   "cell_type": "markdown",
   "id": "2d9a053a-4939-4a97-b755-7762b59d8cf0",
   "metadata": {},
   "source": [
    "<br>\n",
    "\n",
    "---\n",
    "\n",
    "<br>\n",
    "\n",
    "<br>\n",
    "\n",
    "### Poisson\n",
    "\n",
    "#### Statistical background\n",
    "\n",
    "- A Poisson Process is a model for a series of discrete event where the average time between events is known, but the exact timing of events is random.\n",
    "- named after French mathematician Siméon Denis Poisson (1781–1840) <br>\n",
    "\n",
    "<img src = 'https://encrypted-tbn0.gstatic.com/images?q=tbn:ANd9GcQBwIHyfJ3-wpCGU7XMkHsWbXxkCVx6qZO8zg&usqp=CAU' width=400> <br>\n",
    "\n",
    "\n",
    "refers to the probability of a given number of events occurring in a fixed interval of time or space with the assumption:\n",
    "- these events occur with a known constant mean rate\n",
    "- occur independently of the time since the last event <br>\n",
    " \n",
    " \n",
    "The idea is, we can make the Binomial random variable handle multiple events by dividing a unit time into smaller units. <br> By using smaller divisions, we can make the original unit time contain more than one event.\n",
    "Mathematically, this means n → ∞.<br>\n",
    "Since we assume the rate is fixed, we must have p → 0. Otherwise, n*p, which is the number of events, will be off the scale. Using the limit, the unit times are now infinitesimal. <br>Unlike Binomial we no longer have to worry about more than one event occurring within the same unit time. <br> This is how the Poisson distribution is derived<br>\n",
    "\n",
    "**The Poisson distribution is an appropriate model if the following assumptions are true:**\n",
    "\n",
    "- k is the number of times an event occurs in an interval and k can take values 0, 1, 2, ....\n",
    "- The occurrence of one event does not affect the probability that a second event will occur. That is, events occur independently.\n",
    "- The average rate at which events occur is independent of any occurrences. For simplicity, this is usually assumed to be constant, but may in practice vary with time.\n",
    "- Two events cannot occur at exactly the same instant; instead, at each very small sub-interval, either exactly one event occurs, or no event occurs.\n",
    "- If these conditions are true, then k is a Poisson random variable, and the distribution of k is a Poisson distribution\n",
    "\n",
    "[Poisson-Towards Data Science-1](https://towardsdatascience.com/the-poisson-distribution-and-poisson-process-explained-4e2cb17d459) <br>\n",
    "[Poisson-Towards Data Science-2](https://towardsdatascience.com/poisson-distribution-intuition-and-derivation-1059aeab90d)\n",
    "\n",
    "#### NumPy.random.poisson\n",
    "- generate a random sample of poisson distribution by using the random poisson() method\n",
    "*parameters:*\n",
    "- lam(lambda): float or array_like of floats (default = 1.0)\n",
    "- size: int or tuple of ints, optional (default = None)\n"
   ]
  },
  {
   "cell_type": "code",
   "execution_count": 112,
   "id": "afebfc17-9b5c-4114-a3d5-fa53696d68e8",
   "metadata": {},
   "outputs": [
    {
     "data": {
      "image/png": "[encoded data removed]",
      "text/plain": [
       "<Figure size 432x288 with 1 Axes>"
      ]
     },
     "metadata": {
      "needs_background": "light"
     },
     "output_type": "display_data"
    }
   ],
   "source": [
    "s = np.random.poisson(5, 10000)\n",
    "count, bins, ignored = plt.hist(s, 14, density=True)\n",
    "plt.show()"
   ]
  },
  {
   "attachments": {
    "15a7431d-7262-41bb-a4f1-940ae5ee2963.png": {
     "image/png": "[encoded data removed]"
    },
    "7957b812-2c39-4eed-b10f-bf29b4ff6f14.png": {
     "image/png": "[encoded data removed]"
    }
   },
   "cell_type": "markdown",
   "id": "75bd1f24-8b0d-4629-8e78-ab3ca6d1965e",
   "metadata": {},
   "source": [
    "\n",
    "---\n",
    "\n",
    "<br>\n",
    "\n",
    "### Exponential\n",
    "\n",
    "The exponential **distribution** is the probability distribution of the time between events in a Poisson point process, <br>\n",
    "i.e., a process in which events occur continuously and independently at a constant average rate.<br>\n",
    "It is not to be confused with *the exponential function* which is a mathematical function denoted by f(x)=\\exp or e^{x}.\n",
    "\n",
    "The Poisson distribution deals with the **number of occurrences in a fixed period of time** whereas <br>\n",
    "the exponential distribution deals with the **time between occurrences of successive events as time flows by continuously**.\n",
    "\n",
    "The exponential distribution is often concerned with the amount of time until some specific event occurs. <br> An example would be the amount of time (starting now) until a single unplanned event i.e a lightning strike<br>\n",
    "Another example of exponential function is the number of days ahead travellers purchase their airline tickets.\n",
    "\n",
    "\n",
    "<img src = 'https://upload.wikimedia.org/wikipedia/commons/thumb/0/02/Exponential_probability_density.svg/325px-Exponential_probability_density.svg.png' width=400> <br>\n",
    "\n",
    "#### Exponential Distribution:\n",
    "\n",
    "![image.png](attachment:15a7431d-7262-41bb-a4f1-940ae5ee2963.png)![image.png](attachment:7957b812-2c39-4eed-b10f-bf29b4ff6f14.png)\n",
    "\n",
    "#### NumPy.random,exponential\n",
    "- outputs a random sample of exponential distribution by using the random exponential() method\n",
    "*parameters:*\n",
    "- scale float or array_like of floats (default =0)\n",
    "- size: int or tuple of ints, optional (default = None)\n",
    "\n",
    "https://towardsdatascience.com/what-is-exponential-distribution-7bdd08590e2a <br>\n",
    "https://en.wikipedia.org/wiki/Exponential_distributionhttps://www.geeksforgeeks.org/numpy-random-exponential-in-python/ <br>\n",
    "https://www.geeksforgeeks.org/numpy-random-exponential-in-python/"
   ]
  },
  {
   "cell_type": "code",
   "execution_count": 113,
   "id": "992f0474-0791-4977-acba-9decafb274af",
   "metadata": {},
   "outputs": [
    {
     "name": "stdout",
     "output_type": "stream",
     "text": [
      "9.097654122123663\n"
     ]
    }
   ],
   "source": [
    "expo_rand = np.random.exponential(23)\n",
    "print(expo_rand)"
   ]
  },
  {
   "cell_type": "code",
   "execution_count": 114,
   "id": "a7baf2af-2ece-4541-83d8-732bca127b6f",
   "metadata": {},
   "outputs": [
    {
     "data": {
      "image/png": "[encoded data removed]",
      "text/plain": [
       "<Figure size 432x288 with 1 Axes>"
      ]
     },
     "metadata": {
      "needs_background": "light"
     },
     "output_type": "display_data"
    }
   ],
   "source": [
    "# Using exponential() method\n",
    "expon = np.random.exponential(5, 1000)\n",
    "count, bins, ignored = plt.hist(expon, 14, density = True)\n",
    "plt.show()"
   ]
  },
  {
   "cell_type": "markdown",
   "id": "9c09c34c-8c2a-4323-93db-7bf2f3ba7975",
   "metadata": {},
   "source": [
    "<br>\n",
    "\n",
    "---\n",
    "\n",
    "<br>\n",
    "\n",
    "<br>\n",
    "\n",
    "### Chisquare\n",
    "\n",
    "The chi-squared distribution is used in the common chi-squared tests for **goodness of fit** of an observed distribution to a theoretical one. <br>\n",
    "Chi Square distribution is used as a basis to **verify the hypothesis**.\n",
    "\n",
    "e.g. Hypothesis: A data scientist wants to know if education level and marital status are related for all people in a given country.\n",
    "\n",
    "When df independent random variables, each with standard normal distributions (mean 0, variance 1), are squared and summed, the resulting distribution is chi-squared.<br>\n",
    "outputs a random sample of chisquare distribution by using the random chisquare() method. <br>\n",
    "\n",
    "#### Numpy.random.chisquare\n",
    "\n",
    "**parameters:**\n",
    "NumPy chisquare has two parameters:\n",
    "- df: (degree of freedom).- set of floats or array of floats\n",
    "- size: The shape of the returned array (By default its value is none)\n",
    "\n",
    "https://www.w3schools.com/python/numpy/numpy_random_chisquare.asp <br>\n",
    "https://compucademy.net/python-seaborn-distplot-is-a-deprecated-function/"
   ]
  },
  {
   "cell_type": "code",
   "execution_count": 115,
   "id": "2dd3c04c-a3aa-43fe-a29f-0ff42db0646d",
   "metadata": {},
   "outputs": [
    {
     "data": {
      "text/plain": [
       "array([1.15360348, 4.826194  , 1.10776047, 0.01267601])"
      ]
     },
     "execution_count": 115,
     "metadata": {},
     "output_type": "execute_result"
    }
   ],
   "source": [
    "np.random.chisquare(2,4)"
   ]
  },
  {
   "cell_type": "code",
   "execution_count": 116,
   "id": "ad10937e-2b84-4f65-9d12-a9b4e16c51a1",
   "metadata": {},
   "outputs": [
    {
     "data": {
      "image/png": "[encoded data removed]",
      "text/plain": [
       "<Figure size 360x360 with 1 Axes>"
      ]
     },
     "metadata": {
      "needs_background": "light"
     },
     "output_type": "display_data"
    }
   ],
   "source": [
    "# create a chisquare distribution from numpy.random\n",
    "# df = degrees of freedom.  Change value and re-run to see the impact\n",
    "import seaborn as sns\n",
    "sns.displot(random.chisquare(df=3, size=1000),kde =False)\n",
    "plt.show()\n",
    "# note: 'distplot' is deprecated"
   ]
  },
  {
   "attachments": {
    "09356c35-372c-46bd-bd4a-c7c7edfed346.png": {
     "image/png": "[encoded data removed]"
    }
   },
   "cell_type": "markdown",
   "id": "2413022c-1855-4fc2-8c2c-f5b734a9b13e",
   "metadata": {},
   "source": [
    "<br>\n",
    "\n",
    "---\n",
    "\n",
    "<br>\n",
    "\n",
    "<br>\n",
    "\n",
    "#### Lognormal\n",
    "\n",
    "A variable x has a log-normal distribution if log(x) is normally distributed. The probability density function for the log-normal distribution is:\n",
    "\n",
    "![image.png](attachment:09356c35-372c-46bd-bd4a-c7c7edfed346.png)!\n",
    "\n",
    "where (μ)is the mean and (σ) is the standard deviation of the normally distributed logarithm of the variable.<br> A log-normal distribution results if a random variable is the product of a large number of independent, identically-distributed variables <br> in the same way that a normal distribution results if the variable is the sum of a large number of independent, identically-distributed variables.\n",
    "Log-normal.random outputs a random sample of lognormal distribution by using the random lognormal() method<br>\n",
    "Draws samples from a log-normal distribution with specified mean, standard deviation, and array shape.<br>\n",
    "\n",
    "#### NumPy.random.lognormal\n",
    "\n",
    "**parameters:**\n",
    "- mu: mean  (default= 0)\n",
    "- sigma: standard deviation  (default = 1)\n",
    "\n",
    "[numpy.random.lognormal](https://het.as.utexas.edu/HET/Software/Numpy/reference/generated/numpy.random.lognormal.html)"
   ]
  },
  {
   "cell_type": "code",
   "execution_count": 117,
   "id": "f9beeed4-40ab-4f49-9a59-fc52d899c9df",
   "metadata": {},
   "outputs": [
    {
     "data": {
      "image/png": "[encoded data removed]",
      "text/plain": [
       "<Figure size 432x288 with 1 Axes>"
      ]
     },
     "metadata": {
      "needs_background": "light"
     },
     "output_type": "display_data"
    }
   ],
   "source": [
    "mu, sigma = 3., 1. # mean and standard deviation\n",
    "s = np.random.lognormal(mu, sigma, 1000)\n",
    "count, bins, ignored = plt.hist(s, 100, density=True, align='mid')\n",
    "x = np.linspace(min(bins), max(bins), 10000)\n",
    "#draw the lognormal distribution based on probability density function\n",
    "pdf = (np.exp(-(np.log(x) - mu)**2 / (2 * sigma**2))\n",
    "       / (x * sigma * np.sqrt(2 * np.pi)))\n",
    "plt.plot(x, pdf, linewidth=2, color='r')\n",
    "plt.axis('tight')\n",
    "plt.show()"
   ]
  },
  {
   "cell_type": "markdown",
   "id": "9183d395-404e-43a6-a86c-1004470c428b",
   "metadata": {},
   "source": [
    "# References used\n",
    "\n",
    "1. https://www.w3schools.com/python/numpy/numpy_random.asp\n",
    "2. https://pythonguides.com/python-numpy-random/\n",
    "3.https://numpy.org/doc/1.16/reference/routines.random.html\n",
    "4.https://medium.com/analytics-vidhya/numpy-random-module-numpy-random-examples-cec1b531c1b8\n",
    "5.https://www.geeksforgeeks.org/random-seed-in-python/\n",
    "6.https://en.wikipedia.org/wiki/Normal_distribution\n",
    "7.https://towardsdatascience.com/understanding-normal-distribution-a40701efb134\n",
    "8.https://en.wikipedia.org/wiki/Binomial_distribution\n",
    "9.https://mathworld.wolfram.com/BinomialDistribution.html\n",
    "10.https://towardsdatascience.com/bernoulli-and-binomial-distributions-explained-98d86ac7820\n",
    "11.https://towardsdatascience.com/poisson-distribution-intuition-and-derivation-1059aeab90d\n",
    "12.https://towardsdatascience.com/poisson-distribution-intuition-and-derivation-1059aeab90d\n",
    "13.https://towardsdatascience.com/what-is-exponential-distribution-7bdd08590e2a <br>\n",
    "14.https://en.wikipedia.org/wiki/Exponential_distribution\n",
    "15.https://www.geeksforgeeks.org/numpy-random-exponential-in-python/ <br>\n",
    "16.https://www.geeksforgeeks.org/numpy-random-exponential-in-python/\n",
    "17.https://www.w3schools.com/python/numpy/numpy_random_chisquare.asp\n",
    "18.https://towardsdatascience.com/what-is-exponential-distribution-7bdd08590e2a\n",
    "19. https://towardsdatascience.com/the-poisson-distribution-and-poisson-process-explained-4e2cb17d459\n",
    "20. https://towardsdatascience.com/7-essential-tips-for-writing-with-jupyter-notebook-60972a1a8901\n",
    "21. https://compucademy.net/python-seaborn-distplot-is-a-deprecated-function/\n",
    "22. https://het.as.utexas.edu/HET/Software/Numpy/reference/generated/numpy.random.lognormal.html\n",
    "23.https://towardsdatascience.com/optimizing-jupyter-notebook-tips-tricks-and-nbextensions-26d75d502663"
   ]
  },
  {
   "cell_type": "markdown",
   "id": "dc845351-f36a-45a5-81f0-7f306a4a1517",
   "metadata": {},
   "source": [
    "# End"
   ]
  },
  {
   "cell_type": "code",
   "execution_count": null,
   "id": "a49bafc9-923d-4871-bbf8-4afe666696fd",
   "metadata": {},
   "outputs": [],
   "source": []
  }
 ],
 "metadata": {
  "kernelspec": {
   "display_name": "Python 3",
   "language": "python",
   "name": "python3"
  },
  "language_info": {
   "codemirror_mode": {
    "name": "ipython",
    "version": 3
   },
   "file_extension": ".py",
   "mimetype": "text/x-python",
   "name": "python",
   "nbconvert_exporter": "python",
   "pygments_lexer": "ipython3",
   "version": "3.8.8"
  }
 },
 "nbformat": 4,
 "nbformat_minor": 5
}
