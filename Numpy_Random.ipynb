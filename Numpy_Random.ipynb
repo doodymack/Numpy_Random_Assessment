{
 "cells": [
  {
   "cell_type": "code",
   "execution_count": null,
   "id": "3bb2175d-d3fe-4e9d-a77a-9f7b4818183e",
   "metadata": {},
   "outputs": [],
   "source": []
  },
  {
   "cell_type": "markdown",
   "id": "fffed812-f410-4364-bc70-aa5dfdb23767",
   "metadata": {},
   "source": [
    "#### Optimising Jupyter Notebook\n",
    "https://towardsdatascience.com/optimizing-jupyter-notebook-tips-tricks-and-nbextensions-26d75d502663"
   ]
  },
  {
   "cell_type": "code",
   "execution_count": null,
   "id": "45ffb54c-9b7f-4af2-bee0-799fbe3df7b2",
   "metadata": {},
   "outputs": [],
   "source": []
  },
  {
   "cell_type": "markdown",
   "id": "8090831b-db6f-423e-84c1-1eb203379ea3",
   "metadata": {},
   "source": [
    "# The Numpy.random package\n",
    "\n",
    "***\n"
   ]
  },
  {
   "cell_type": "markdown",
   "id": "c303ad68-3cc4-4ca0-b87f-6e17d169b28d",
   "metadata": {},
   "source": [
    "1. Explain the overall purpose of the package.\n",
    "2. Explain the use of the “Simple random data” and “Permutations” functions.\n",
    "3. Explain the use and purpose of at least five “Distributions” functions.\n",
    "4. Explain the use of seeds in generating pseudorandom numbers"
   ]
  },
  {
   "cell_type": "markdown",
   "id": "ea2d0efb-73ea-4907-b886-2c0412b2a444",
   "metadata": {},
   "source": [
    "NumPy (Numerical Python) is an open source Python library that’s used in almost every field of science and engineering. It’s the universal standard for working with numerical data in Python, and it’s at the core of the scientific Python and PyData ecosystems. NumPy users include everyone from beginning coders to experienced researchers doing state-of-the-art scientific and industrial research and development. The NumPy API is used extensively in Pandas, SciPy, Matplotlib, scikit-learn, scikit-image and most other data science and scientific Python package.\n",
    "\n",
    "To access NumPy and its functions it can be imported into your Python code like this:\n",
    "\n",
    "import numpy as np\n",
    "\n",
    "The imported name is shortened to np for better readability of code using NumPy. This is a widely adopted convention that you should follow so that anyone working with your code can easily understand it.\n",
    "\n",
    "#### Arrays in numpy\n",
    "While a Python list can contain different data types within a single list, all of the elements in a NumPy array should be homogeneous.\n",
    "NumPy arrays are faster and more compact than Python lists. An array consumes less memory and is convenient to use. NumPy uses much less memory to store data and it provides a mechanism of specifying the data types. This allows the code to be optimized even further.\n",
    "\n",
    "#### what is an array in numpy\n",
    "An array is a central data structure of the NumPy library. An array is a grid of values and it contains information about the raw data, how to locate an element, and how to interpret an element. It has a grid of elements that can be indexed in various ways. The elements are all of the same type, referred to as the array dtype.\n",
    "\n",
    "An array can be indexed by a tuple of nonnegative integers, by booleans, by another array, or by integers. The rank of the array is the number of dimensions. The shape of the array is a tuple of integers giving the size of the array along each dimension."
   ]
  },
  {
   "cell_type": "markdown",
   "id": "fe6740cb-3687-4bae-974b-d63459fe8c96",
   "metadata": {},
   "source": [
    "[NumPy for absolute beginners](https://numpy.org/doc/stable/user/absolute_beginners.html)') <br>\n",
    "\n",
    "[Random Sampling/Permutations/Distributions]('https://numpy.org/doc/1.16/reference/routines.random.html')"
   ]
  },
  {
   "cell_type": "markdown",
   "id": "f6fdc481-6752-42f0-a074-a9eef52361e5",
   "metadata": {},
   "source": [
    "#### examples of arrays"
   ]
  },
  {
   "cell_type": "code",
   "execution_count": 1,
   "id": "5c6c00ca-1a73-49bb-bac9-0679c6eb5380",
   "metadata": {},
   "outputs": [],
   "source": [
    "import numpy as np"
   ]
  },
  {
   "cell_type": "code",
   "execution_count": 2,
   "id": "3d6a2c26-c223-4b9b-9669-be398403e429",
   "metadata": {},
   "outputs": [],
   "source": [
    "a = np.array([1, 2, 3])"
   ]
  },
  {
   "cell_type": "code",
   "execution_count": 3,
   "id": "03ddf942-a682-4232-94e8-09b347381839",
   "metadata": {},
   "outputs": [],
   "source": [
    "a = np.array([[1, 2, 3, 4], [5, 6, 7, 8], [9, 10, 11, 12]])"
   ]
  },
  {
   "cell_type": "markdown",
   "id": "62c3a567-8e03-4acb-a81b-30c12895c6af",
   "metadata": {},
   "source": [
    "We can access the elements in the array using square brackets. When you’re accessing elements, remember that indexing in NumPy starts at 0. That means that if you want to access the first element in your array, you’ll be accessing element “0”."
   ]
  },
  {
   "cell_type": "code",
   "execution_count": 4,
   "id": "10d45dfc-4ca9-49a3-81f6-59e2ab726df3",
   "metadata": {},
   "outputs": [
    {
     "name": "stdout",
     "output_type": "stream",
     "text": [
      "[5 6 7 8]\n"
     ]
    }
   ],
   "source": [
    "print(a[1])"
   ]
  },
  {
   "cell_type": "markdown",
   "id": "4f41631f-c7bc-49fb-9982-48816a3b9f1e",
   "metadata": {},
   "source": [
    "we can define an array without manually creating it"
   ]
  },
  {
   "cell_type": "code",
   "execution_count": 5,
   "id": "f946632c-ed18-44f3-9f53-28d6573d5503",
   "metadata": {},
   "outputs": [
    {
     "data": {
      "text/plain": [
       "array([0., 0., 0., 0., 0., 0., 0., 0., 0., 0., 0.])"
      ]
     },
     "execution_count": 5,
     "metadata": {},
     "output_type": "execute_result"
    }
   ],
   "source": [
    "# works with 'ones' also\n",
    "np.zeros(11)"
   ]
  },
  {
   "cell_type": "code",
   "execution_count": 6,
   "id": "60983402-7a19-4f6f-95d2-6cfc52c9f11d",
   "metadata": {},
   "outputs": [
    {
     "data": {
      "text/plain": [
       "array([2.12199579e-314, 9.34609789e-307, 4.22920193e-321, 9.33678148e-312,\n",
       "       1.42419938e-306])"
      ]
     },
     "execution_count": 6,
     "metadata": {},
     "output_type": "execute_result"
    }
   ],
   "source": [
    "#create an array with randon floats of a specified number \n",
    "#randomised- restart kernel to create new random numbers#\n",
    "np.empty(5)"
   ]
  },
  {
   "cell_type": "code",
   "execution_count": 7,
   "id": "c6b83b3b-b3f0-413e-b236-ccf2f4150b84",
   "metadata": {},
   "outputs": [
    {
     "data": {
      "text/plain": [
       "array([ 0,  1,  2,  3,  4,  5,  6,  7,  8,  9, 10, 11, 12, 13, 14, 15, 16,\n",
       "       17, 18, 19, 20, 21, 22, 23, 24, 25, 26, 27, 28, 29, 30, 31, 32, 33,\n",
       "       34, 35, 36, 37, 38, 39])"
      ]
     },
     "execution_count": 7,
     "metadata": {},
     "output_type": "execute_result"
    }
   ],
   "source": [
    "# create an array with 40 elements\n",
    "np.arange(40)"
   ]
  },
  {
   "cell_type": "code",
   "execution_count": 8,
   "id": "d88424ba-8d08-4f04-bdac-90c3c02df910",
   "metadata": {},
   "outputs": [
    {
     "data": {
      "text/plain": [
       "array([ 2,  4,  6,  8, 10, 12, 14, 16, 18, 20, 22, 24, 26, 28, 30, 32])"
      ]
     },
     "execution_count": 8,
     "metadata": {},
     "output_type": "execute_result"
    }
   ],
   "source": [
    "# specify the first number, last number, and the step size\n",
    "np.arange(2,33,2)"
   ]
  },
  {
   "cell_type": "code",
   "execution_count": 9,
   "id": "2ac7be92-6077-4a6a-9afa-3c96c56b9321",
   "metadata": {},
   "outputs": [
    {
     "data": {
      "text/plain": [
       "array([  2. ,  26.5,  51. ,  75.5, 100. ])"
      ]
     },
     "execution_count": 9,
     "metadata": {},
     "output_type": "execute_result"
    }
   ],
   "source": [
    "#use np.linspace() to create an array with values that are spaced linearly in a specified interval\n",
    "np.linspace(2,100, num=5)"
   ]
  },
  {
   "cell_type": "code",
   "execution_count": 10,
   "id": "d6402b63-892e-4f42-8500-dcead3691014",
   "metadata": {},
   "outputs": [
    {
     "data": {
      "text/plain": [
       "array([1, 1, 1, 1, 1, 1, 1, 1, 1, 1, 1, 1, 1, 1, 1, 1, 1, 1, 1, 1],\n",
       "      dtype=int64)"
      ]
     },
     "execution_count": 10,
     "metadata": {},
     "output_type": "execute_result"
    }
   ],
   "source": [
    "#default data type is floating point (np.float64) but if want e.g integer\n",
    "x = np.ones(20, dtype=np.int64)\n",
    "x\n",
    "#e.g. no decimal points"
   ]
  },
  {
   "cell_type": "markdown",
   "id": "5d671a18-8b2f-43d0-b66c-77fc40901bd6",
   "metadata": {},
   "source": [
    "sorting an array"
   ]
  },
  {
   "cell_type": "code",
   "execution_count": 11,
   "id": "6bbc9c8a-71ce-4011-a11a-02af65110393",
   "metadata": {},
   "outputs": [
    {
     "data": {
      "text/plain": [
       "array([2, 1, 5, 3, 7, 4, 6, 8])"
      ]
     },
     "execution_count": 11,
     "metadata": {},
     "output_type": "execute_result"
    }
   ],
   "source": [
    "# array numbers are not sorted\n",
    "arr = np.array([2, 1, 5, 3, 7, 4, 6, 8])\n",
    "arr"
   ]
  },
  {
   "cell_type": "code",
   "execution_count": 12,
   "id": "0f86bd16-99bf-4094-acbf-8138031d47b8",
   "metadata": {},
   "outputs": [
    {
     "data": {
      "text/plain": [
       "array([1, 2, 3, 4, 5, 6, 7, 8])"
      ]
     },
     "execution_count": 12,
     "metadata": {},
     "output_type": "execute_result"
    }
   ],
   "source": [
    "#array numbers are sorted by size\n",
    "arr = np.array([2, 1, 5, 3, 7, 4, 6, 8])\n",
    "np.sort(arr)"
   ]
  },
  {
   "cell_type": "markdown",
   "id": "1a82f449-97dd-42cd-aaf8-865ed723045b",
   "metadata": {},
   "source": [
    " also look-up: <br>\n",
    "*argsort*, which is an indirect sort along a specified axis, <br>\n",
    "*lexsort*, which is an indirect stable sort on multiple keys,<br>\n",
    "*searchsorted*, which will find elements in a sorted array,<br>\n",
    "*partition*, which is a partial sort<br>"
   ]
  },
  {
   "cell_type": "markdown",
   "id": "5645ef87-8c2b-46d6-835a-ace9dd37b56d",
   "metadata": {},
   "source": [
    "#### concatenation of arrays"
   ]
  },
  {
   "cell_type": "code",
   "execution_count": 13,
   "id": "2e25f7e6-faa3-4baa-b3cf-1fabb1d022c0",
   "metadata": {},
   "outputs": [
    {
     "data": {
      "text/plain": [
       "array([1, 2, 3, 4, 5, 6, 7, 8, 9])"
      ]
     },
     "execution_count": 13,
     "metadata": {},
     "output_type": "execute_result"
    }
   ],
   "source": [
    "a = np.array([1, 2, 3, 4])\n",
    "b = np.array([5, 6, 7, 8, 9])\n",
    "np.concatenate ((a,b))"
   ]
  },
  {
   "cell_type": "code",
   "execution_count": 14,
   "id": "17a34778-b891-4d6e-a3b6-e1b4f29fee13",
   "metadata": {},
   "outputs": [
    {
     "data": {
      "text/plain": [
       "array([5, 6, 7, 8, 9, 1, 2, 3, 4])"
      ]
     },
     "execution_count": 14,
     "metadata": {},
     "output_type": "execute_result"
    }
   ],
   "source": [
    "#remember the double brackets\n",
    "#new array lists elements in order called\n",
    "np.concatenate ((b,a))"
   ]
  },
  {
   "cell_type": "code",
   "execution_count": 15,
   "id": "3a4f23c6-9d17-4cb1-b182-97fc4a761a17",
   "metadata": {},
   "outputs": [
    {
     "data": {
      "text/plain": [
       "array([5, 6, 7, 8, 9, 5, 6, 7, 8, 9])"
      ]
     },
     "execution_count": 15,
     "metadata": {},
     "output_type": "execute_result"
    }
   ],
   "source": [
    "# can concatenate one of the two arrays x times\n",
    "np.concatenate ((b,b))"
   ]
  },
  {
   "cell_type": "code",
   "execution_count": 16,
   "id": "cd1d8ba3-fddf-4392-8b40-eb13b4dc9a2e",
   "metadata": {},
   "outputs": [
    {
     "data": {
      "text/plain": [
       "array([[1, 2],\n",
       "       [3, 4],\n",
       "       [5, 6]])"
      ]
     },
     "execution_count": 16,
     "metadata": {},
     "output_type": "execute_result"
    }
   ],
   "source": [
    "# concatenate two arrays of different dimensions\n",
    "x = np.array([[1, 2], [3, 4]])\n",
    "y = np.array([[5, 6]])\n",
    "np.concatenate ((x,y)) #, axis =0)"
   ]
  },
  {
   "cell_type": "markdown",
   "id": "6a4ea7e0-5c6e-4d6e-8a01-f181852c08f7",
   "metadata": {},
   "source": [
    "#### Dimensional arrays\n",
    "An N-dimensional array is simply an array with any number of dimensions.<br> A vector is an array with a single dimension (there’s no difference between row and column vectors), while a matrix refers to an array with two dimensions. "
   ]
  },
  {
   "cell_type": "code",
   "execution_count": 17,
   "id": "7e4c3534-e493-41f5-a684-97a551601d8e",
   "metadata": {},
   "outputs": [],
   "source": [
    "#dimensions within square brackets\n",
    "#see below each array in square brackets is bracketed again- three of these\n",
    "array_x = np.array([[[0, 1, 2, 3],\n",
    "                          [4, 5, 6, 7]], \n",
    "                    \n",
    "                    [[0 ,1 ,2, 3],\n",
    "                     [4, 5, 6, 7]],\n",
    "                    \n",
    "                          [[0, 1, 2, 3],\n",
    "                           [4, 5, 6, 7]]])"
   ]
  },
  {
   "cell_type": "code",
   "execution_count": 18,
   "id": "49ff9b19-e843-475c-9d47-e9f62c8a14b9",
   "metadata": {},
   "outputs": [
    {
     "data": {
      "text/plain": [
       "3"
      ]
     },
     "execution_count": 18,
     "metadata": {},
     "output_type": "execute_result"
    }
   ],
   "source": [
    "array_x.ndim"
   ]
  },
  {
   "cell_type": "code",
   "execution_count": 19,
   "id": "6b49542a-b176-4711-8245-cd74aea7451e",
   "metadata": {},
   "outputs": [
    {
     "data": {
      "text/plain": [
       "24"
      ]
     },
     "execution_count": 19,
     "metadata": {},
     "output_type": "execute_result"
    }
   ],
   "source": [
    "array_x.size"
   ]
  },
  {
   "cell_type": "code",
   "execution_count": 20,
   "id": "ca30ae37-5c41-4890-8d21-797bba0b1c36",
   "metadata": {},
   "outputs": [
    {
     "data": {
      "text/plain": [
       "(3, 2, 4)"
      ]
     },
     "execution_count": 20,
     "metadata": {},
     "output_type": "execute_result"
    }
   ],
   "source": [
    "# rows, columns\n",
    "#dimensions, rows, columns\n",
    "array_x.shape"
   ]
  },
  {
   "cell_type": "markdown",
   "id": "dcf8ddcd-2049-4d62-95fe-44f135e6b6fd",
   "metadata": {},
   "source": [
    "reshape an array"
   ]
  },
  {
   "cell_type": "code",
   "execution_count": 21,
   "id": "d0f25fb8-8e14-493a-8484-ee1237bb212e",
   "metadata": {},
   "outputs": [
    {
     "data": {
      "text/plain": [
       "array([[1, 2],\n",
       "       [3, 4],\n",
       "       [5, 6]])"
      ]
     },
     "execution_count": 21,
     "metadata": {},
     "output_type": "execute_result"
    }
   ],
   "source": [
    "c= np.array([1, 2, 3,4,5,6])\n",
    "b = c.reshape(3, 2)\n",
    "b"
   ]
  },
  {
   "cell_type": "markdown",
   "id": "6ca50fa4-d4a7-49aa-b964-69b34255b83f",
   "metadata": {},
   "source": [
    "<br>\n",
    "\n",
    "#### Indexing & slicing (same as Python)"
   ]
  },
  {
   "cell_type": "code",
   "execution_count": 22,
   "id": "7bd5799e-1728-4b3e-a967-1a36bb6dda63",
   "metadata": {},
   "outputs": [],
   "source": [
    "# NumPy & Python count elements as: 0,1,2,3,4,5\n",
    "data = np.array([1, 2, 3, 4, 5, 6])"
   ]
  },
  {
   "cell_type": "code",
   "execution_count": 23,
   "id": "33a69242-926a-427e-a8dd-a420eaa82bea",
   "metadata": {},
   "outputs": [
    {
     "data": {
      "text/plain": [
       "2"
      ]
     },
     "execution_count": 23,
     "metadata": {},
     "output_type": "execute_result"
    }
   ],
   "source": [
    "data[1]"
   ]
  },
  {
   "cell_type": "code",
   "execution_count": 24,
   "id": "3cf2f4d7-7c7a-47a7-be99-be8f403c8410",
   "metadata": {},
   "outputs": [
    {
     "data": {
      "text/plain": [
       "array([2, 3, 4])"
      ]
     },
     "execution_count": 24,
     "metadata": {},
     "output_type": "execute_result"
    }
   ],
   "source": [
    "data[1:4]"
   ]
  },
  {
   "cell_type": "code",
   "execution_count": 25,
   "id": "99f041ad-b1f0-4882-a9ec-16562411ac18",
   "metadata": {},
   "outputs": [
    {
     "data": {
      "text/plain": [
       "array([4, 5, 6])"
      ]
     },
     "execution_count": 25,
     "metadata": {},
     "output_type": "execute_result"
    }
   ],
   "source": [
    "data[3:]"
   ]
  },
  {
   "cell_type": "code",
   "execution_count": 26,
   "id": "bbac4b8c-a6d7-4a7f-bf43-8f529510676d",
   "metadata": {},
   "outputs": [
    {
     "data": {
      "text/plain": [
       "array([5, 6])"
      ]
     },
     "execution_count": 26,
     "metadata": {},
     "output_type": "execute_result"
    }
   ],
   "source": [
    "data[-2:]"
   ]
  },
  {
   "cell_type": "code",
   "execution_count": 27,
   "id": "9d210006-3ee1-4c94-82fb-6ff720273bd5",
   "metadata": {},
   "outputs": [
    {
     "name": "stdout",
     "output_type": "stream",
     "text": [
      "[1 2 3 4]\n"
     ]
    }
   ],
   "source": [
    "#print all the values in the array <5\n",
    "a = np.array([[1 , 2, 3, 4], [5, 6, 7, 8], [9, 10, 11, 12]])\n",
    "print(a[a < 5])"
   ]
  },
  {
   "cell_type": "code",
   "execution_count": 28,
   "id": "cb90b7f8-631e-489e-9656-2ecb6247266e",
   "metadata": {},
   "outputs": [
    {
     "name": "stdout",
     "output_type": "stream",
     "text": [
      "[ 5  6  7  8  9 10 11 12]\n"
     ]
    }
   ],
   "source": [
    "#write a function 'greater than four'\n",
    "greater_than_four = (a >=5)\n",
    "print(a[greater_than_four])"
   ]
  },
  {
   "cell_type": "code",
   "execution_count": 29,
   "id": "5b8e85c4-74f2-4e27-a5f8-39f9b8a7e63f",
   "metadata": {},
   "outputs": [
    {
     "name": "stdout",
     "output_type": "stream",
     "text": [
      "[array([[False, False, False, False],\n",
      "       [ True,  True,  True,  True],\n",
      "       [ True,  True,  True,  True]])]\n"
     ]
    }
   ],
   "source": [
    "#write a function 'greater than four' returns a boolean\n",
    "greater_than_four = (a >=5)\n",
    "print([greater_than_four])"
   ]
  },
  {
   "cell_type": "code",
   "execution_count": 30,
   "id": "58501952-a554-46a4-9b74-81a98784bf01",
   "metadata": {},
   "outputs": [
    {
     "name": "stdout",
     "output_type": "stream",
     "text": [
      "[array([ 2,  4,  6,  8, 10, 12])]\n"
     ]
    }
   ],
   "source": [
    "divisible_by_2 = a[a%2==0]\n",
    "print([divisible_by_2])"
   ]
  },
  {
   "cell_type": "code",
   "execution_count": 31,
   "id": "1721a8dd-a5e7-4004-a503-7e7e28ad3426",
   "metadata": {},
   "outputs": [
    {
     "name": "stdout",
     "output_type": "stream",
     "text": [
      "[4 5 6 7 8]\n"
     ]
    }
   ],
   "source": [
    "#apply two conditions\n",
    "c = a[(a > 3) & (a < 9)]\n",
    "print(c)"
   ]
  },
  {
   "cell_type": "code",
   "execution_count": 32,
   "id": "dc88c75b-49e9-4d03-8c14-c8e436b65548",
   "metadata": {},
   "outputs": [
    {
     "name": "stdout",
     "output_type": "stream",
     "text": [
      "(array([0, 0, 0, 0], dtype=int64), array([0, 1, 2, 3], dtype=int64))\n"
     ]
    }
   ],
   "source": [
    "# imagine the [] of a stacked on top of each other\n",
    "# rows and columns then signify locations startign with row 0 and column 0 top left of dataframe\n",
    "b = np.nonzero(a < 5)\n",
    "print(b)"
   ]
  },
  {
   "cell_type": "code",
   "execution_count": null,
   "id": "3d608dd5-8967-4553-8a6b-ea8576670707",
   "metadata": {},
   "outputs": [],
   "source": []
  },
  {
   "cell_type": "markdown",
   "id": "ae408883-9558-4afd-bb2f-095f56585ab6",
   "metadata": {},
   "source": [
    "<br>\n",
    "\n",
    "#### create an array from exisitng array"
   ]
  },
  {
   "cell_type": "code",
   "execution_count": 33,
   "id": "1fd73d1d-dd07-4e9f-94f2-ff8437e82f01",
   "metadata": {},
   "outputs": [
    {
     "data": {
      "text/plain": [
       "array([4, 5, 6, 7, 8])"
      ]
     },
     "execution_count": 33,
     "metadata": {},
     "output_type": "execute_result"
    }
   ],
   "source": [
    "# rcreate a new array from position 3 to 8 \n",
    "# array numbering starts at zero\n",
    "# element in position 3 is included , elmeent at position 8 is excluded\n",
    "a = np.array([1,  2,  3,  4,  5,  6,  7,  8,  9, 10])\n",
    "arr1 = a[3:8]\n",
    "arr1"
   ]
  },
  {
   "cell_type": "markdown",
   "id": "44754f6b-9fd4-4d48-88bb-3592d19e42cb",
   "metadata": {},
   "source": [
    "##### stacking arrays <br>"
   ]
  },
  {
   "cell_type": "code",
   "execution_count": 34,
   "id": "c883f359-d120-4a1d-9ba6-9198359b1ae0",
   "metadata": {},
   "outputs": [
    {
     "data": {
      "text/plain": [
       "array([[1, 1],\n",
       "       [2, 2],\n",
       "       [3, 3],\n",
       "       [4, 4]])"
      ]
     },
     "execution_count": 34,
     "metadata": {},
     "output_type": "execute_result"
    }
   ],
   "source": [
    "# v stack = vertical stack\n",
    "#Note: a1 = np.array  as below is the same i.e [2,2] on next line\n",
    "#              ([[1, 1],\n",
    "#                 [2, 2]])\n",
    "a1 = np.array([[1, 1],[2, 2]])\n",
    "\n",
    "a2 = np.array([[3, 3],[4, 4]])\n",
    "\n",
    "np.vstack((a1, a2))"
   ]
  },
  {
   "cell_type": "code",
   "execution_count": 35,
   "id": "93313763-ff76-45c0-bac5-57cdfa90ede5",
   "metadata": {},
   "outputs": [
    {
     "data": {
      "text/plain": [
       "array([[1, 1, 3, 3],\n",
       "       [2, 2, 4, 4]])"
      ]
     },
     "execution_count": 35,
     "metadata": {},
     "output_type": "execute_result"
    }
   ],
   "source": [
    "# or can stack them horizontally so that 1st row of 1st array then 1st row of 2nd array etc\n",
    "np.hstack((a1, a2))"
   ]
  },
  {
   "cell_type": "code",
   "execution_count": 36,
   "id": "0e93c593-7d72-4edc-a0d7-35a51c32daae",
   "metadata": {},
   "outputs": [
    {
     "data": {
      "text/plain": [
       "array([[ 1,  2,  3,  4,  5,  6,  7,  8,  9, 10, 11, 12],\n",
       "       [13, 14, 15, 16, 17, 18, 19, 20, 21, 22, 23, 24]])"
      ]
     },
     "execution_count": 36,
     "metadata": {},
     "output_type": "execute_result"
    }
   ],
   "source": [
    "# create two arrays using elements 1-24\n",
    "x = np.arange(1, 25).reshape(2, 12)\n",
    "x"
   ]
  },
  {
   "cell_type": "code",
   "execution_count": 37,
   "id": "13826c98-84e1-4866-9920-064f65ac7f7e",
   "metadata": {},
   "outputs": [
    {
     "data": {
      "text/plain": [
       "[array([[ 1,  2,  3,  4],\n",
       "        [13, 14, 15, 16]]),\n",
       " array([[ 5,  6,  7,  8],\n",
       "        [17, 18, 19, 20]]),\n",
       " array([[ 9, 10, 11, 12],\n",
       "        [21, 22, 23, 24]])]"
      ]
     },
     "execution_count": 37,
     "metadata": {},
     "output_type": "execute_result"
    }
   ],
   "source": [
    "#reshape: split into three dimensions\n",
    "np.hsplit(x, 3)"
   ]
  },
  {
   "cell_type": "code",
   "execution_count": 38,
   "id": "0cf51dfb-ce2a-498b-86a9-f5a8cce5d79d",
   "metadata": {},
   "outputs": [
    {
     "data": {
      "text/plain": [
       "(3, 2, 4)"
      ]
     },
     "execution_count": 38,
     "metadata": {},
     "output_type": "execute_result"
    }
   ],
   "source": [
    "#array_x.ndim\n",
    "array_x.shape\n",
    "#array_x.size"
   ]
  },
  {
   "cell_type": "code",
   "execution_count": 39,
   "id": "7fb81d60-175a-45a7-a73d-df0c8cc3ef82",
   "metadata": {},
   "outputs": [
    {
     "data": {
      "text/plain": [
       "[array([[ 1,  2,  3],\n",
       "        [13, 14, 15]]),\n",
       " array([[ 4],\n",
       "        [16]]),\n",
       " array([[ 5,  6,  7,  8,  9, 10, 11, 12],\n",
       "        [17, 18, 19, 20, 21, 22, 23, 24]])]"
      ]
     },
     "execution_count": 39,
     "metadata": {},
     "output_type": "execute_result"
    }
   ],
   "source": [
    "# split the two arrays in x after 3rd and 4th column:\n",
    "np.hsplit(x, (3, 4))"
   ]
  },
  {
   "cell_type": "code",
   "execution_count": 40,
   "id": "10057a48-1177-4fe8-badf-32a4c2bec8e9",
   "metadata": {},
   "outputs": [
    {
     "data": {
      "text/plain": [
       "[array([[ 1,  2,  3],\n",
       "        [13, 14, 15]]),\n",
       " array([[ 4],\n",
       "        [16]]),\n",
       " array([[ 5],\n",
       "        [17]]),\n",
       " array([[ 6,  7,  8,  9, 10, 11, 12],\n",
       "        [18, 19, 20, 21, 22, 23, 24]])]"
      ]
     },
     "execution_count": 40,
     "metadata": {},
     "output_type": "execute_result"
    }
   ],
   "source": [
    "# split the two arrays in x after 3rd,4th and 5th column:\n",
    "np.hsplit(x, (3, 4, 5))"
   ]
  },
  {
   "cell_type": "code",
   "execution_count": 41,
   "id": "d2d5680c-19db-47e1-9715-9cd72294c2af",
   "metadata": {},
   "outputs": [
    {
     "data": {
      "text/plain": [
       "[array([[ 1,  2],\n",
       "        [13, 14]]),\n",
       " array([[ 3],\n",
       "        [15]]),\n",
       " array([[ 4],\n",
       "        [16]]),\n",
       " array([[ 5],\n",
       "        [17]]),\n",
       " array([[ 6],\n",
       "        [18]]),\n",
       " array([[ 7],\n",
       "        [19]]),\n",
       " array([[ 8],\n",
       "        [20]]),\n",
       " array([[ 9],\n",
       "        [21]]),\n",
       " array([[10],\n",
       "        [22]]),\n",
       " array([[11],\n",
       "        [23]]),\n",
       " array([[12],\n",
       "        [24]])]"
      ]
     },
     "execution_count": 41,
     "metadata": {},
     "output_type": "execute_result"
    }
   ],
   "source": [
    "# split the two arrays  in x  after 3rd to 11th column:\n",
    "np.hsplit(x, (2,3,4,5,6,7,8,9,10,11))"
   ]
  },
  {
   "cell_type": "code",
   "execution_count": null,
   "id": "859625c3-5a84-4632-a525-2a44fb6dd32d",
   "metadata": {},
   "outputs": [],
   "source": []
  },
  {
   "cell_type": "code",
   "execution_count": 42,
   "id": "eaf2f091-ec88-4540-9e94-62cf7f435a70",
   "metadata": {},
   "outputs": [
    {
     "data": {
      "text/plain": [
       "array([5, 6, 7, 8])"
      ]
     },
     "execution_count": 42,
     "metadata": {},
     "output_type": "execute_result"
    }
   ],
   "source": [
    "ax = np.array([[1, 2, 3, 4], [5, 6, 7, 8], [9, 10, 11, 12]])\n",
    "b1 = ax[1, :]\n",
    "b1"
   ]
  },
  {
   "cell_type": "code",
   "execution_count": 43,
   "id": "abf4c885-b16c-426b-b69b-154406fd5e8d",
   "metadata": {},
   "outputs": [],
   "source": [
    "b1[1:3] = 99, 100"
   ]
  },
  {
   "cell_type": "code",
   "execution_count": 44,
   "id": "184f830a-971e-4c78-9632-9373e02bada6",
   "metadata": {},
   "outputs": [
    {
     "data": {
      "text/plain": [
       "array([  5,  99, 100,   8])"
      ]
     },
     "execution_count": 44,
     "metadata": {},
     "output_type": "execute_result"
    }
   ],
   "source": [
    "b1"
   ]
  },
  {
   "cell_type": "code",
   "execution_count": 45,
   "id": "a3b1bb02-12be-4ee9-8cea-a9ae5333818a",
   "metadata": {},
   "outputs": [
    {
     "data": {
      "text/plain": [
       "array([[  1,   2,   3,   4],\n",
       "       [  5,  99, 100,   8],\n",
       "       [  9,  10,  11,  12]])"
      ]
     },
     "execution_count": 45,
     "metadata": {},
     "output_type": "execute_result"
    }
   ],
   "source": [
    "#note original array has changed too\n",
    "#could use copy i.e. b2 = a.copy() and work from there\n",
    "ax"
   ]
  },
  {
   "cell_type": "markdown",
   "id": "8624ee5c-c37d-40c2-91c4-44e0dbc4174c",
   "metadata": {},
   "source": [
    "#### add and subtract array elements"
   ]
  },
  {
   "cell_type": "code",
   "execution_count": 46,
   "id": "a2ef2feb-9d61-4967-96cb-6088d559cf59",
   "metadata": {},
   "outputs": [
    {
     "data": {
      "text/plain": [
       "array([2, 3])"
      ]
     },
     "execution_count": 46,
     "metadata": {},
     "output_type": "execute_result"
    }
   ],
   "source": [
    "# 'data' = [1,2] , ones = [1,1]\n",
    "#dtype int = data type integer otherwise ones will create float numbers\n",
    "#arrays have to have same number of elements\n",
    "data = np.array([1, 2])\n",
    "ones = np.ones(2, dtype=int)\n",
    "data + ones"
   ]
  },
  {
   "cell_type": "code",
   "execution_count": 47,
   "id": "8b1239e5-c5c1-43a7-aa20-7554edec5886",
   "metadata": {},
   "outputs": [
    {
     "data": {
      "text/plain": [
       "array([0, 1])"
      ]
     },
     "execution_count": 47,
     "metadata": {},
     "output_type": "execute_result"
    }
   ],
   "source": [
    "data - ones"
   ]
  },
  {
   "cell_type": "code",
   "execution_count": 48,
   "id": "18d46bd0-b995-49ef-8f3c-f910f1fea76a",
   "metadata": {},
   "outputs": [
    {
     "data": {
      "text/plain": [
       "array([1, 4])"
      ]
     },
     "execution_count": 48,
     "metadata": {},
     "output_type": "execute_result"
    }
   ],
   "source": [
    "data * data"
   ]
  },
  {
   "cell_type": "code",
   "execution_count": 49,
   "id": "923bba09-834a-4c8e-ab08-d55684d4887b",
   "metadata": {},
   "outputs": [
    {
     "data": {
      "text/plain": [
       "array([1., 1.])"
      ]
     },
     "execution_count": 49,
     "metadata": {},
     "output_type": "execute_result"
    }
   ],
   "source": [
    "data / data"
   ]
  },
  {
   "cell_type": "code",
   "execution_count": 50,
   "id": "b7192cf5-0587-4fb1-9a5c-52a29ad5c13b",
   "metadata": {},
   "outputs": [
    {
     "data": {
      "text/plain": [
       "10"
      ]
     },
     "execution_count": 50,
     "metadata": {},
     "output_type": "execute_result"
    }
   ],
   "source": [
    "a = np.array([1, 2, 3, 4])\n",
    "a.sum()"
   ]
  },
  {
   "cell_type": "code",
   "execution_count": 51,
   "id": "8e62e263-86a3-4a71-9f22-80595470f55d",
   "metadata": {},
   "outputs": [
    {
     "data": {
      "text/plain": [
       "24"
      ]
     },
     "execution_count": 51,
     "metadata": {},
     "output_type": "execute_result"
    }
   ],
   "source": [
    "# prodct of array i.e.1*2*3*4=24 \n",
    "a.prod()"
   ]
  },
  {
   "cell_type": "code",
   "execution_count": 52,
   "id": "4c5e39b0-6170-4f84-af80-6b24869fd296",
   "metadata": {},
   "outputs": [
    {
     "data": {
      "text/plain": [
       "4"
      ]
     },
     "execution_count": 52,
     "metadata": {},
     "output_type": "execute_result"
    }
   ],
   "source": [
    "a.max()"
   ]
  },
  {
   "cell_type": "code",
   "execution_count": 53,
   "id": "f2888e12-f566-415d-9f8d-6fb07e476cff",
   "metadata": {},
   "outputs": [
    {
     "data": {
      "text/plain": [
       "2.5"
      ]
     },
     "execution_count": 53,
     "metadata": {},
     "output_type": "execute_result"
    }
   ],
   "source": [
    "a.mean()"
   ]
  },
  {
   "cell_type": "code",
   "execution_count": null,
   "id": "b0598daa-b426-40c0-8f74-671666084bbf",
   "metadata": {},
   "outputs": [],
   "source": []
  },
  {
   "cell_type": "code",
   "execution_count": 54,
   "id": "156eca32-22cd-462b-9945-1b55ee1f5dd3",
   "metadata": {},
   "outputs": [
    {
     "data": {
      "text/plain": [
       "array([ 5,  8, 17, 26])"
      ]
     },
     "execution_count": 54,
     "metadata": {},
     "output_type": "execute_result"
    }
   ],
   "source": [
    "# three rows of data each containing 3 entriels i.e. 4 columns\n",
    "# Axis 0 = looking down vertically through the elements\n",
    "# axis 1 = looking horizontally across the elements\n",
    "#   C1 C2 C3 C4\n",
    "#R1 1  1  5  8\n",
    "#R2 2  2  6  10\n",
    "#R3 2  5  6  8\n",
    "b = np.array([[1, 1,5,8], [2, 2, 6, 10], [2, 5, 6, 8]])\n",
    "b.sum(axis=0)"
   ]
  },
  {
   "cell_type": "code",
   "execution_count": 55,
   "id": "0c45f6e8-91e9-4fb7-a995-4b18d7642f41",
   "metadata": {},
   "outputs": [
    {
     "data": {
      "text/plain": [
       "array([15, 20, 21])"
      ]
     },
     "execution_count": 55,
     "metadata": {},
     "output_type": "execute_result"
    }
   ],
   "source": [
    "b.sum(axis=1)"
   ]
  },
  {
   "cell_type": "markdown",
   "id": "981bae9a-31cc-4ea9-b9fc-52db970ccc3d",
   "metadata": {},
   "source": [
    "#### broadcasting\n",
    "\n",
    "NumPy understands that the multiplication should happen with each cell.<br> That concept is called broadcasting. Broadcasting is a mechanism that allows NumPy to perform operations on arrays of different shapes. <br> The dimensions of your array must be compatible, <br> for example, when the dimensions of both arrays are equal or when one of them is 1. <br> If the dimensions are not compatible, you will get a ValueError<br> "
   ]
  },
  {
   "cell_type": "code",
   "execution_count": 56,
   "id": "e53d316c-d069-4b5b-9396-f9065f0de227",
   "metadata": {},
   "outputs": [
    {
     "data": {
      "text/plain": [
       "array([[ 1.6,  3.2,  4.8,  6.4],\n",
       "       [ 8. ,  9.6, 11.2, 12.8],\n",
       "       [14.4, 16. , 17.6, 19.2]])"
      ]
     },
     "execution_count": 56,
     "metadata": {},
     "output_type": "execute_result"
    }
   ],
   "source": [
    "# e.g. convert all array elelemts from miles to km\n",
    "miles = np.array([[1, 2, 3, 4], [5, 6, 7, 8], [9, 10, 11, 12]])\n",
    "miles * 1.6"
   ]
  },
  {
   "cell_type": "code",
   "execution_count": 57,
   "id": "6a2f8376-9ad1-48e2-becf-dcbe1aea2acc",
   "metadata": {},
   "outputs": [
    {
     "data": {
      "text/plain": [
       "array([1, 2, 3, 4])"
      ]
     },
     "execution_count": 57,
     "metadata": {},
     "output_type": "execute_result"
    }
   ],
   "source": [
    "# whats the min looking top down\n",
    "miles.min(axis =0)"
   ]
  },
  {
   "cell_type": "code",
   "execution_count": 58,
   "id": "b37413c6-ab01-4848-99f2-eb0a2b68b9d3",
   "metadata": {},
   "outputs": [
    {
     "data": {
      "text/plain": [
       "array([1, 5, 9])"
      ]
     },
     "execution_count": 58,
     "metadata": {},
     "output_type": "execute_result"
    }
   ],
   "source": [
    "# whats the min looking across\n",
    "miles.min(axis =1)"
   ]
  },
  {
   "cell_type": "markdown",
   "id": "e6a4e245-32e2-4123-8d76-6f36625253c6",
   "metadata": {},
   "source": [
    "<br>\n",
    "\n",
    "#### creating matrices from arrays\n",
    "https://www.programiz.com/python-programming/matrix"
   ]
  },
  {
   "cell_type": "code",
   "execution_count": 59,
   "id": "7469256b-a914-4bfd-b063-dacda6540210",
   "metadata": {},
   "outputs": [
    {
     "data": {
      "text/plain": [
       "2"
      ]
     },
     "execution_count": 59,
     "metadata": {},
     "output_type": "execute_result"
    }
   ],
   "source": [
    " #array([[1, 2,1],\n",
    "      # [3, 10,1],\n",
    "      # [5, 6,1]])\n",
    "    \n",
    "data = np.array([[1, 2,1], [3, 10,1], [5, 6,1]])\n",
    "# 1st row, 2nd value from left\n",
    "data[0, 1]"
   ]
  },
  {
   "cell_type": "code",
   "execution_count": 60,
   "id": "6e5c34ba-081f-40f9-9749-fada98c82da8",
   "metadata": {},
   "outputs": [
    {
     "data": {
      "text/plain": [
       "array([1, 3, 5])"
      ]
     },
     "execution_count": 60,
     "metadata": {},
     "output_type": "execute_result"
    }
   ],
   "source": [
    "# 1st, 2nd and 3rd row (0,1,2) - 1st element in each\n",
    "data[0:3, 0]"
   ]
  },
  {
   "cell_type": "code",
   "execution_count": 61,
   "id": "3fd0d776-dde6-4aa9-933c-ab02f1d1fd3b",
   "metadata": {},
   "outputs": [
    {
     "data": {
      "text/plain": [
       "array([1, 1, 1])"
      ]
     },
     "execution_count": 61,
     "metadata": {},
     "output_type": "execute_result"
    }
   ],
   "source": [
    "data[0:3, 2]"
   ]
  },
  {
   "cell_type": "code",
   "execution_count": 62,
   "id": "391c6a15-acf8-41ad-b8ce-06f3dc63afda",
   "metadata": {},
   "outputs": [
    {
     "data": {
      "text/plain": [
       "10"
      ]
     },
     "execution_count": 62,
     "metadata": {},
     "output_type": "execute_result"
    }
   ],
   "source": [
    "data.max()"
   ]
  },
  {
   "cell_type": "code",
   "execution_count": 63,
   "id": "ac88f610-3dd2-4dcb-887a-e77e1021462c",
   "metadata": {},
   "outputs": [
    {
     "data": {
      "text/plain": [
       "array([ 5, 10,  1])"
      ]
     },
     "execution_count": 63,
     "metadata": {},
     "output_type": "execute_result"
    }
   ],
   "source": [
    "# axis =0 analyses the array vertically (look down each column)\n",
    "data.max(axis=0)"
   ]
  },
  {
   "cell_type": "code",
   "execution_count": 64,
   "id": "4b87288e-831a-4f56-b0a2-f8fe9a06ef80",
   "metadata": {},
   "outputs": [
    {
     "data": {
      "text/plain": [
       "array([ 2, 10,  6])"
      ]
     },
     "execution_count": 64,
     "metadata": {},
     "output_type": "execute_result"
    }
   ],
   "source": [
    "# axis =1 analyses the array horizontally (look across each row)\n",
    "data.max(axis=1)"
   ]
  },
  {
   "cell_type": "code",
   "execution_count": 65,
   "id": "686ffe42-5471-4c5d-91c4-0f94d58d23c6",
   "metadata": {},
   "outputs": [
    {
     "data": {
      "text/plain": [
       "array([1, 1, 1])"
      ]
     },
     "execution_count": 65,
     "metadata": {},
     "output_type": "execute_result"
    }
   ],
   "source": [
    "data.min(axis=1)"
   ]
  },
  {
   "cell_type": "code",
   "execution_count": 66,
   "id": "3614e8c4-7d58-4718-9a14-b921de6d773c",
   "metadata": {},
   "outputs": [
    {
     "data": {
      "text/plain": [
       "array([[ 2,  3, 21],\n",
       "       [ 4, 11, 21],\n",
       "       [ 6,  7, 21]])"
      ]
     },
     "execution_count": 66,
     "metadata": {},
     "output_type": "execute_result"
    }
   ],
   "source": [
    "data_add = np.array([[1, 1, 20],[1, 1, 20], [1, 1,20]])\n",
    "data+data_add"
   ]
  },
  {
   "cell_type": "markdown",
   "id": "f23d6e94-c2f8-4520-95ce-13c835b127d1",
   "metadata": {},
   "source": [
    "<br>\n",
    "\n",
    "#### Random Number Generation with NumPy\n",
    "[NumPy Random Number Generator](https://numpy.org/doc/stable/reference/random/generated/numpy.random.Generator.integers.html#numpy.random.Generator.integers) <br>\n",
    "[W3 Schools]('https://www.w3schools.com/python/numpy/numpy_random.asp') <br>\n",
    "[PythonGuides]('https://pythonguides.com/python-numpy-random/')"
   ]
  },
  {
   "cell_type": "markdown",
   "id": "513e61e5-14bb-4852-8f67-74b746a7705b",
   "metadata": {},
   "source": [
    "<br>\n",
    "\n",
    "#### What is random number in python numpy?\n",
    "Random numbers are the numbers that return a random integer.<br> The random number does not mean a different number every time.<br> Random means something that cannot be predicted logically.<br>Python numpy random\n",
    "In Python random is a module that is available in the NumPy library. <br> This module returns an array of specified shapes and fills it with random floats and integers.<br> \n",
    "It is based on pseudo-random number generation that means it is a mathematical way that generates a sequence of nearly random numbers<br> \n",
    "In Python, the numpy library provides a module called random that will help the user to generate a random number.<br> \n",
    "In Python, the randint() function always returns a random integer number between the lower and the higher limits these both limits are the parameters of the randint() function.<br> \n",
    "\n",
    "https://pythonguides.com/python-numpy-random/\n",
    "\n",
    "https://numpy.org/doc/1.16/reference/routines.random.html\n",
    "\n",
    "\n",
    "- rand(d0, d1, …, dn) *Random values in a given shape.<br>\n",
    "randn(d0, d1, …, dn)Return a sample (or samples) from the “standard normal” distribution.<br>\n",
    "randint('low[, high, size, dtype]')Return random integers from low (inclusive) to high (exclusive).<br>\n",
    "random_integers(low[, high, size])Random integers of type np.int between low and high, inclusive.<br>\n",
    "random_sample([size])Return random floats in the half-open interval [0.0, 1.0). <br>\n",
    "random([size]) Return random floats in the half-open interval [0.0, 1.0).<br>\n",
    "ranf([size]) Return random floats in the half-open interval [0.0, 1.0).<br>\n",
    "sample([size]) Return random floats in the half-open interval [0.0, 1.0).<br>\n",
    "choice(a[, size, replace, p]) Generates a random sample from a given 1-D array<br>\n",
    "bytes(length) Return random bytes.<br>\n",
    "\n",
    "https://medium.com/analytics-vidhya/numpy-random-module-numpy-random-examples-cec1b531c1b8\n"
   ]
  },
  {
   "attachments": {
    "6f74aa5e-4021-477a-b992-b9529826c080.png": {
     "image/png": "[encoded data removed]"
    }
   },
   "cell_type": "markdown",
   "id": "4c3e5681-5be1-49f1-8a85-f3b8bb72a877",
   "metadata": {},
   "source": [
    "![image.png](attachment:6f74aa5e-4021-477a-b992-b9529826c080.png)! https://numpy.org/doc/stable/_images/numpy-random-normal-1_00_00.png"
   ]
  },
  {
   "cell_type": "code",
   "execution_count": 67,
   "id": "799a0100-8482-4447-ae38-17d6064c69fc",
   "metadata": {},
   "outputs": [
    {
     "data": {
      "text/plain": [
       "array([1., 1., 1.])"
      ]
     },
     "execution_count": 67,
     "metadata": {},
     "output_type": "execute_result"
    }
   ],
   "source": [
    "np.ones(3)"
   ]
  },
  {
   "cell_type": "code",
   "execution_count": 68,
   "id": "5edc94a4-197a-4f39-8e20-d177c5aba040",
   "metadata": {},
   "outputs": [
    {
     "data": {
      "text/plain": [
       "array([0., 0., 0.])"
      ]
     },
     "execution_count": 68,
     "metadata": {},
     "output_type": "execute_result"
    }
   ],
   "source": [
    "np.zeros(3)"
   ]
  },
  {
   "cell_type": "code",
   "execution_count": 69,
   "id": "c27c541d-f039-443c-b4f4-dc49412a2f6f",
   "metadata": {},
   "outputs": [
    {
     "data": {
      "text/plain": [
       "array([[0., 0., 0., 0., 0., 0.],\n",
       "       [0., 0., 0., 0., 0., 0.],\n",
       "       [0., 0., 0., 0., 0., 0.],\n",
       "       [0., 0., 0., 0., 0., 0.]])"
      ]
     },
     "execution_count": 69,
     "metadata": {},
     "output_type": "execute_result"
    }
   ],
   "source": [
    "x = np.zeros(24).reshape(4, 6)\n",
    "x"
   ]
  },
  {
   "cell_type": "markdown",
   "id": "4fd3379a-b8a4-4c78-ae01-115fba241de7",
   "metadata": {},
   "source": [
    "#### Np.randon.default_rng"
   ]
  },
  {
   "cell_type": "code",
   "execution_count": 70,
   "id": "fc84efba-df91-4409-91ca-a00bba325154",
   "metadata": {},
   "outputs": [],
   "source": [
    "#np.random.default_rng"
   ]
  },
  {
   "cell_type": "code",
   "execution_count": 71,
   "id": "c2614e2a-e485-44ab-8f5e-52ac22c0caeb",
   "metadata": {},
   "outputs": [
    {
     "data": {
      "text/plain": [
       "array([0.63696169, 0.26978671, 0.04097352])"
      ]
     },
     "execution_count": 71,
     "metadata": {},
     "output_type": "execute_result"
    }
   ],
   "source": [
    "# the simplest way to generate random numbers\n",
    "#Note remains the same random numbers until kernel is reset\n",
    "rng = np.random.default_rng(0)\n",
    "rng.random(3)"
   ]
  },
  {
   "cell_type": "code",
   "execution_count": 72,
   "id": "738de987-1f92-4906-be84-cf0b0dcf16c6",
   "metadata": {},
   "outputs": [
    {
     "name": "stdout",
     "output_type": "stream",
     "text": [
      "Generator(PCG64)\n"
     ]
    }
   ],
   "source": [
    "#rng is random number generator\n",
    "rng = np.random.default_rng(12345)\n",
    "print(rng)"
   ]
  },
  {
   "cell_type": "markdown",
   "id": "176029ce-6f0a-483a-8455-b040873c970e",
   "metadata": {},
   "source": [
    "#### Return Arrays of random integers"
   ]
  },
  {
   "cell_type": "code",
   "execution_count": 73,
   "id": "fa3e3496-3b14-4cbb-a4d5-3c291b794de5",
   "metadata": {},
   "outputs": [
    {
     "data": {
      "text/plain": [
       "array([0, 0, 0, 0, 0, 0, 0, 0, 0, 0], dtype=int64)"
      ]
     },
     "execution_count": 73,
     "metadata": {},
     "output_type": "execute_result"
    }
   ],
   "source": [
    "rng = np.random.default_rng()\n",
    "rng.integers(1, size=10)"
   ]
  },
  {
   "cell_type": "code",
   "execution_count": 74,
   "id": "e96f54df-1152-4bcf-8769-fb017d5787e4",
   "metadata": {},
   "outputs": [
    {
     "data": {
      "text/plain": [
       "array([ 9,  5,  5,  7,  8,  7, 10,  8,  5,  2], dtype=int64)"
      ]
     },
     "execution_count": 74,
     "metadata": {},
     "output_type": "execute_result"
    }
   ],
   "source": [
    "# Syntax: Max value , array size\n",
    "rng = np.random.default_rng()\n",
    "rng.integers(12, size=10)"
   ]
  },
  {
   "cell_type": "code",
   "execution_count": 75,
   "id": "0972a305-c7e6-4121-a906-5e861d67fcbc",
   "metadata": {},
   "outputs": [
    {
     "data": {
      "text/plain": [
       "array([9, 9, 9], dtype=int64)"
      ]
     },
     "execution_count": 75,
     "metadata": {},
     "output_type": "execute_result"
    }
   ],
   "source": [
    "# 'seed' the rng with a value. The assay returned is the same unless the 'seeded' value is changed\n",
    "rng = np.random.default_rng(1234)\n",
    "rints = rng.integers(low=0, high=10, size=3)\n",
    "rints"
   ]
  },
  {
   "cell_type": "code",
   "execution_count": 76,
   "id": "bc9af33c-d64a-4761-b8e2-510d621ffb45",
   "metadata": {},
   "outputs": [
    {
     "data": {
      "text/plain": [
       "array([[1, 0, 4, 0],\n",
       "       [1, 0, 1, 2]], dtype=int64)"
      ]
     },
     "execution_count": 76,
     "metadata": {},
     "output_type": "execute_result"
    }
   ],
   "source": [
    "# define the size and shape\n",
    "rng.integers(5, size=(2, 4))"
   ]
  },
  {
   "cell_type": "code",
   "execution_count": 77,
   "id": "36028bd8-a10b-4436-9352-9491b4876c8b",
   "metadata": {},
   "outputs": [
    {
     "data": {
      "text/plain": [
       "array([[0.77395605, 0.43887844, 0.85859792, 0.69736803],\n",
       "       [0.09417735, 0.97562235, 0.7611397 , 0.78606431],\n",
       "       [0.12811363, 0.45038594, 0.37079802, 0.92676499],\n",
       "       [0.64386512, 0.82276161, 0.4434142 , 0.22723872]])"
      ]
     },
     "execution_count": 77,
     "metadata": {},
     "output_type": "execute_result"
    }
   ],
   "source": [
    "# seeding\n",
    "# run it again and you get the same 'random' values in the array\n",
    "# change the seed ands re-run it: new random numbers in array\n",
    "rng = np.random.default_rng(seed=42)\n",
    "arr2 = rng.random((4, 4))\n",
    "arr2"
   ]
  },
  {
   "cell_type": "code",
   "execution_count": 78,
   "id": "51b3f868-d79a-4291-8064-a66cedea481c",
   "metadata": {},
   "outputs": [
    {
     "data": {
      "text/plain": [
       "array([ 9, 55, 88,  6, 85, 82, 27, 63, 16, 75, 70, 35,  6, 97, 44, 89, 67,\n",
       "       77, 75, 19, 36, 46, 49,  4, 54, 15, 74, 68, 92, 74, 36, 96, 41, 32,\n",
       "       90, 37,  7, 46, 79, 18, 46, 12, 68, 47, 33, 22, 56, 66, 94, 43, 16,\n",
       "       83, 62, 70,  9, 31, 76, 83, 43, 80, 84, 38, 89, 28, 23, 68, 63, 13,\n",
       "       83, 19, 80,  0, 79, 78, 78, 66, 47, 70, 27, 78, 55, 45, 50, 56,  3,\n",
       "       13, 24, 11, 43, 66, 65, 47, 85, 56,  7, 76, 57, 63, 56, 55],\n",
       "      dtype=int64)"
      ]
     },
     "execution_count": 78,
     "metadata": {},
     "output_type": "execute_result"
    }
   ],
   "source": [
    "rng.integers(100, size=100)"
   ]
  },
  {
   "cell_type": "code",
   "execution_count": 79,
   "id": "448b79bf-be13-457e-8b62-aa77d3895e9d",
   "metadata": {},
   "outputs": [
    {
     "data": {
      "text/plain": [
       "array([ 9, 55, 79, ..., 92, 28, 51], dtype=int64)"
      ]
     },
     "execution_count": 79,
     "metadata": {},
     "output_type": "execute_result"
    }
   ],
   "source": [
    "x = rng.integers(100, size=10000)\n",
    "x"
   ]
  },
  {
   "cell_type": "code",
   "execution_count": 80,
   "id": "fb13f22c-23b5-406d-9dcc-f52e8b15b1ac",
   "metadata": {},
   "outputs": [
    {
     "data": {
      "text/plain": [
       "array([29, 26, 21, 28, 23])"
      ]
     },
     "execution_count": 80,
     "metadata": {},
     "output_type": "execute_result"
    }
   ],
   "source": [
    "# syntax: lowest number, highest number, array size to return\n",
    "import random\n",
    "result = np.random.randint(20,30,5)\n",
    "result"
   ]
  },
  {
   "cell_type": "code",
   "execution_count": 81,
   "id": "2b5325c8-57da-4f87-99ec-31aa423738d1",
   "metadata": {},
   "outputs": [
    {
     "name": "stdout",
     "output_type": "stream",
     "text": [
      "[21 24 28 23 29]\n"
     ]
    }
   ],
   "source": [
    "# numpy random function can create a random mumber without restart kernel\n",
    "from numpy import random\n",
    "x= random.randint(20,30,5)\n",
    "print(x)"
   ]
  },
  {
   "cell_type": "markdown",
   "id": "5660cd57-f537-4690-9145-d5f9db447423",
   "metadata": {},
   "source": [
    "#### randrange\n",
    "##### return an integer"
   ]
  },
  {
   "cell_type": "code",
   "execution_count": 96,
   "id": "7854e5ce-7cef-48da-9556-d9387836cce9",
   "metadata": {},
   "outputs": [],
   "source": [
    "#returns an integerfrom random import randrange\n",
    "#from numpy.random import randrange\n",
    "#print(randrange(20))"
   ]
  },
  {
   "cell_type": "markdown",
   "id": "20c96ee8-9749-41bc-bcb6-f7c97cd0ff55",
   "metadata": {},
   "source": [
    "#### random float\n",
    "***"
   ]
  },
  {
   "cell_type": "code",
   "execution_count": 85,
   "id": "95f23cf9-0bfe-4203-b002-a16156bbc6d6",
   "metadata": {},
   "outputs": [
    {
     "name": "stdout",
     "output_type": "stream",
     "text": [
      "0.15321911180017644\n"
     ]
    }
   ],
   "source": [
    "# if don't require a whole number (integer) numpy can return a random float\n",
    "val = random.rand()\n",
    "print (val)"
   ]
  },
  {
   "cell_type": "code",
   "execution_count": null,
   "id": "00d51ce9-162b-4bbe-afc3-53394fcf41ca",
   "metadata": {},
   "outputs": [],
   "source": []
  },
  {
   "cell_type": "markdown",
   "id": "db67fbc7-98f6-4a71-ba8f-5820577b9b3d",
   "metadata": {},
   "source": [
    "#### generate a randon number from an array random.choice"
   ]
  },
  {
   "cell_type": "code",
   "execution_count": 86,
   "id": "52568735-3245-4285-853c-b01275faf32d",
   "metadata": {},
   "outputs": [
    {
     "data": {
      "text/plain": [
       "40"
      ]
     },
     "execution_count": 86,
     "metadata": {},
     "output_type": "execute_result"
    }
   ],
   "source": [
    "# returns one of the array elements- once re-run\n",
    "val = random.choice([40,5,66,8])\n",
    "val"
   ]
  },
  {
   "cell_type": "code",
   "execution_count": 87,
   "id": "e70c293b-bc4c-4db8-bde7-7522d1ef83ec",
   "metadata": {},
   "outputs": [
    {
     "name": "stdout",
     "output_type": "stream",
     "text": [
      " The random number is : \n",
      "9\n"
     ]
    }
   ],
   "source": [
    "random_num = np.random.choice(18)\n",
    "print (\" The random number is : \")\n",
    "print (random_num)"
   ]
  },
  {
   "cell_type": "markdown",
   "id": "7168c989-fff6-41ce-a9d4-95509fe542e0",
   "metadata": {},
   "source": [
    "#### Numpy Random.Randn"
   ]
  },
  {
   "cell_type": "code",
   "execution_count": 88,
   "id": "312b64ef-0d56-4551-aca4-27b70b3f5a50",
   "metadata": {},
   "outputs": [
    {
     "name": "stdout",
     "output_type": "stream",
     "text": [
      " The random numbers are: \n",
      "\n",
      "\n",
      "[ 1.28109597 -1.05092922 -0.76157204 -0.12002033 -0.77084933 -0.48084497\n",
      "  0.86467349 -0.20967352 -0.26352172  0.14230954  0.93069023  1.34050824\n",
      "  1.17835353  1.48035823  0.89826965  0.16355251 -0.77382917 -0.05380816]\n"
     ]
    }
   ],
   "source": [
    "random_num = np.random.randn(18)\n",
    "print (\" The random numbers are: \\n\\n\")\n",
    "print (random_num)"
   ]
  },
  {
   "cell_type": "code",
   "execution_count": 89,
   "id": "0f832e1b-05c6-4267-a9b9-303a8111f83a",
   "metadata": {},
   "outputs": [
    {
     "name": "stdout",
     "output_type": "stream",
     "text": [
      " The following are a random sample of numbers: \n",
      "\n",
      "\n",
      "[0.0939478  0.62753322 0.85109057 0.39548678 0.19249474 0.16903809\n",
      " 0.41687627 0.93676214 0.14457567 0.96469118 0.48832658 0.13091651\n",
      " 0.03484132 0.82568907 0.13475619 0.34098297 0.98361323 0.12089716]\n"
     ]
    }
   ],
   "source": [
    "random_num = np.random.random_sample(18)\n",
    "print (\" The following are a random sample of numbers: \\n\\n\")\n",
    "print (random_num)"
   ]
  },
  {
   "cell_type": "code",
   "execution_count": 90,
   "id": "dc1c3cf7-42be-4fde-9dbd-1cd50bd0f0f9",
   "metadata": {},
   "outputs": [
    {
     "name": "stdout",
     "output_type": "stream",
     "text": [
      " The following is an array of specified size filled with random numbers: \n",
      "\n",
      "\n",
      "[0.36002827 0.96945195 0.04884966 0.09476883 0.47547518 0.34144186\n",
      " 0.02423858 0.56806085 0.36964828 0.24513267]\n"
     ]
    }
   ],
   "source": [
    "random_num = np.random.uniform(0,1,10)\n",
    "print (\" The following is an array of specified size filled with random numbers: \\n\\n\")\n",
    "print (random_num)"
   ]
  },
  {
   "cell_type": "code",
   "execution_count": 91,
   "id": "391c610e-9757-4aa2-b892-d4b9394d71f5",
   "metadata": {},
   "outputs": [
    {
     "name": "stdout",
     "output_type": "stream",
     "text": [
      "[ 3 22 22  7 17 10  9 17  1  8]\n"
     ]
    }
   ],
   "source": [
    "random_num = np.random.randint(30, size=10)\n",
    "print (random_num)"
   ]
  },
  {
   "cell_type": "code",
   "execution_count": 92,
   "id": "d91ad0d8-2d8d-4d1e-9366-ed2d39177d95",
   "metadata": {},
   "outputs": [
    {
     "name": "stdout",
     "output_type": "stream",
     "text": [
      "[[10 11 22 23 10 24  9  5 12 11]\n",
      " [ 5  7 11 26  1 13  8 16  7 29]\n",
      " [16  7 10  9 10 13 10 29 10  7]\n",
      " [ 0 16 16 17 21 13 11  5 16 17]\n",
      " [24  6  3 10 11 27 10  2  2 19]\n",
      " [ 8 28 20 25 16 23  0 27 23  6]\n",
      " [15 22 25  6 13 19 25 21 17 11]\n",
      " [23 11 19  7  8 23 10 16 19  3]]\n"
     ]
    }
   ],
   "source": [
    "# create an array of randint\n",
    "random_num = np.random.randint(30, size=(8,10))\n",
    "print (random_num)"
   ]
  },
  {
   "cell_type": "markdown",
   "id": "61988d70-7129-4896-8d3a-b8a4ec06970b",
   "metadata": {},
   "source": [
    "#### Seeding (Python Numpy Random Seed)\n",
    "\n",
    "Numpy random seed is used to set the seed and to generate pseudo-random numbers. <br> A pseudo-random number is a number that sorts random, but they are not really random.<br>\n",
    "In Python, the seed value is the previous value implemented by the generator. <br>If there is no previous value then NumPy uses the working system time.<br>\n",
    "Rationale for the random seed is to get the same set of random numbers for the given seed.<br>"
   ]
  },
  {
   "cell_type": "code",
   "execution_count": 93,
   "id": "b08b959b-cfec-4307-b291-9eb2429c45e3",
   "metadata": {},
   "outputs": [
    {
     "name": "stdout",
     "output_type": "stream",
     "text": [
      "5\n"
     ]
    }
   ],
   "source": [
    "np.random.seed(5)\n",
    "new_val = np.random.randint(2,6)\n",
    "print(new_val)"
   ]
  },
  {
   "cell_type": "markdown",
   "id": "d69e6d08-b839-491a-a92e-b82a6e6e4f4a",
   "metadata": {},
   "source": [
    "# Randint"
   ]
  },
  {
   "attachments": {
    "ddbbb889-0eb9-447b-a2ad-222c2a754b72.png": {
     "image/png": "[encoded data removed]"
    }
   },
   "cell_type": "markdown",
   "id": "3227b535-dc6f-45b5-a283-bc2de4adc04c",
   "metadata": {},
   "source": [
    "https://medium.com/analytics-vidhya/numpy-random-module-numpy-random-examples-cec1b531c1b8\n",
    "\n",
    "Generating Random Integer\n",
    "**numpy.random.randint** *syntax: (low, high=None, size=None, dtype=int)*\n",
    "- Returns a random number from low(inclusive) to high(exclusive)\n",
    "- Low can be an Integer of Array\n",
    "- if high = None returns result from [0,low) else [low,high)\n",
    "\n",
    "e.g. randint(3,[4,5,6])\n",
    "return an array with lower bound 3 and upper bound any of (4,5,6)<br>\n",
    "<img src = 'attachment:ddbbb889-0eb9-447b-a2ad-222c2a754b72.png' width=400>\n",
    "\n"
   ]
  },
  {
   "cell_type": "code",
   "execution_count": 100,
   "id": "3394a7d7-f9c1-4213-910e-f9942969d4a1",
   "metadata": {},
   "outputs": [],
   "source": [
    "from numpy.random import randint"
   ]
  },
  {
   "cell_type": "code",
   "execution_count": 104,
   "id": "cbb03b5f-5a9f-48f7-81a4-5092e76db338",
   "metadata": {},
   "outputs": [
    {
     "data": {
      "text/plain": [
       "array([3, 4, 8])"
      ]
     },
     "execution_count": 104,
     "metadata": {},
     "output_type": "execute_result"
    }
   ],
   "source": [
    "# create an array as square brackets. Lower value exclusive is 3 upper value is 4,8,10\n",
    "#i.e. 1st value outputted in array will always be 3 as low is 3 upper is 4\n",
    "randint(3,[4,8,10])"
   ]
  },
  {
   "cell_type": "code",
   "execution_count": 115,
   "id": "0e9dca2d-32d6-41d3-8a4f-d4e0783378b4",
   "metadata": {},
   "outputs": [
    {
     "data": {
      "text/plain": [
       "array([[ 1,  3,  3],\n",
       "       [ 4, 16,  4]])"
      ]
     },
     "execution_count": 115,
     "metadata": {},
     "output_type": "execute_result"
    }
   ],
   "source": [
    "# returns two rows (array)\n",
    "# 1st row is L= 1,2,3 H = 4\n",
    "#2nd row  L= 1,2,3, H= 20\n",
    "randint([1,2,3],[[4],[20]])"
   ]
  },
  {
   "cell_type": "code",
   "execution_count": null,
   "id": "8018fadf-4506-4a66-857d-825e61a0919d",
   "metadata": {},
   "outputs": [],
   "source": []
  },
  {
   "cell_type": "code",
   "execution_count": null,
   "id": "3773e27b-2037-4130-9f65-b598ad9efe99",
   "metadata": {},
   "outputs": [],
   "source": []
  },
  {
   "cell_type": "code",
   "execution_count": null,
   "id": "ae56ada2-8e93-42de-bcd9-1f09257c227e",
   "metadata": {},
   "outputs": [],
   "source": []
  },
  {
   "cell_type": "code",
   "execution_count": null,
   "id": "5f0842ad-a9c9-4d84-8abb-395ddfba9552",
   "metadata": {},
   "outputs": [],
   "source": []
  },
  {
   "cell_type": "code",
   "execution_count": null,
   "id": "64b7578c-89fd-4043-884d-3da3187a72ba",
   "metadata": {},
   "outputs": [],
   "source": [
    "import matplotlib.pyplot as plt"
   ]
  },
  {
   "cell_type": "code",
   "execution_count": null,
   "id": "65483ef2-d487-43d1-805f-79370dd24f56",
   "metadata": {},
   "outputs": [],
   "source": [
    "#matplotlib inline # magic command if histogram doesn't show\n",
    "plt.hist(x)\n",
    "plt.show() # may not be needed but again insert if not showing in notebook"
   ]
  },
  {
   "cell_type": "markdown",
   "id": "443e2f3d-9a8b-43ae-8207-706908e7b5ab",
   "metadata": {},
   "source": [
    "[essential tips for writing with Jupyter Notebooks](https://towardsdatascience.com/7-essential-tips-for-writing-with-jupyter-notebook-60972a1a8901)"
   ]
  },
  {
   "cell_type": "code",
   "execution_count": null,
   "id": "e18af704-9fd2-45fa-8885-564630f3a7ae",
   "metadata": {},
   "outputs": [],
   "source": []
  }
 ],
 "metadata": {
  "kernelspec": {
   "display_name": "Python 3",
   "language": "python",
   "name": "python3"
  },
  "language_info": {
   "codemirror_mode": {
    "name": "ipython",
    "version": 3
   },
   "file_extension": ".py",
   "mimetype": "text/x-python",
   "name": "python",
   "nbconvert_exporter": "python",
   "pygments_lexer": "ipython3",
   "version": "3.8.8"
  }
 },
 "nbformat": 4,
 "nbformat_minor": 5
}
