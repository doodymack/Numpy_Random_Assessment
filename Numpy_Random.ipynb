{
 "cells": [
  {
   "cell_type": "markdown",
   "id": "8090831b-db6f-423e-84c1-1eb203379ea3",
   "metadata": {},
   "source": [
    "# The Numpy.random package\n",
    "\n",
    "***\n"
   ]
  },
  {
   "cell_type": "markdown",
   "id": "c303ad68-3cc4-4ca0-b87f-6e17d169b28d",
   "metadata": {},
   "source": [
    "1. Explain the overall purpose of the package.\n",
    "2. Explain the use of the “Simple random data” and “Permutations” functions.\n",
    "3. Explain the use and purpose of at least five “Distributions” functions.\n",
    "4. Explain the use of seeds in generating pseudorandom numbers"
   ]
  },
  {
   "cell_type": "markdown",
   "id": "ea2d0efb-73ea-4907-b886-2c0412b2a444",
   "metadata": {},
   "source": [
    "NumPy (Numerical Python) is an open source Python library that’s used in almost every field of science and engineering. It’s the universal standard for working with numerical data in Python, and it’s at the core of the scientific Python and PyData ecosystems. NumPy users include everyone from beginning coders to experienced researchers doing state-of-the-art scientific and industrial research and development. The NumPy API is used extensively in Pandas, SciPy, Matplotlib, scikit-learn, scikit-image and most other data science and scientific Python package.\n",
    "\n",
    "To access NumPy and its functions it can be imported into your Python code like this:\n",
    "\n",
    "import numpy as np\n",
    "\n",
    "The imported name is shortened to np for better readability of code using NumPy. This is a widely adopted convention that you should follow so that anyone working with your code can easily understand it.\n",
    "\n",
    "#### Arrays in numpy\n",
    "While a Python list can contain different data types within a single list, all of the elements in a NumPy array should be homogeneous.\n",
    "NumPy arrays are faster and more compact than Python lists. An array consumes less memory and is convenient to use. NumPy uses much less memory to store data and it provides a mechanism of specifying the data types. This allows the code to be optimized even further.\n",
    "\n",
    "#### what is an array in numpy\n",
    "An array is a central data structure of the NumPy library. An array is a grid of values and it contains information about the raw data, how to locate an element, and how to interpret an element. It has a grid of elements that can be indexed in various ways. The elements are all of the same type, referred to as the array dtype.\n",
    "\n",
    "An array can be indexed by a tuple of nonnegative integers, by booleans, by another array, or by integers. The rank of the array is the number of dimensions. The shape of the array is a tuple of integers giving the size of the array along each dimension."
   ]
  },
  {
   "cell_type": "markdown",
   "id": "fe6740cb-3687-4bae-974b-d63459fe8c96",
   "metadata": {},
   "source": [
    "[NumPy for absolute beginners](https://numpy.org/doc/stable/user/absolute_beginners.html)"
   ]
  },
  {
   "cell_type": "markdown",
   "id": "f6fdc481-6752-42f0-a074-a9eef52361e5",
   "metadata": {},
   "source": [
    "#### examples of arrays"
   ]
  },
  {
   "cell_type": "code",
   "execution_count": 1,
   "id": "5c6c00ca-1a73-49bb-bac9-0679c6eb5380",
   "metadata": {},
   "outputs": [],
   "source": [
    "import numpy as np"
   ]
  },
  {
   "cell_type": "code",
   "execution_count": 2,
   "id": "3d6a2c26-c223-4b9b-9669-be398403e429",
   "metadata": {},
   "outputs": [],
   "source": [
    "a = np.array([1, 2, 3])"
   ]
  },
  {
   "cell_type": "code",
   "execution_count": 3,
   "id": "03ddf942-a682-4232-94e8-09b347381839",
   "metadata": {},
   "outputs": [],
   "source": [
    "a = np.array([[1, 2, 3, 4], [5, 6, 7, 8], [9, 10, 11, 12]])"
   ]
  },
  {
   "cell_type": "markdown",
   "id": "62c3a567-8e03-4acb-a81b-30c12895c6af",
   "metadata": {},
   "source": [
    "We can access the elements in the array using square brackets. When you’re accessing elements, remember that indexing in NumPy starts at 0. That means that if you want to access the first element in your array, you’ll be accessing element “0”."
   ]
  },
  {
   "cell_type": "code",
   "execution_count": 4,
   "id": "10d45dfc-4ca9-49a3-81f6-59e2ab726df3",
   "metadata": {},
   "outputs": [
    {
     "name": "stdout",
     "output_type": "stream",
     "text": [
      "[5 6 7 8]\n"
     ]
    }
   ],
   "source": [
    "print(a[1])"
   ]
  },
  {
   "cell_type": "markdown",
   "id": "4f41631f-c7bc-49fb-9982-48816a3b9f1e",
   "metadata": {},
   "source": [
    "we can define an array without manually creating it"
   ]
  },
  {
   "cell_type": "code",
   "execution_count": 5,
   "id": "f946632c-ed18-44f3-9f53-28d6573d5503",
   "metadata": {},
   "outputs": [
    {
     "data": {
      "text/plain": [
       "array([0., 0., 0., 0., 0., 0., 0., 0., 0., 0., 0.])"
      ]
     },
     "execution_count": 5,
     "metadata": {},
     "output_type": "execute_result"
    }
   ],
   "source": [
    "# works with 'ones' also\n",
    "np.zeros(11)"
   ]
  },
  {
   "cell_type": "code",
   "execution_count": 6,
   "id": "60983402-7a19-4f6f-95d2-6cfc52c9f11d",
   "metadata": {},
   "outputs": [
    {
     "data": {
      "text/plain": [
       "array([2.12199579e-314, 2.11387788e-307, 4.20943930e-321, 1.03977794e-311,\n",
       "       1.29061618e-306])"
      ]
     },
     "execution_count": 6,
     "metadata": {},
     "output_type": "execute_result"
    }
   ],
   "source": [
    "#create an array with randon floats of a specified number \n",
    "#randomised- restart kernel to create new random numbers#\n",
    "np.empty(5)"
   ]
  },
  {
   "cell_type": "code",
   "execution_count": 7,
   "id": "c6b83b3b-b3f0-413e-b236-ccf2f4150b84",
   "metadata": {},
   "outputs": [
    {
     "data": {
      "text/plain": [
       "array([ 0,  1,  2,  3,  4,  5,  6,  7,  8,  9, 10, 11, 12, 13, 14, 15, 16,\n",
       "       17, 18, 19, 20, 21, 22, 23, 24, 25, 26, 27, 28, 29, 30, 31, 32, 33,\n",
       "       34, 35, 36, 37, 38, 39])"
      ]
     },
     "execution_count": 7,
     "metadata": {},
     "output_type": "execute_result"
    }
   ],
   "source": [
    "# create an array with 40 elements\n",
    "np.arange(40)"
   ]
  },
  {
   "cell_type": "code",
   "execution_count": 19,
   "id": "d88424ba-8d08-4f04-bdac-90c3c02df910",
   "metadata": {},
   "outputs": [
    {
     "data": {
      "text/plain": [
       "array([ 2,  4,  6,  8, 10, 12, 14, 16, 18, 20, 22, 24, 26, 28, 30, 32])"
      ]
     },
     "execution_count": 19,
     "metadata": {},
     "output_type": "execute_result"
    }
   ],
   "source": [
    "# specify the first number, last number, and the step size\n",
    "np.arange(2,33,2)"
   ]
  },
  {
   "cell_type": "code",
   "execution_count": 23,
   "id": "2ac7be92-6077-4a6a-9afa-3c96c56b9321",
   "metadata": {},
   "outputs": [
    {
     "data": {
      "text/plain": [
       "array([  2. ,  26.5,  51. ,  75.5, 100. ])"
      ]
     },
     "execution_count": 23,
     "metadata": {},
     "output_type": "execute_result"
    }
   ],
   "source": [
    "#use np.linspace() to create an array with values that are spaced linearly in a specified interval\n",
    "np.linspace(2,100, num=5)"
   ]
  },
  {
   "cell_type": "code",
   "execution_count": 26,
   "id": "d6402b63-892e-4f42-8500-dcead3691014",
   "metadata": {},
   "outputs": [
    {
     "data": {
      "text/plain": [
       "array([1, 1, 1, 1, 1, 1, 1, 1, 1, 1, 1, 1, 1, 1, 1, 1, 1, 1, 1, 1],\n",
       "      dtype=int64)"
      ]
     },
     "execution_count": 26,
     "metadata": {},
     "output_type": "execute_result"
    }
   ],
   "source": [
    "#default data type is floating point (np.float64) but if want e.g integer\n",
    "x = np.ones(20, dtype=np.int64)\n",
    "x\n",
    "#e.g. no decimal points"
   ]
  },
  {
   "cell_type": "markdown",
   "id": "5d671a18-8b2f-43d0-b66c-77fc40901bd6",
   "metadata": {},
   "source": [
    "sorting an array"
   ]
  },
  {
   "cell_type": "code",
   "execution_count": 27,
   "id": "6bbc9c8a-71ce-4011-a11a-02af65110393",
   "metadata": {},
   "outputs": [
    {
     "data": {
      "text/plain": [
       "array([2, 1, 5, 3, 7, 4, 6, 8])"
      ]
     },
     "execution_count": 27,
     "metadata": {},
     "output_type": "execute_result"
    }
   ],
   "source": [
    "# array numbers are not sorted\n",
    "arr = np.array([2, 1, 5, 3, 7, 4, 6, 8])\n",
    "arr"
   ]
  },
  {
   "cell_type": "code",
   "execution_count": 32,
   "id": "0f86bd16-99bf-4094-acbf-8138031d47b8",
   "metadata": {},
   "outputs": [
    {
     "data": {
      "text/plain": [
       "array([1, 2, 3, 4, 5, 6, 7, 8])"
      ]
     },
     "execution_count": 32,
     "metadata": {},
     "output_type": "execute_result"
    }
   ],
   "source": [
    "#array numbers are sorted by size\n",
    "arr = np.array([2, 1, 5, 3, 7, 4, 6, 8])\n",
    "np.sort(arr)"
   ]
  },
  {
   "cell_type": "markdown",
   "id": "1a82f449-97dd-42cd-aaf8-865ed723045b",
   "metadata": {},
   "source": [
    " also look-up: <br>\n",
    "*argsort*, which is an indirect sort along a specified axis, <br>\n",
    "*lexsort*, which is an indirect stable sort on multiple keys,<br>\n",
    "*searchsorted*, which will find elements in a sorted array,<br>\n",
    "*partition*, which is a partial sort<br>"
   ]
  },
  {
   "cell_type": "markdown",
   "id": "5645ef87-8c2b-46d6-835a-ace9dd37b56d",
   "metadata": {},
   "source": [
    "#### concatenation of arrays"
   ]
  },
  {
   "cell_type": "code",
   "execution_count": 35,
   "id": "2e25f7e6-faa3-4baa-b3cf-1fabb1d022c0",
   "metadata": {},
   "outputs": [
    {
     "data": {
      "text/plain": [
       "array([1, 2, 3, 4, 5, 6, 7, 8, 9])"
      ]
     },
     "execution_count": 35,
     "metadata": {},
     "output_type": "execute_result"
    }
   ],
   "source": [
    "a = np.array([1, 2, 3, 4])\n",
    "b = np.array([5, 6, 7, 8, 9])\n",
    "np.concatenate ((a,b))"
   ]
  },
  {
   "cell_type": "code",
   "execution_count": 36,
   "id": "17a34778-b891-4d6e-a3b6-e1b4f29fee13",
   "metadata": {},
   "outputs": [
    {
     "data": {
      "text/plain": [
       "array([5, 6, 7, 8, 9, 1, 2, 3, 4])"
      ]
     },
     "execution_count": 36,
     "metadata": {},
     "output_type": "execute_result"
    }
   ],
   "source": [
    "#remember the double brackets\n",
    "#new array lists elements in order called\n",
    "np.concatenate ((b,a))"
   ]
  },
  {
   "cell_type": "code",
   "execution_count": 37,
   "id": "3a4f23c6-9d17-4cb1-b182-97fc4a761a17",
   "metadata": {},
   "outputs": [
    {
     "data": {
      "text/plain": [
       "array([5, 6, 7, 8, 9, 5, 6, 7, 8, 9])"
      ]
     },
     "execution_count": 37,
     "metadata": {},
     "output_type": "execute_result"
    }
   ],
   "source": [
    "# can concatenate one of the two arrays x times\n",
    "np.concatenate ((b,b))"
   ]
  },
  {
   "cell_type": "code",
   "execution_count": 38,
   "id": "cd1d8ba3-fddf-4392-8b40-eb13b4dc9a2e",
   "metadata": {},
   "outputs": [
    {
     "data": {
      "text/plain": [
       "array([[1, 2],\n",
       "       [3, 4],\n",
       "       [5, 6]])"
      ]
     },
     "execution_count": 38,
     "metadata": {},
     "output_type": "execute_result"
    }
   ],
   "source": [
    "# concatenate two arrays of different dimensions\n",
    "x = np.array([[1, 2], [3, 4]])\n",
    "y = np.array([[5, 6]])\n",
    "np.concatenate ((x,y)) #, axis =0)"
   ]
  },
  {
   "cell_type": "markdown",
   "id": "6a4ea7e0-5c6e-4d6e-8a01-f181852c08f7",
   "metadata": {},
   "source": [
    "#### Dimensional arrays\n",
    "An N-dimensional array is simply an array with any number of dimensions.<br> A vector is an array with a single dimension (there’s no difference between row and column vectors), while a matrix refers to an array with two dimensions. "
   ]
  },
  {
   "cell_type": "code",
   "execution_count": 66,
   "id": "7e4c3534-e493-41f5-a684-97a551601d8e",
   "metadata": {},
   "outputs": [],
   "source": [
    "#dimensions within square brackets\n",
    "#see below each array in square brackets is bracketed again- three of these\n",
    "array_x = np.array([[[0, 1, 2, 3],\n",
    "                          [4, 5, 6, 7]],\n",
    "                    \n",
    "                          [[0, 1, 2, 3],\n",
    "                           [4, 5, 6, 7]],\n",
    "                    \n",
    "                    [[0 ,1 ,2, 3],\n",
    "                     [4, 5, 6, 7]]])"
   ]
  },
  {
   "cell_type": "code",
   "execution_count": 57,
   "id": "49ff9b19-e843-475c-9d47-e9f62c8a14b9",
   "metadata": {},
   "outputs": [
    {
     "data": {
      "text/plain": [
       "3"
      ]
     },
     "execution_count": 57,
     "metadata": {},
     "output_type": "execute_result"
    }
   ],
   "source": [
    "array_x.ndim"
   ]
  },
  {
   "cell_type": "code",
   "execution_count": 67,
   "id": "6b49542a-b176-4711-8245-cd74aea7451e",
   "metadata": {},
   "outputs": [
    {
     "data": {
      "text/plain": [
       "24"
      ]
     },
     "execution_count": 67,
     "metadata": {},
     "output_type": "execute_result"
    }
   ],
   "source": [
    "array_x.size"
   ]
  },
  {
   "cell_type": "code",
   "execution_count": 68,
   "id": "ca30ae37-5c41-4890-8d21-797bba0b1c36",
   "metadata": {},
   "outputs": [
    {
     "data": {
      "text/plain": [
       "(3, 2, 4)"
      ]
     },
     "execution_count": 68,
     "metadata": {},
     "output_type": "execute_result"
    }
   ],
   "source": [
    "# rows, columns\n",
    "array_x.shape"
   ]
  },
  {
   "cell_type": "markdown",
   "id": "dcf8ddcd-2049-4d62-95fe-44f135e6b6fd",
   "metadata": {},
   "source": [
    "reshape an array"
   ]
  },
  {
   "cell_type": "code",
   "execution_count": 73,
   "id": "d0f25fb8-8e14-493a-8484-ee1237bb212e",
   "metadata": {},
   "outputs": [
    {
     "data": {
      "text/plain": [
       "array([[1, 2],\n",
       "       [3, 4],\n",
       "       [5, 6]])"
      ]
     },
     "execution_count": 73,
     "metadata": {},
     "output_type": "execute_result"
    }
   ],
   "source": [
    "c= np.array([1, 2, 3,4,5,6])\n",
    "b = c.reshape(3, 2)\n",
    "b"
   ]
  },
  {
   "cell_type": "markdown",
   "id": "6ca50fa4-d4a7-49aa-b964-69b34255b83f",
   "metadata": {},
   "source": [
    "<br>\n",
    "\n",
    "#### Indexing & slicing (same as Python)"
   ]
  },
  {
   "cell_type": "code",
   "execution_count": 78,
   "id": "7bd5799e-1728-4b3e-a967-1a36bb6dda63",
   "metadata": {},
   "outputs": [],
   "source": [
    "# NumPy & Python count elements as: 0,1,2,3,4,5\n",
    "data = np.array([1, 2, 3, 4, 5, 6])"
   ]
  },
  {
   "cell_type": "code",
   "execution_count": 75,
   "id": "33a69242-926a-427e-a8dd-a420eaa82bea",
   "metadata": {},
   "outputs": [
    {
     "data": {
      "text/plain": [
       "2"
      ]
     },
     "execution_count": 75,
     "metadata": {},
     "output_type": "execute_result"
    }
   ],
   "source": [
    "data[1]"
   ]
  },
  {
   "cell_type": "code",
   "execution_count": 79,
   "id": "3cf2f4d7-7c7a-47a7-be99-be8f403c8410",
   "metadata": {},
   "outputs": [
    {
     "data": {
      "text/plain": [
       "array([2, 3, 4])"
      ]
     },
     "execution_count": 79,
     "metadata": {},
     "output_type": "execute_result"
    }
   ],
   "source": [
    "data[1:4]"
   ]
  },
  {
   "cell_type": "code",
   "execution_count": 80,
   "id": "99f041ad-b1f0-4882-a9ec-16562411ac18",
   "metadata": {},
   "outputs": [
    {
     "data": {
      "text/plain": [
       "array([4, 5, 6])"
      ]
     },
     "execution_count": 80,
     "metadata": {},
     "output_type": "execute_result"
    }
   ],
   "source": [
    "data[3:]"
   ]
  },
  {
   "cell_type": "code",
   "execution_count": 81,
   "id": "bbac4b8c-a6d7-4a7f-bf43-8f529510676d",
   "metadata": {},
   "outputs": [
    {
     "data": {
      "text/plain": [
       "array([5, 6])"
      ]
     },
     "execution_count": 81,
     "metadata": {},
     "output_type": "execute_result"
    }
   ],
   "source": [
    "data[-2:]"
   ]
  },
  {
   "cell_type": "code",
   "execution_count": 96,
   "id": "9d210006-3ee1-4c94-82fb-6ff720273bd5",
   "metadata": {},
   "outputs": [
    {
     "name": "stdout",
     "output_type": "stream",
     "text": [
      "[1 2 3 4]\n"
     ]
    }
   ],
   "source": [
    "#print all the values in the array <5\n",
    "a = np.array([[1 , 2, 3, 4], [5, 6, 7, 8], [9, 10, 11, 12]])\n",
    "print(a[a < 5])"
   ]
  },
  {
   "cell_type": "code",
   "execution_count": 88,
   "id": "cb90b7f8-631e-489e-9656-2ecb6247266e",
   "metadata": {},
   "outputs": [
    {
     "name": "stdout",
     "output_type": "stream",
     "text": [
      "[ 5  6  7  8  9 10 11 12]\n"
     ]
    }
   ],
   "source": [
    "#write a function 'greater than four'\n",
    "greater_than_four = (a >=5)\n",
    "print(a[greater_than_four])"
   ]
  },
  {
   "cell_type": "code",
   "execution_count": 90,
   "id": "5b8e85c4-74f2-4e27-a5f8-39f9b8a7e63f",
   "metadata": {},
   "outputs": [
    {
     "name": "stdout",
     "output_type": "stream",
     "text": [
      "[array([[False, False, False, False, False],\n",
      "       [ True,  True,  True,  True, False],\n",
      "       [ True,  True,  True,  True, False]])]\n"
     ]
    }
   ],
   "source": [
    "#write a function 'greater than four' returns a boolean\n",
    "greater_than_four = (a >=5)\n",
    "print([greater_than_four])"
   ]
  },
  {
   "cell_type": "code",
   "execution_count": 91,
   "id": "58501952-a554-46a4-9b74-81a98784bf01",
   "metadata": {},
   "outputs": [
    {
     "name": "stdout",
     "output_type": "stream",
     "text": [
      "[array([ 2,  4,  6,  8, 10, 12])]\n"
     ]
    }
   ],
   "source": [
    "divisible_by_2 = a[a%2==0]\n",
    "print([divisible_by_2])"
   ]
  },
  {
   "cell_type": "code",
   "execution_count": 92,
   "id": "1721a8dd-a5e7-4004-a503-7e7e28ad3426",
   "metadata": {},
   "outputs": [
    {
     "name": "stdout",
     "output_type": "stream",
     "text": [
      "[4 5 6 7 8]\n"
     ]
    }
   ],
   "source": [
    "#apply two conditions\n",
    "c = a[(a > 3) & (a < 9)]\n",
    "print(c)"
   ]
  },
  {
   "cell_type": "code",
   "execution_count": 97,
   "id": "dc88c75b-49e9-4d03-8c14-c8e436b65548",
   "metadata": {},
   "outputs": [
    {
     "name": "stdout",
     "output_type": "stream",
     "text": [
      "(array([0, 0, 0, 0], dtype=int64), array([0, 1, 2, 3], dtype=int64))\n"
     ]
    }
   ],
   "source": [
    "# imagine the [] of a stacked on top of each other\n",
    "# rows and columns then signify locations startign with row 0 and column 0 top left of dataframe\n",
    "b = np.nonzero(a < 5)\n",
    "print(b)"
   ]
  },
  {
   "cell_type": "code",
   "execution_count": null,
   "id": "3d608dd5-8967-4553-8a6b-ea8576670707",
   "metadata": {},
   "outputs": [],
   "source": []
  },
  {
   "cell_type": "code",
   "execution_count": null,
   "id": "0cf51dfb-ce2a-498b-86a9-f5a8cce5d79d",
   "metadata": {},
   "outputs": [],
   "source": []
  },
  {
   "cell_type": "markdown",
   "id": "f23d6e94-c2f8-4520-95ce-13c835b127d1",
   "metadata": {},
   "source": [
    "[NumPy Random Number Generator](https://numpy.org/doc/stable/reference/random/generated/numpy.random.Generator.integers.html#numpy.random.Generator.integers)"
   ]
  },
  {
   "cell_type": "code",
   "execution_count": null,
   "id": "799a0100-8482-4447-ae38-17d6064c69fc",
   "metadata": {},
   "outputs": [],
   "source": []
  },
  {
   "cell_type": "code",
   "execution_count": null,
   "id": "8df8f0b4-4035-4694-a6ee-29dc5d2d9f0a",
   "metadata": {},
   "outputs": [],
   "source": []
  },
  {
   "cell_type": "code",
   "execution_count": 8,
   "id": "738de987-1f92-4906-be84-cf0b0dcf16c6",
   "metadata": {},
   "outputs": [
    {
     "name": "stdout",
     "output_type": "stream",
     "text": [
      "Generator(PCG64)\n"
     ]
    }
   ],
   "source": [
    "#rng is random number generator\n",
    "rng = np.random.default_rng(12345)\n",
    "print(rng)"
   ]
  },
  {
   "cell_type": "code",
   "execution_count": 9,
   "id": "fa3e3496-3b14-4cbb-a4d5-3c291b794de5",
   "metadata": {},
   "outputs": [
    {
     "data": {
      "text/plain": [
       "array([0, 0, 0, 0, 0, 0, 0, 0, 0, 0], dtype=int64)"
      ]
     },
     "execution_count": 9,
     "metadata": {},
     "output_type": "execute_result"
    }
   ],
   "source": [
    "rng = np.random.default_rng()\n",
    "rng.integers(1, size=10)"
   ]
  },
  {
   "cell_type": "code",
   "execution_count": 10,
   "id": "e96f54df-1152-4bcf-8769-fb017d5787e4",
   "metadata": {},
   "outputs": [
    {
     "data": {
      "text/plain": [
       "array([ 5,  6,  9,  5, 10, 10,  7,  4,  8,  0], dtype=int64)"
      ]
     },
     "execution_count": 10,
     "metadata": {},
     "output_type": "execute_result"
    }
   ],
   "source": [
    "rng = np.random.default_rng()\n",
    "rng.integers(12, size=10)"
   ]
  },
  {
   "cell_type": "code",
   "execution_count": 11,
   "id": "0972a305-c7e6-4121-a906-5e861d67fcbc",
   "metadata": {},
   "outputs": [
    {
     "data": {
      "text/plain": [
       "array([6, 2, 7], dtype=int64)"
      ]
     },
     "execution_count": 11,
     "metadata": {},
     "output_type": "execute_result"
    }
   ],
   "source": [
    "rng = np.random.default_rng(12345)\n",
    "rints = rng.integers(low=0, high=10, size=3)\n",
    "rints\n"
   ]
  },
  {
   "cell_type": "code",
   "execution_count": 12,
   "id": "bc9af33c-d64a-4761-b8e2-510d621ffb45",
   "metadata": {},
   "outputs": [
    {
     "data": {
      "text/plain": [
       "array([[1, 1, 3, 3],\n",
       "       [3, 4, 1, 4]], dtype=int64)"
      ]
     },
     "execution_count": 12,
     "metadata": {},
     "output_type": "execute_result"
    }
   ],
   "source": [
    "rng.integers(5, size=(2, 4))"
   ]
  },
  {
   "cell_type": "code",
   "execution_count": 13,
   "id": "36028bd8-a10b-4436-9352-9491b4876c8b",
   "metadata": {},
   "outputs": [
    {
     "data": {
      "text/plain": [
       "array([[0.77395605, 0.43887844, 0.85859792],\n",
       "       [0.69736803, 0.09417735, 0.97562235],\n",
       "       [0.7611397 , 0.78606431, 0.12811363]])"
      ]
     },
     "execution_count": 13,
     "metadata": {},
     "output_type": "execute_result"
    }
   ],
   "source": [
    "rng = np.random.default_rng(seed=42)\n",
    "arr2 = rng.random((3, 3))\n",
    "arr2\n",
    "# run it again and you get the seame 'random' values in the array\n"
   ]
  },
  {
   "cell_type": "code",
   "execution_count": 14,
   "id": "51b3f868-d79a-4291-8064-a66cedea481c",
   "metadata": {},
   "outputs": [
    {
     "data": {
      "text/plain": [
       "array([83, 45, 50, 37, 18, 92, 78, 64, 40, 82, 54, 44, 45, 22,  9, 55, 88,\n",
       "        6, 85, 82, 27, 63, 16, 75, 70, 35,  6, 97, 44, 89, 67, 77, 75, 19,\n",
       "       36, 46, 49,  4, 54, 15, 74, 68, 92, 74, 36, 96, 41, 32, 90, 37,  7,\n",
       "       46, 79, 18, 46, 12, 68, 47, 33, 22, 56, 66, 94, 43, 16, 83, 62, 70,\n",
       "        9, 31, 76, 83, 43, 80, 84, 38, 89, 28, 23, 68, 63, 13, 83, 19, 80,\n",
       "        0, 79, 78, 78, 66, 47, 70, 27, 78, 55, 45, 50, 56,  3, 13],\n",
       "      dtype=int64)"
      ]
     },
     "execution_count": 14,
     "metadata": {},
     "output_type": "execute_result"
    }
   ],
   "source": [
    "rng.integers(100, size=100)"
   ]
  },
  {
   "cell_type": "code",
   "execution_count": 15,
   "id": "448b79bf-be13-457e-8b62-aa77d3895e9d",
   "metadata": {},
   "outputs": [],
   "source": [
    "x = rng.integers(100, size=10000)"
   ]
  },
  {
   "cell_type": "code",
   "execution_count": 16,
   "id": "64b7578c-89fd-4043-884d-3da3187a72ba",
   "metadata": {},
   "outputs": [],
   "source": [
    "import matplotlib.pyplot as plt"
   ]
  },
  {
   "cell_type": "code",
   "execution_count": 17,
   "id": "65483ef2-d487-43d1-805f-79370dd24f56",
   "metadata": {},
   "outputs": [
    {
     "ename": "SyntaxError",
     "evalue": "invalid syntax (<ipython-input-17-c72bf3f90754>, line 1)",
     "output_type": "error",
     "traceback": [
      "\u001b[1;36m  File \u001b[1;32m\"<ipython-input-17-c72bf3f90754>\"\u001b[1;36m, line \u001b[1;32m1\u001b[0m\n\u001b[1;33m    matplotlib inline # magic command if histogram dpesnt show\u001b[0m\n\u001b[1;37m               ^\u001b[0m\n\u001b[1;31mSyntaxError\u001b[0m\u001b[1;31m:\u001b[0m invalid syntax\n"
     ]
    }
   ],
   "source": [
    "matplotlib inline # magic command if histogram dpesnt show\n",
    "plt.hist(x)\n",
    "plt.show() # may not be needed but again insert if not showing in notebook"
   ]
  },
  {
   "cell_type": "markdown",
   "id": "443e2f3d-9a8b-43ae-8207-706908e7b5ab",
   "metadata": {},
   "source": [
    "[essential tips for writing with Jupyter Notebooks](https://towardsdatascience.com/7-essential-tips-for-writing-with-jupyter-notebook-60972a1a8901)"
   ]
  },
  {
   "cell_type": "code",
   "execution_count": null,
   "id": "e18af704-9fd2-45fa-8885-564630f3a7ae",
   "metadata": {},
   "outputs": [],
   "source": []
  }
 ],
 "metadata": {
  "kernelspec": {
   "display_name": "Python 3",
   "language": "python",
   "name": "python3"
  },
  "language_info": {
   "codemirror_mode": {
    "name": "ipython",
    "version": 3
   },
   "file_extension": ".py",
   "mimetype": "text/x-python",
   "name": "python",
   "nbconvert_exporter": "python",
   "pygments_lexer": "ipython3",
   "version": "3.8.8"
  }
 },
 "nbformat": 4,
 "nbformat_minor": 5
}
